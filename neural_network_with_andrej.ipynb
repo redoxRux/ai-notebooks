{
  "nbformat": 4,
  "nbformat_minor": 0,
  "metadata": {
    "colab": {
      "provenance": []
    },
    "kernelspec": {
      "name": "python3",
      "display_name": "Python 3"
    },
    "language_info": {
      "name": "python"
    }
  },
  "cells": [
    {
      "cell_type": "markdown",
      "source": [
        "## Trying to understand neural network from scratch or\n",
        "    \n",
        "trying to build autograd,\n",
        "autograd is just what implements backpropagation. we have already discussed how to calculate backpropagation and its importance in neural network, in the previous notebook. in this notebook I am trying to write a MNIST classifier in which we have to write backpropagation from scratch. we will look at next step later i guess\n",
        "\n",
        "i guess I just need to build **multi layer perceptron** lol for classification"
      ],
      "metadata": {
        "id": "0T-guGqWEmPQ"
      }
    },
    {
      "cell_type": "markdown",
      "source": [
        "Lets refresh what a derivative is"
      ],
      "metadata": {
        "id": "NdeJ-bsOMVbL"
      }
    },
    {
      "cell_type": "code",
      "execution_count": null,
      "metadata": {
        "id": "2VNcA9YSEjRt"
      },
      "outputs": [],
      "source": [
        "import math\n",
        "import numpy as np\n",
        "import matplotlib.pyplot as plt\n",
        "%matplotlib inline"
      ]
    },
    {
      "cell_type": "markdown",
      "source": [
        "lets define simple function"
      ],
      "metadata": {
        "id": "oOx5pqf3MpUe"
      }
    },
    {
      "cell_type": "code",
      "source": [
        "def f(x):\n",
        "  return 3*x**2 - 4*x + 5"
      ],
      "metadata": {
        "id": "Q_LVY4fOMhDy"
      },
      "execution_count": null,
      "outputs": []
    },
    {
      "cell_type": "code",
      "source": [
        "f(3.0)"
      ],
      "metadata": {
        "colab": {
          "base_uri": "https://localhost:8080/"
        },
        "id": "ytSzlEivMzMu",
        "outputId": "0ab8b7be-cd72-4edf-e95a-c05d9b8bbbdf"
      },
      "execution_count": null,
      "outputs": [
        {
          "output_type": "execute_result",
          "data": {
            "text/plain": [
              "20.0"
            ]
          },
          "metadata": {},
          "execution_count": 3
        }
      ]
    },
    {
      "cell_type": "code",
      "source": [
        "#lets say\n",
        "xs = np.arange(-5, 5, 0.25)\n",
        "xs"
      ],
      "metadata": {
        "colab": {
          "base_uri": "https://localhost:8080/"
        },
        "id": "S9zUmsdvNoQE",
        "outputId": "d6c951f0-e502-4c41-9c03-6c4b85a5c6a6"
      },
      "execution_count": null,
      "outputs": [
        {
          "output_type": "execute_result",
          "data": {
            "text/plain": [
              "array([-5.  , -4.75, -4.5 , -4.25, -4.  , -3.75, -3.5 , -3.25, -3.  ,\n",
              "       -2.75, -2.5 , -2.25, -2.  , -1.75, -1.5 , -1.25, -1.  , -0.75,\n",
              "       -0.5 , -0.25,  0.  ,  0.25,  0.5 ,  0.75,  1.  ,  1.25,  1.5 ,\n",
              "        1.75,  2.  ,  2.25,  2.5 ,  2.75,  3.  ,  3.25,  3.5 ,  3.75,\n",
              "        4.  ,  4.25,  4.5 ,  4.75])"
            ]
          },
          "metadata": {},
          "execution_count": 4
        }
      ]
    },
    {
      "cell_type": "code",
      "source": [
        "#lets pass xs to our function\n",
        "ys = f(xs)\n",
        "ys"
      ],
      "metadata": {
        "colab": {
          "base_uri": "https://localhost:8080/"
        },
        "id": "2DASQp0EN86T",
        "outputId": "be663523-281d-442d-e568-5f60c9d490a3"
      },
      "execution_count": null,
      "outputs": [
        {
          "output_type": "execute_result",
          "data": {
            "text/plain": [
              "array([100.    ,  91.6875,  83.75  ,  76.1875,  69.    ,  62.1875,\n",
              "        55.75  ,  49.6875,  44.    ,  38.6875,  33.75  ,  29.1875,\n",
              "        25.    ,  21.1875,  17.75  ,  14.6875,  12.    ,   9.6875,\n",
              "         7.75  ,   6.1875,   5.    ,   4.1875,   3.75  ,   3.6875,\n",
              "         4.    ,   4.6875,   5.75  ,   7.1875,   9.    ,  11.1875,\n",
              "        13.75  ,  16.6875,  20.    ,  23.6875,  27.75  ,  32.1875,\n",
              "        37.    ,  42.1875,  47.75  ,  53.6875])"
            ]
          },
          "metadata": {},
          "execution_count": 5
        }
      ]
    },
    {
      "cell_type": "markdown",
      "source": [
        "if we plot xs and ys (in terms of math books x and y)"
      ],
      "metadata": {
        "id": "BFirTv-pOVOl"
      }
    },
    {
      "cell_type": "code",
      "source": [
        "plt.plot(xs, ys)"
      ],
      "metadata": {
        "colab": {
          "base_uri": "https://localhost:8080/",
          "height": 448
        },
        "id": "ysPdGxCyOJ9h",
        "outputId": "b129d9d5-ccfb-4500-e8e9-5229005dec2d"
      },
      "execution_count": null,
      "outputs": [
        {
          "output_type": "execute_result",
          "data": {
            "text/plain": [
              "[<matplotlib.lines.Line2D at 0x7beedc1649d0>]"
            ]
          },
          "metadata": {},
          "execution_count": 6
        },
        {
          "output_type": "display_data",
          "data": {
            "text/plain": [
              "<Figure size 640x480 with 1 Axes>"
            ],
            "image/png": "[encoded data removed]"
          },
          "metadata": {}
        }
      ]
    },
    {
      "cell_type": "markdown",
      "source": [
        "now if we think of derivative"
      ],
      "metadata": {
        "id": "cAFwgVU5OpeJ"
      }
    },
    {
      "cell_type": "code",
      "source": [
        "h = 0.0001\n",
        "x = 3.0\n",
        "(f(x+h) - f(x))/ h"
      ],
      "metadata": {
        "colab": {
          "base_uri": "https://localhost:8080/"
        },
        "id": "Vcb3d5hKONaX",
        "outputId": "78358065-a64d-400f-c2a9-6e19bbb192ee"
      },
      "execution_count": null,
      "outputs": [
        {
          "output_type": "execute_result",
          "data": {
            "text/plain": [
              "14.000300000063248"
            ]
          },
          "metadata": {},
          "execution_count": 7
        }
      ]
    },
    {
      "cell_type": "markdown",
      "source": [
        "now, even if you apply 3 to derivative of function `3x^2-4x+5`, which is  `6x-4`, we get the same value which is approximately `14` and if we do x = -3 and apply it"
      ],
      "metadata": {
        "id": "C6aG7vQ-ola_"
      }
    },
    {
      "cell_type": "code",
      "source": [
        "h = 0.0001\n",
        "x = -3.0\n",
        "(f(x+h) - f(x))/ h"
      ],
      "metadata": {
        "id": "IlnUqjVdPM5w",
        "colab": {
          "base_uri": "https://localhost:8080/"
        },
        "outputId": "9e250a75-f1dc-4b7d-ca01-f9ff5f225c7c"
      },
      "execution_count": null,
      "outputs": [
        {
          "output_type": "execute_result",
          "data": {
            "text/plain": [
              "-21.999700000066014"
            ]
          },
          "metadata": {},
          "execution_count": 8
        }
      ]
    },
    {
      "cell_type": "markdown",
      "source": [
        "whcih is almost same value if apply -3 to `6x-4`.\n",
        "To understand what is slop, why slop why limit this [chat](https://chatgpt.com/share/1114fff9-b4cc-49f8-be48-2f42df9fc477) might help you.\n",
        "we have already discussed about negetive and positive slop and its impact in the previous notebook.\n",
        "\n",
        "\n",
        "I never imagined this would and this type of media would help me understand derivative so easily, i recommend all of you to watch [this](https://x.com/nominalthoughts/status/1762004749040447932)"
      ],
      "metadata": {
        "id": "_lCzH3k1qW9W"
      }
    },
    {
      "cell_type": "markdown",
      "source": [
        "###Derivative of function with multiple inputs"
      ],
      "metadata": {
        "id": "_wX5kuMwq3hX"
      }
    },
    {
      "cell_type": "markdown",
      "source": [
        "in the previous notebook i have explained how we calculate derivative of function with multiple inputs, and in the chat that I had shared you could have already seen how slight change in `w` and `b` changes output; lets dive deeper into it"
      ],
      "metadata": {
        "id": "UY-cKdWYwq5j"
      }
    },
    {
      "cell_type": "code",
      "source": [
        "h = 0.0001\n",
        "\n",
        "\n",
        "#inputs\n",
        "a = 2.0\n",
        "b = -3.0\n",
        "c = 10.0\n",
        "\n",
        "d1 = a*b + c\n",
        "a = a +h\n",
        "d2  = a * b + c\n",
        "\n",
        "print(d1)\n",
        "print(d2)"
      ],
      "metadata": {
        "id": "rRc_StWsqVwU",
        "colab": {
          "base_uri": "https://localhost:8080/"
        },
        "outputId": "de3b0ac6-dde0-437e-d25a-3e0ec236cfae"
      },
      "execution_count": null,
      "outputs": [
        {
          "output_type": "stream",
          "name": "stdout",
          "text": [
            "4.0\n",
            "3.999699999999999\n"
          ]
        }
      ]
    },
    {
      "cell_type": "markdown",
      "source": [
        "Now if you normally see, you might get a feeling that adding `h` might increase the value of d, but since b is negetive which is `-3` adding more h to a will decrease the valu [` (a + h)b +c = (2+0.0001)(-3) + 10 = 3.9999999`  ]"
      ],
      "metadata": {
        "id": "URTqxgH2zXaX"
      }
    },
    {
      "cell_type": "code",
      "source": [
        "#slop\n",
        "print('slop', (d2 - d1)/ h)"
      ],
      "metadata": {
        "id": "fduUH2kVzS2P",
        "colab": {
          "base_uri": "https://localhost:8080/"
        },
        "outputId": "805653f0-2955-4713-8791-57c462bea72b"
      },
      "execution_count": null,
      "outputs": [
        {
          "output_type": "stream",
          "name": "stdout",
          "text": [
            "slop -3.000000000010772\n"
          ]
        }
      ]
    },
    {
      "cell_type": "markdown",
      "source": [
        "So, if you see previous notebook also, the deriative of d with respect to a just gives b, where the value is already -3 (we have already discussed how to calculate this with formula in previous notebook)\n",
        "\n",
        "\n",
        "now if want to check what does b do, and how does change in value of b affects the d"
      ],
      "metadata": {
        "id": "syjcokH71Fo0"
      }
    },
    {
      "cell_type": "code",
      "source": [
        "a = 2.0\n",
        "b = -3.0\n",
        "c = 10.0\n",
        "\n",
        "d1 = a * b +c\n",
        "b = b +h\n",
        "d2  = a * b + c\n",
        "print('slop', (d2 - d1)/ h) #since a is positive increasing the value of b(actually increasing) increases slope value, and\n",
        "#also w.r.t formula derivative of d w.r.t b itself is a. so the value of a is 2.0 alrady"
      ],
      "metadata": {
        "colab": {
          "base_uri": "https://localhost:8080/"
        },
        "id": "gn9ekcIn1EOz",
        "outputId": "83a140a2-4709-43bb-931a-cbf1012b8471"
      },
      "execution_count": null,
      "outputs": [
        {
          "output_type": "stream",
          "name": "stdout",
          "text": [
            "slop 2.0000000000042206\n"
          ]
        }
      ]
    },
    {
      "cell_type": "markdown",
      "source": [
        "if we consider the case of c, if we want the derivative of d w.r.t to c, with formula its always 1. it means value of c directly resonates in d, if we bump the value of c little bit the slope according our notebook approach shoud match the value 1"
      ],
      "metadata": {
        "id": "cWd4O_ma2xEp"
      }
    },
    {
      "cell_type": "code",
      "source": [
        "a = 2.0\n",
        "b = -3.0\n",
        "c = 10.0\n",
        "\n",
        "d1 = a * b +c\n",
        "c = c +h\n",
        "d2  = a * b + c\n",
        "print('slop', (d2 - d1)/ h)"
      ],
      "metadata": {
        "colab": {
          "base_uri": "https://localhost:8080/"
        },
        "id": "MGVwokpR1zQj",
        "outputId": "0246aa07-56a7-4cb2-dbeb-9cbc9692f928"
      },
      "execution_count": null,
      "outputs": [
        {
          "output_type": "stream",
          "name": "stdout",
          "text": [
            "slop 0.9999999999976694\n"
          ]
        }
      ]
    },
    {
      "cell_type": "markdown",
      "source": [
        "##value object"
      ],
      "metadata": {
        "id": "oZQlVQ-C3dxi"
      }
    },
    {
      "cell_type": "markdown",
      "source": [
        "to hold the values we want a data-strucure, so lets create that"
      ],
      "metadata": {
        "id": "dpEJ39DFm522"
      }
    },
    {
      "cell_type": "code",
      "source": [
        "class Value:\n",
        "  def __init__(self, data, _children = (), _op = '', label = ''):\n",
        "    self.data = data\n",
        "    self.grad = 0.0\n",
        "    self._backward = lambda: None\n",
        "    self._prev = set(_children)\n",
        "    self._op = _op\n",
        "    self.label = label\n",
        "\n",
        "  def __repr__(self):\n",
        "    return f\"Value(data = {self.data})\"\n",
        "\n",
        "    '''The purpose of the __repr__ method is to provide a string representation\n",
        "       of the instance. if this method isnt used the instance of this object created\n",
        "        might have been looked like this <__main__.Value object at 0x7f8c45f5c8>'''\n",
        "\n",
        "  def __add__(self, other):\n",
        "    other = other if isinstance(other, Value) else Value(other)\n",
        "    out = Value(self.data + other.data, (self, other), '+')\n",
        "    def _backward():\n",
        "      self.grad += 1.0 * out.grad\n",
        "      other.grad += 1.0 * out.grad\n",
        "    out._backward = _backward\n",
        "    return out\n",
        "\n",
        "\n",
        "    '''  this function helps to add those two objects\n",
        "          generally we think that + add, but ot works for number\n",
        "          since we are creading a data structure,  addition +  needs to be\n",
        "          defined. so under the hood if we do a + b, it will do\n",
        "          a.__add__(b), this function wraps addition of those two\n",
        "          objects '''\n",
        "\n",
        "\n",
        "  def __mul__(self, other):\n",
        "    other = other if isinstance(other, Value) else Value(other)\n",
        "    out = Value(self.data * other.data, (self, other), '*')\n",
        "    def _backward():\n",
        "      self.grad += other.data * out.grad\n",
        "      other.grad += self.data * out.grad\n",
        "    out._backward = _backward\n",
        "    return out\n",
        "\n",
        "    '''  this method is similar to previous one but for multiplication\n",
        "         a * b  does a.__mul__(b)'''\n",
        "\n",
        "  def __pow__(self, other):\n",
        "    assert isinstance(other, (int, float)), \"only supporting int/float powers for now\"\n",
        "    out = Value(self.data**other, (self,), f'**{other}')\n",
        "\n",
        "    def _backward():\n",
        "      self.grad += other * (self.data ** (other -  1)) * out.grad\n",
        "    out._backward = _backward\n",
        "    return out\n",
        "\n",
        "  def __rmul__(self, other):\n",
        "    return self * other\n",
        "\n",
        "  def __radd__(self, other):\n",
        "    return self.__add__(other)\n",
        "\n",
        "\n",
        "  def __truediv__(self, other): #self / other\n",
        "    return self * other**-1\n",
        "\n",
        "\n",
        "  def __neg__(self):\n",
        "    return self * -1\n",
        "\n",
        "  def __sub__(self, other):\n",
        "    return self + (-other)\n",
        "\n",
        "\n",
        "  def tanh(self):\n",
        "    x = self.data\n",
        "    t = (math.exp(2*x)- 1)/(math.exp(2*x) + 1)\n",
        "    out = Value(t, (self,), 'tanh') # this method receives only one object itself, so its children is self\n",
        "    def _backward():\n",
        "      self.grad += (1- t**2) * out.grad\n",
        "    out._backward = _backward\n",
        "    return out\n",
        "    '''This method helps to get the tan of a data,\n",
        "      which acts like activation function, if you look at the graph\n",
        "      you will get the idea'''\n",
        "\n",
        "\n",
        "  def exp(self):\n",
        "    x = self.data\n",
        "    out = Value(math.exp(x), (self,), 'exp')\n",
        "    def _backward():\n",
        "      self.grad += out.data * out.grad\n",
        "    out._backward = _backward\n",
        "    return out\n",
        "\n",
        "\n",
        "  def backward(self):\n",
        "\n",
        "    topo = []\n",
        "    visited = set()\n",
        "    def build_topo(v):\n",
        "      if v not in visited:\n",
        "        visited.add(v)\n",
        "        for child in v._prev:\n",
        "          build_topo(child)\n",
        "        topo.append(v)\n",
        "    build_topo(self)\n",
        "\n",
        "    self.grad = 1.0\n",
        "    for node in reversed(topo):\n",
        "      node._backward()\n",
        "''' initally it  was  = only, each time it was overwriting, now with += it just adds'''\n"
      ],
      "metadata": {
        "id": "4qCqFdKhm5Au",
        "colab": {
          "base_uri": "https://localhost:8080/",
          "height": 35
        },
        "outputId": "bab5f11e-4396-4d56-f5d5-2b2f604b53c1"
      },
      "execution_count": null,
      "outputs": [
        {
          "output_type": "execute_result",
          "data": {
            "text/plain": [
              "' initally it  was  = only, each time it was overwriting, now with += it just adds'"
            ],
            "application/vnd.google.colaboratory.intrinsic+json": {
              "type": "string"
            }
          },
          "metadata": {},
          "execution_count": 13
        }
      ]
    },
    {
      "cell_type": "code",
      "source": [
        "a = Value(2.0)\n",
        "b = Value(4.0)\n",
        "a - b"
      ],
      "metadata": {
        "colab": {
          "base_uri": "https://localhost:8080/"
        },
        "id": "KztyfxEWnU_c",
        "outputId": "03b6a7c1-7b29-4a09-d8dd-7acf1f7edbec"
      },
      "execution_count": null,
      "outputs": [
        {
          "output_type": "execute_result",
          "data": {
            "text/plain": [
              "Value(data = -2.0)"
            ]
          },
          "metadata": {},
          "execution_count": 14
        }
      ]
    },
    {
      "cell_type": "code",
      "source": [
        " a = Value(2.0, label = 'a')\n",
        " b = Value(-3.0, label = 'b')\n",
        " c = Value(10.0, label = 'c')\n",
        " e = a * b; e.label = 'e'\n",
        " d =  e + c; d.label = 'd'\n",
        " f = Value(-2.0, label = 'f')\n",
        " L = d * f ; L.label = 'L'"
      ],
      "metadata": {
        "id": "Xxq6YVcBoN1n"
      },
      "execution_count": null,
      "outputs": []
    },
    {
      "cell_type": "markdown",
      "source": [
        "I guess, now you were able to understand why `_prev`. _prev attribute helps store  It's a set that holds references to these parent Value objects. When a new Value object is created as a result of an operation between two Value objects, the _prev attribute of the new object will contain both of the operands involved in that operation\n",
        "\n",
        "\n",
        "The `_op` attribute is a string that represents the operation that was used to create the Value object. When a new Value object is created as a result of an operation between two other Value objects, _op stores a character representing that operation—'+' for addition and '*' for multiplication.\n",
        "\n",
        "\n",
        "`grad` of value here represents derivative of L with respect to itself"
      ],
      "metadata": {
        "id": "xcQqxizdznOC"
      }
    },
    {
      "cell_type": "markdown",
      "source": [
        "In order to understand data and operations visually , lets write some code."
      ],
      "metadata": {
        "id": "l63NG0xS2anb"
      }
    },
    {
      "cell_type": "code",
      "source": [
        "# brew install graphviz\n",
        "# pip install graphviz\n",
        "from graphviz import Digraph\n",
        "\n",
        "\n",
        "def trace(root):\n",
        "  #builds a set of all nodes and edges in a graph\n",
        "  nodes, edges = set(), set()\n",
        "  def build(v):\n",
        "    if v not in nodes:\n",
        "      nodes.add(v)\n",
        "      for child in v._prev:\n",
        "        edges.add((child,v))\n",
        "        build(child)\n",
        "  build(root)\n",
        "  return nodes, edges\n",
        "\n",
        "\n",
        "def draw_dot(root):\n",
        "  dot = Digraph(format='svg', graph_attr={'rankdir': 'LR'})# LR = left to right\n",
        "\n",
        "\n",
        "\n",
        "  nodes, edges = trace(root)\n",
        "  for n in nodes:\n",
        "    uid = str(id(n))\n",
        "    #for any value in the graph, create a rectangular ('record) node for it\n",
        "    dot.node(name = uid, label = \"{%s|data %.4f}|grad %.4f\" % (n.label, n.data, n.grad ), shape='record')\n",
        "    if n._op:\n",
        "      # if this value is a result of some operation, create an op node for it\n",
        "      dot.node(name = uid + n._op, label = n._op)\n",
        "      #and connect this node to it\n",
        "      dot.edge(uid + n._op, uid)\n",
        "\n",
        "  for n1, n2 in edges:\n",
        "    #connect n1 to the op node of n2\n",
        "    dot.edge(str(id(n1)), str(id(n2)) + n2._op)\n",
        "\n",
        "  return dot\n"
      ],
      "metadata": {
        "id": "YhDaDtMszkLN"
      },
      "execution_count": null,
      "outputs": []
    },
    {
      "cell_type": "code",
      "source": [
        "draw_dot(L)"
      ],
      "metadata": {
        "colab": {
          "base_uri": "https://localhost:8080/",
          "height": 225
        },
        "id": "ZwsGUjOY208o",
        "outputId": "0ca0a609-e943-43dd-ae39-e088a46a48b3"
      },
      "execution_count": null,
      "outputs": [
        {
          "output_type": "execute_result",
          "data": {
            "image/svg+xml": "<?xml version=\"1.0\" encoding=\"UTF-8\" standalone=\"no\"?>\n<!DOCTYPE svg PUBLIC \"-//W3C//DTD SVG 1.1//EN\"\n \"http://www.w3.org/Graphics/SVG/1.1/DTD/svg11.dtd\">\n<!-- Generated by graphviz version 2.43.0 (0)\n -->\n<!-- Title: %3 Pages: 1 -->\n<svg width=\"820pt\" height=\"153pt\"\n viewBox=\"0.00 0.00 820.00 153.00\" xmlns=\"http://www.w3.org/2000/svg\" xmlns:xlink=\"http://www.w3.org/1999/xlink\">\n<g id=\"graph0\" class=\"graph\" transform=\"scale(1 1) rotate(0) translate(4 149)\">\n<title>%3</title>\n<polygon fill=\"white\" stroke=\"transparent\" points=\"-4,4 -4,-149 816,-149 816,4 -4,4\"/>\n<!-- 137096163337760 -->\n<g id=\"node1\" class=\"node\">\n<title>137096163337760</title>\n<polygon fill=\"none\" stroke=\"black\" points=\"471.5,-32.5 471.5,-78.5 574.5,-78.5 574.5,-32.5 471.5,-32.5\"/>\n<text text-anchor=\"middle\" x=\"483\" y=\"-63.3\" font-family=\"Times,serif\" font-size=\"14.00\">d</text>\n<polyline fill=\"none\" stroke=\"black\" points=\"494.5,-55.5 494.5,-78.5 \"/>\n<text text-anchor=\"middle\" x=\"534.5\" y=\"-63.3\" font-family=\"Times,serif\" font-size=\"14.00\">data 4.0000</text>\n<polyline fill=\"none\" stroke=\"black\" points=\"471.5,-55.5 574.5,-55.5 \"/>\n<text text-anchor=\"middle\" x=\"523\" y=\"-40.3\" font-family=\"Times,serif\" font-size=\"14.00\">grad 0.0000</text>\n</g>\n<!-- 137096163333968* -->\n<g id=\"node9\" class=\"node\">\n<title>137096163333968*</title>\n<ellipse fill=\"none\" stroke=\"black\" cx=\"639\" cy=\"-87.5\" rx=\"27\" ry=\"18\"/>\n<text text-anchor=\"middle\" x=\"639\" y=\"-83.8\" font-family=\"Times,serif\" font-size=\"14.00\">*</text>\n</g>\n<!-- 137096163337760&#45;&gt;137096163333968* -->\n<g id=\"edge6\" class=\"edge\">\n<title>137096163337760&#45;&gt;137096163333968*</title>\n<path fill=\"none\" stroke=\"black\" d=\"M574.67,-69.72C584.52,-72.49 594.62,-75.32 603.79,-77.9\"/>\n<polygon fill=\"black\" stroke=\"black\" points=\"603.1,-81.34 613.67,-80.67 604.99,-74.6 603.1,-81.34\"/>\n</g>\n<!-- 137096163337760+ -->\n<g id=\"node2\" class=\"node\">\n<title>137096163337760+</title>\n<ellipse fill=\"none\" stroke=\"black\" cx=\"407\" cy=\"-55.5\" rx=\"27\" ry=\"18\"/>\n<text text-anchor=\"middle\" x=\"407\" y=\"-51.8\" font-family=\"Times,serif\" font-size=\"14.00\">+</text>\n</g>\n<!-- 137096163337760+&#45;&gt;137096163337760 -->\n<g id=\"edge1\" class=\"edge\">\n<title>137096163337760+&#45;&gt;137096163337760</title>\n<path fill=\"none\" stroke=\"black\" d=\"M434.15,-55.5C442.26,-55.5 451.57,-55.5 461.02,-55.5\"/>\n<polygon fill=\"black\" stroke=\"black\" points=\"461.28,-59 471.28,-55.5 461.28,-52 461.28,-59\"/>\n</g>\n<!-- 137096163337280 -->\n<g id=\"node3\" class=\"node\">\n<title>137096163337280</title>\n<polygon fill=\"none\" stroke=\"black\" points=\"0,-98.5 0,-144.5 108,-144.5 108,-98.5 0,-98.5\"/>\n<text text-anchor=\"middle\" x=\"11.5\" y=\"-129.3\" font-family=\"Times,serif\" font-size=\"14.00\">b</text>\n<polyline fill=\"none\" stroke=\"black\" points=\"23,-121.5 23,-144.5 \"/>\n<text text-anchor=\"middle\" x=\"65.5\" y=\"-129.3\" font-family=\"Times,serif\" font-size=\"14.00\">data &#45;3.0000</text>\n<polyline fill=\"none\" stroke=\"black\" points=\"0,-121.5 108,-121.5 \"/>\n<text text-anchor=\"middle\" x=\"54\" y=\"-106.3\" font-family=\"Times,serif\" font-size=\"14.00\">grad 0.0000</text>\n</g>\n<!-- 137096163338000* -->\n<g id=\"node7\" class=\"node\">\n<title>137096163338000*</title>\n<ellipse fill=\"none\" stroke=\"black\" cx=\"171\" cy=\"-88.5\" rx=\"27\" ry=\"18\"/>\n<text text-anchor=\"middle\" x=\"171\" y=\"-84.8\" font-family=\"Times,serif\" font-size=\"14.00\">*</text>\n</g>\n<!-- 137096163337280&#45;&gt;137096163338000* -->\n<g id=\"edge5\" class=\"edge\">\n<title>137096163337280&#45;&gt;137096163338000*</title>\n<path fill=\"none\" stroke=\"black\" d=\"M108.12,-106.26C117.6,-103.54 127.23,-100.77 135.99,-98.26\"/>\n<polygon fill=\"black\" stroke=\"black\" points=\"137.16,-101.57 145.8,-95.44 135.23,-94.84 137.16,-101.57\"/>\n</g>\n<!-- 137096163337424 -->\n<g id=\"node4\" class=\"node\">\n<title>137096163337424</title>\n<polygon fill=\"none\" stroke=\"black\" points=\"470,-97.5 470,-143.5 576,-143.5 576,-97.5 470,-97.5\"/>\n<text text-anchor=\"middle\" x=\"480.5\" y=\"-128.3\" font-family=\"Times,serif\" font-size=\"14.00\">f</text>\n<polyline fill=\"none\" stroke=\"black\" points=\"491,-120.5 491,-143.5 \"/>\n<text text-anchor=\"middle\" x=\"533.5\" y=\"-128.3\" font-family=\"Times,serif\" font-size=\"14.00\">data &#45;2.0000</text>\n<polyline fill=\"none\" stroke=\"black\" points=\"470,-120.5 576,-120.5 \"/>\n<text text-anchor=\"middle\" x=\"523\" y=\"-105.3\" font-family=\"Times,serif\" font-size=\"14.00\">grad 0.0000</text>\n</g>\n<!-- 137096163337424&#45;&gt;137096163333968* -->\n<g id=\"edge7\" class=\"edge\">\n<title>137096163337424&#45;&gt;137096163333968*</title>\n<path fill=\"none\" stroke=\"black\" d=\"M576.33,-105.35C585.75,-102.62 595.35,-99.85 604.07,-97.32\"/>\n<polygon fill=\"black\" stroke=\"black\" points=\"605.23,-100.63 613.86,-94.49 603.28,-93.91 605.23,-100.63\"/>\n</g>\n<!-- 137096163328736 -->\n<g id=\"node5\" class=\"node\">\n<title>137096163328736</title>\n<polygon fill=\"none\" stroke=\"black\" points=\"2.5,-33.5 2.5,-79.5 105.5,-79.5 105.5,-33.5 2.5,-33.5\"/>\n<text text-anchor=\"middle\" x=\"14\" y=\"-64.3\" font-family=\"Times,serif\" font-size=\"14.00\">a</text>\n<polyline fill=\"none\" stroke=\"black\" points=\"25.5,-56.5 25.5,-79.5 \"/>\n<text text-anchor=\"middle\" x=\"65.5\" y=\"-64.3\" font-family=\"Times,serif\" font-size=\"14.00\">data 2.0000</text>\n<polyline fill=\"none\" stroke=\"black\" points=\"2.5,-56.5 105.5,-56.5 \"/>\n<text text-anchor=\"middle\" x=\"54\" y=\"-41.3\" font-family=\"Times,serif\" font-size=\"14.00\">grad 0.0000</text>\n</g>\n<!-- 137096163328736&#45;&gt;137096163338000* -->\n<g id=\"edge4\" class=\"edge\">\n<title>137096163328736&#45;&gt;137096163338000*</title>\n<path fill=\"none\" stroke=\"black\" d=\"M105.78,-70.63C116.03,-73.48 126.57,-76.41 136.07,-79.06\"/>\n<polygon fill=\"black\" stroke=\"black\" points=\"135.34,-82.49 145.91,-81.8 137.21,-75.74 135.34,-82.49\"/>\n</g>\n<!-- 137096163338000 -->\n<g id=\"node6\" class=\"node\">\n<title>137096163338000</title>\n<polygon fill=\"none\" stroke=\"black\" points=\"235,-65.5 235,-111.5 343,-111.5 343,-65.5 235,-65.5\"/>\n<text text-anchor=\"middle\" x=\"246.5\" y=\"-96.3\" font-family=\"Times,serif\" font-size=\"14.00\">e</text>\n<polyline fill=\"none\" stroke=\"black\" points=\"258,-88.5 258,-111.5 \"/>\n<text text-anchor=\"middle\" x=\"300.5\" y=\"-96.3\" font-family=\"Times,serif\" font-size=\"14.00\">data &#45;6.0000</text>\n<polyline fill=\"none\" stroke=\"black\" points=\"235,-88.5 343,-88.5 \"/>\n<text text-anchor=\"middle\" x=\"289\" y=\"-73.3\" font-family=\"Times,serif\" font-size=\"14.00\">grad 0.0000</text>\n</g>\n<!-- 137096163338000&#45;&gt;137096163337760+ -->\n<g id=\"edge8\" class=\"edge\">\n<title>137096163338000&#45;&gt;137096163337760+</title>\n<path fill=\"none\" stroke=\"black\" d=\"M343.25,-73.35C353.03,-70.57 362.99,-67.74 372.01,-65.17\"/>\n<polygon fill=\"black\" stroke=\"black\" points=\"373.07,-68.51 381.73,-62.4 371.16,-61.77 373.07,-68.51\"/>\n</g>\n<!-- 137096163338000*&#45;&gt;137096163338000 -->\n<g id=\"edge2\" class=\"edge\">\n<title>137096163338000*&#45;&gt;137096163338000</title>\n<path fill=\"none\" stroke=\"black\" d=\"M198.03,-88.5C206.08,-88.5 215.32,-88.5 224.74,-88.5\"/>\n<polygon fill=\"black\" stroke=\"black\" points=\"224.99,-92 234.99,-88.5 224.99,-85 224.99,-92\"/>\n</g>\n<!-- 137096163333968 -->\n<g id=\"node8\" class=\"node\">\n<title>137096163333968</title>\n<polygon fill=\"none\" stroke=\"black\" points=\"702,-64.5 702,-110.5 812,-110.5 812,-64.5 702,-64.5\"/>\n<text text-anchor=\"middle\" x=\"714.5\" y=\"-95.3\" font-family=\"Times,serif\" font-size=\"14.00\">L</text>\n<polyline fill=\"none\" stroke=\"black\" points=\"727,-87.5 727,-110.5 \"/>\n<text text-anchor=\"middle\" x=\"769.5\" y=\"-95.3\" font-family=\"Times,serif\" font-size=\"14.00\">data &#45;8.0000</text>\n<polyline fill=\"none\" stroke=\"black\" points=\"702,-87.5 812,-87.5 \"/>\n<text text-anchor=\"middle\" x=\"757\" y=\"-72.3\" font-family=\"Times,serif\" font-size=\"14.00\">grad 0.0000</text>\n</g>\n<!-- 137096163333968*&#45;&gt;137096163333968 -->\n<g id=\"edge3\" class=\"edge\">\n<title>137096163333968*&#45;&gt;137096163333968</title>\n<path fill=\"none\" stroke=\"black\" d=\"M666.03,-87.5C673.7,-87.5 682.45,-87.5 691.42,-87.5\"/>\n<polygon fill=\"black\" stroke=\"black\" points=\"691.58,-91 701.58,-87.5 691.58,-84 691.58,-91\"/>\n</g>\n<!-- 137096163341792 -->\n<g id=\"node10\" class=\"node\">\n<title>137096163341792</title>\n<polygon fill=\"none\" stroke=\"black\" points=\"234,-0.5 234,-46.5 344,-46.5 344,-0.5 234,-0.5\"/>\n<text text-anchor=\"middle\" x=\"245.5\" y=\"-31.3\" font-family=\"Times,serif\" font-size=\"14.00\">c</text>\n<polyline fill=\"none\" stroke=\"black\" points=\"257,-23.5 257,-46.5 \"/>\n<text text-anchor=\"middle\" x=\"300.5\" y=\"-31.3\" font-family=\"Times,serif\" font-size=\"14.00\">data 10.0000</text>\n<polyline fill=\"none\" stroke=\"black\" points=\"234,-23.5 344,-23.5 \"/>\n<text text-anchor=\"middle\" x=\"289\" y=\"-8.3\" font-family=\"Times,serif\" font-size=\"14.00\">grad 0.0000</text>\n</g>\n<!-- 137096163341792&#45;&gt;137096163337760+ -->\n<g id=\"edge9\" class=\"edge\">\n<title>137096163341792&#45;&gt;137096163337760+</title>\n<path fill=\"none\" stroke=\"black\" d=\"M344.26,-38.47C353.67,-41.06 363.21,-43.7 371.89,-46.09\"/>\n<polygon fill=\"black\" stroke=\"black\" points=\"371.05,-49.49 381.62,-48.77 372.91,-42.74 371.05,-49.49\"/>\n</g>\n</g>\n</svg>\n",
            "text/plain": [
              "<graphviz.graphs.Digraph at 0x7cb0301dab00>"
            ]
          },
          "metadata": {},
          "execution_count": 17
        }
      ]
    },
    {
      "cell_type": "markdown",
      "source": [
        "in neural networks, as you might have seen in the previous notebooks, we calculate loss, the use `loss.backward()`, where the function calculates the derivative of `w` and `b` and stores it at `w.grad` and `b.grad`. we can calucalte the derivative with respect to data but dat will always be constant, so we dont touch that"
      ],
      "metadata": {
        "id": "J5O9ZA-Y6K8s"
      }
    },
    {
      "cell_type": "markdown",
      "source": [
        "Lets do the manula backpropagation"
      ],
      "metadata": {
        "id": "MEnzSGXvC29D"
      }
    },
    {
      "cell_type": "markdown",
      "source": [
        "lets calculate derivative of L with respect to d,\n",
        "which says how much change in d does effects L\n",
        "we know that :\n",
        "L = d * f\n",
        "dl/dd = ? f\n",
        "\n",
        "(f(x+h) - f(x))/h\n",
        "((d+h) *f) - (d*f))/h\n",
        "(d*f) + (h*f)- (d*f)/h\n",
        "(h*f)/h\n",
        "f\n",
        "\n",
        "so, conversly\n",
        "dL/df = d"
      ],
      "metadata": {
        "id": "E4mof-sxIUnT"
      }
    },
    {
      "cell_type": "code",
      "source": [
        "f.grad = 4.00\n",
        "d.grad = -2.00"
      ],
      "metadata": {
        "id": "cn5JGsIqFICT"
      },
      "execution_count": null,
      "outputs": []
    },
    {
      "cell_type": "markdown",
      "source": [
        "dd/dc ? 1.0\n",
        "\n",
        "d = c + e 1.0\n",
        "\n",
        "f(x+h) - f(x)/h\n",
        "(c + h + e - c - e) /h\n",
        "remember do add h to what we are working on., i mean\n",
        "if we want to find out effect of c, we have to bump c by h\n",
        "h/h\n",
        "1\n",
        "\n",
        "by symmetry dd/de = 1.0"
      ],
      "metadata": {
        "id": "FIxxywjPmZLJ"
      }
    },
    {
      "cell_type": "markdown",
      "source": [
        "local derivative of sum equation may be 1.0 always"
      ],
      "metadata": {
        "id": "CIp1-6qcMF1p"
      }
    },
    {
      "cell_type": "markdown",
      "source": [
        "Now, the most important part dL/dc\n",
        "how much L is sensitive to c\n",
        "how does L impact from c through d\n",
        "what we can think of it is, if we know how\n",
        "\n",
        "\n",
        "*   d impacts L\n",
        "*   c impacts d\n",
        "\n",
        "and if we can put this both information together, there might be\n",
        "some way to find put how c impacts L\n",
        "\n",
        "\n",
        "dL/dc = dl/dd *dd/dc"
      ],
      "metadata": {
        "id": "8roX0YNRJgnU"
      }
    },
    {
      "cell_type": "markdown",
      "source": [
        "###chain rule\n",
        "\n",
        "Want:\n",
        "dL/dc\n",
        "\n",
        "Know:\n",
        "dL/dd =  1.0\n",
        "dd/dc = -2.0\n",
        "\n",
        "dL/dc = (dL/dd) * (dd/dc)\n",
        "\n",
        "if you have a look whatver there is before teh `+` the local derivative of them is just 1.0. so influence of them over L is in this case, dL/dc its just 2.0"
      ],
      "metadata": {
        "id": "R_-70canO6Wg"
      }
    },
    {
      "cell_type": "code",
      "source": [
        "c.grad = -2.0 # this is not local derivative\n",
        "e.grad = -2.0"
      ],
      "metadata": {
        "id": "lnLqejXDK0JG"
      },
      "execution_count": null,
      "outputs": []
    },
    {
      "cell_type": "code",
      "source": [
        "L.grad = 1.0"
      ],
      "metadata": {
        "id": "LCrfBRm7WOt1"
      },
      "execution_count": null,
      "outputs": []
    },
    {
      "cell_type": "code",
      "source": [
        "def lol():\n",
        "\n",
        "  h = 0.001\n",
        "\n",
        "  a = Value(2.0, label = 'a')\n",
        "  b = Value(-3.0, label = 'b')\n",
        "  c = Value(10.0, label = 'c')\n",
        "  e = a * b; e.label = 'e'\n",
        "  d =  e + c; d.label = 'd'\n",
        "  f = Value(-2.0, label = 'f')\n",
        "  L = d * f ; L.label = 'L'\n",
        "\n",
        "  L1 = L.data\n",
        "\n",
        "\n",
        "  a = Value(2.0 , label = 'a')\n",
        "  b = Value(-3.0, label = 'b')\n",
        "  c = Value(10.0, label = 'c')\n",
        "  e = a * b; e.label = 'e'\n",
        "  d =  e + c; d.label = 'd'\n",
        "  f = Value(-2.0, label = 'f')\n",
        "  L = d * f ; L.label = 'L'\n",
        "  L2 = L.data + h\n",
        "\n",
        "  print((L2 - L1)/h)\n",
        "\n",
        "lol()"
      ],
      "metadata": {
        "colab": {
          "base_uri": "https://localhost:8080/"
        },
        "id": "kcLELjAP26WQ",
        "outputId": "26493cd5-1bb8-4d48-8091-903ab494dfa0"
      },
      "execution_count": null,
      "outputs": [
        {
          "output_type": "stream",
          "name": "stdout",
          "text": [
            "1.000000000000334\n"
          ]
        }
      ]
    },
    {
      "cell_type": "markdown",
      "source": [
        "if you can observe in the graph before the `+` node its like the derivative of d is being distributed to all the children node"
      ],
      "metadata": {
        "id": "Lt-nyUPeRUfp"
      }
    },
    {
      "cell_type": "markdown",
      "source": [
        "Lets try to find out derivative of  a and b\n",
        "b = -3.0\n",
        "a =  2.0\n",
        "dL / de = -2.0\n",
        "\n",
        "e = a * b\n",
        "de/da = b\n",
        "de/db = a\n",
        "\n",
        "want:\n",
        "dL/da = (dL/de) * (de/da)\n",
        "dL/da = -2.0 *  -3.0\n",
        "`a.grad` = 6.0"
      ],
      "metadata": {
        "id": "KuHd6qjAR8mP"
      }
    },
    {
      "cell_type": "markdown",
      "source": [
        "dL/db = dL/de * de/db\n",
        "\n",
        "dL/db = -2.0 * 2.0\n",
        "dL/db = -4.0"
      ],
      "metadata": {
        "id": "ebFu9ijsUAYl"
      }
    },
    {
      "cell_type": "code",
      "source": [
        "a.grad = 6.0\n",
        "b.grad = -4.0"
      ],
      "metadata": {
        "id": "IlmPDdxQEfqA"
      },
      "execution_count": null,
      "outputs": []
    },
    {
      "cell_type": "markdown",
      "source": [
        "now we have alll the derivative,"
      ],
      "metadata": {
        "id": "SCyUweVcVGtc"
      }
    },
    {
      "cell_type": "code",
      "source": [
        "a.data += 0.01 * a.grad\n",
        "b.data += 0.01 * b.grad\n",
        "c.data += 0.01 * c.grad\n",
        "f.data += 0.01 * f.grad\n",
        "\n",
        "e = a * b\n",
        "d = e + c\n",
        "L = d * f\n",
        "\n",
        "print(L.data)"
      ],
      "metadata": {
        "colab": {
          "base_uri": "https://localhost:8080/"
        },
        "id": "v7Iui4X6T7Mb",
        "outputId": "a1ea591d-1bec-4d4e-9d99-c30f33e4b9bf"
      },
      "execution_count": null,
      "outputs": [
        {
          "output_type": "stream",
          "name": "stdout",
          "text": [
            "-7.286496\n"
          ]
        }
      ]
    },
    {
      "cell_type": "markdown",
      "source": [
        "##Manual backpropagation in a neuron"
      ],
      "metadata": {
        "id": "z4JgDseBW9G3"
      }
    },
    {
      "cell_type": "markdown",
      "source": [
        "![neuron](https://gist.github.com/assets/84819735/dfa99f2f-1582-4454-bf2c-662877552e2c)"
      ],
      "metadata": {
        "id": "2dSz_d8jmE5S"
      }
    },
    {
      "cell_type": "markdown",
      "source": [
        "dont worry about the code in the image for now\n",
        " It consists of the following key components:\n",
        "\n",
        "1. **Inputs (x_i)**: The neuron receives one or more input signals, denoted as x_i, which can be the raw input data or the outputs from previous layers.\n",
        "\n",
        "2. **Weights (w_i)**: Each input is associated with a weight (w_i), which represents the importance or strength of the connection between the input and the neuron.\n",
        "\n",
        "3. **Bias (b)**: The bias (b) is an additional parameter that shifts the activation function, allowing the neuron to model more complex relationships.\n",
        "\n",
        "4. **Weighted Sum (Σw_i*x_i + b)**: The neuron computes the weighted sum of its inputs, where each input is multiplied by its corresponding weight, and the bias is added.\n",
        "\n",
        "5. **Activation Function (f)**: The weighted sum is then passed through an activation function, denoted as f(). This function introduces non-linearity into the model, allowing the neural network to learn complex, non-linear relationships in the data. Common activation functions include sigmoid, ReLU (Rectified Linear Unit), tanh, and softmax.\n",
        "\n",
        "The mathematical expression `Σw_i*x_i + b | f(activation)`, represents the core computation performed by a neuron in a deep neural network. The weighted sum of the inputs (`Σw_i*x_i + b`) is calculated, and then the result is passed through the activation function `f()` to produce the neuron's output.\n",
        "\n",
        "This process is repeated for each neuron in the neural network, with the outputs of one layer serving as the inputs to the next layer. As the network becomes deeper, it can learn increasingly complex representations of the input data, enabling it to solve a wide range of problems, such as image recognition, natural language processing, and predictive modeling.\n",
        "\n",
        "\n",
        "\n",
        "this is just starting part. comlpex things happen when forward and backward computation, we will look at them later, rn lets just focus on neuron"
      ],
      "metadata": {
        "id": "fH5FjIn2o-az"
      }
    },
    {
      "cell_type": "code",
      "source": [
        "plt.plot(np.arange(-5,5,0.2), np.tanh(np.arange(-5,5,0.2))); plt.grid() #exapmple of an activation function"
      ],
      "metadata": {
        "colab": {
          "base_uri": "https://localhost:8080/",
          "height": 430
        },
        "id": "eITlf16PWH8j",
        "outputId": "05af88dc-2e87-48e7-faa8-846decf1839a"
      },
      "execution_count": null,
      "outputs": [
        {
          "output_type": "display_data",
          "data": {
            "text/plain": [
              "<Figure size 640x480 with 1 Axes>"
            ],
            "image/png": "[encoded data removed]"
          },
          "metadata": {}
        }
      ]
    },
    {
      "cell_type": "code",
      "source": [
        "#inputs x1,x2\n",
        "x1 = Value(2.0, label = 'x1')\n",
        "x2 = Value(0.0, label = 'x2')\n",
        "\n",
        "#weight w1, w2\n",
        "w1 = Value(-3.0, label = 'w1')\n",
        "w2 = Value(1.0,  label = 'w2')\n",
        "\n",
        "#bias of the neuron\n",
        "b = Value(6.8813735870195432, label = 'b')\n",
        "\n",
        "#x1*w1 + x2 * w2 + b\n",
        "x1w1 = x1 * w1; x1w1.label = 'x1*w1'\n",
        "x2w2 = x2 * w2; x2w2.label = 'x2*w2'\n",
        "\n",
        "#Σw_i*x_i\n",
        "x1w1x2w2 = x1w1 + x2w2; x1w1x2w2.label = 'x1*w1 + x2*w2'\n",
        "\n",
        "#adding bias b to what we say may be half neuron\n",
        "n = x1w1x2w2 + b; n.label = 'n'\n",
        "\n",
        "#passing through activation function tanh\n",
        "o = n.tanh();o.label = 'o'"
      ],
      "metadata": {
        "id": "qBsI0acdsn3Q"
      },
      "execution_count": null,
      "outputs": []
    },
    {
      "cell_type": "markdown",
      "source": [
        "Lets calculate the derivatives"
      ],
      "metadata": {
        "id": "_lSkjRdc6jMw"
      }
    },
    {
      "cell_type": "code",
      "source": [
        "o.grad = 1.0\n"
      ],
      "metadata": {
        "id": "UqtHQT0a040F"
      },
      "execution_count": null,
      "outputs": []
    },
    {
      "cell_type": "markdown",
      "source": [
        "lets calculate local derivative of tanh"
      ],
      "metadata": {
        "id": "Pn3KpAHz62_y"
      }
    },
    {
      "cell_type": "code",
      "source": [
        "# o = tanh(n);  lets calculate effect of n on o i.e do/dn\n",
        "#do/dn = 1- tanh(n) ** 2\n",
        "#do/dn = 1- o ** 2\n",
        "1 - o.data **2\n",
        "\n"
      ],
      "metadata": {
        "colab": {
          "base_uri": "https://localhost:8080/"
        },
        "id": "_Rc-X6Qa62KH",
        "outputId": "671ed378-1892-4b9c-a79d-f0f47abe4a03"
      },
      "execution_count": null,
      "outputs": [
        {
          "output_type": "execute_result",
          "data": {
            "text/plain": [
              "0.4999999999999999"
            ]
          },
          "metadata": {},
          "execution_count": 27
        }
      ]
    },
    {
      "cell_type": "code",
      "source": [
        "n.grad = 0.5"
      ],
      "metadata": {
        "id": "8gQDBDqmH0Lz"
      },
      "execution_count": null,
      "outputs": []
    },
    {
      "cell_type": "markdown",
      "source": [
        "from previous example we know that during backprop after `+` gradient just flows to previous nodes, so:"
      ],
      "metadata": {
        "id": "7oZhLa2HIFQz"
      }
    },
    {
      "cell_type": "code",
      "source": [
        "x1w1x2w2.grad = 0.5\n",
        "b.grad = 0.5"
      ],
      "metadata": {
        "id": "2Ymsj8A_H8a5"
      },
      "execution_count": null,
      "outputs": []
    },
    {
      "cell_type": "markdown",
      "source": [
        "similarly:"
      ],
      "metadata": {
        "id": "LDny9y5vIooa"
      }
    },
    {
      "cell_type": "code",
      "source": [
        "x1w1.grad = 0.5\n",
        "x2w2.grad = 0.5"
      ],
      "metadata": {
        "id": "Wbwm_W_dIe6V"
      },
      "execution_count": null,
      "outputs": []
    },
    {
      "cell_type": "code",
      "source": [
        "x1.grad = w1.data * x1w1.grad\n",
        "w1.grad = x1.data  * x1w1.grad"
      ],
      "metadata": {
        "id": "9gvvMqAqcTh7"
      },
      "execution_count": null,
      "outputs": []
    },
    {
      "cell_type": "code",
      "source": [
        "x2.grad = w2.data * x2w2.grad #we have seen this in the previous explanation\n",
        "w2.grad = x2.data * x2w2.grad"
      ],
      "metadata": {
        "id": "cIgQKmQqJSZg"
      },
      "execution_count": null,
      "outputs": []
    },
    {
      "cell_type": "code",
      "source": [
        "o.grad = 1.0"
      ],
      "metadata": {
        "id": "J4aEFIeiPiKK"
      },
      "execution_count": null,
      "outputs": []
    },
    {
      "cell_type": "code",
      "source": [
        "o._backward()"
      ],
      "metadata": {
        "id": "-tfQSx30Por_"
      },
      "execution_count": null,
      "outputs": []
    },
    {
      "cell_type": "code",
      "source": [
        "n._backward()"
      ],
      "metadata": {
        "id": "xG0ZTfTvUmwE"
      },
      "execution_count": null,
      "outputs": []
    },
    {
      "cell_type": "code",
      "source": [
        "b._backward()"
      ],
      "metadata": {
        "id": "cCwbcW6RU5do"
      },
      "execution_count": null,
      "outputs": []
    },
    {
      "cell_type": "code",
      "source": [
        "x1w1x2w2._backward()"
      ],
      "metadata": {
        "id": "0t7wfxWMU9OA"
      },
      "execution_count": null,
      "outputs": []
    },
    {
      "cell_type": "code",
      "source": [
        "x2w2._backward()"
      ],
      "metadata": {
        "id": "6ZYUNxl-VTEe"
      },
      "execution_count": null,
      "outputs": []
    },
    {
      "cell_type": "code",
      "source": [
        "x1w1._backward()"
      ],
      "metadata": {
        "id": "X38EzX-kVcES"
      },
      "execution_count": null,
      "outputs": []
    },
    {
      "cell_type": "code",
      "source": [
        "o.grad  = 1.0\n",
        "\n",
        "topo = []\n",
        "visited = set()\n",
        "def build_topo(v):\n",
        "  if v not in visited:\n",
        "    visited.add(v)\n",
        "    for child in v._prev:\n",
        "      build_topo(child)\n",
        "    topo.append(v)\n",
        "build_topo(o)\n",
        "\n",
        "\n",
        "for node in reversed(topo):\n",
        "  node._backward()\n"
      ],
      "metadata": {
        "id": "iKdNUQV42CJB"
      },
      "execution_count": null,
      "outputs": []
    },
    {
      "cell_type": "code",
      "source": [
        "o.backward()"
      ],
      "metadata": {
        "id": "-021oWtv4wBn"
      },
      "execution_count": null,
      "outputs": []
    },
    {
      "cell_type": "code",
      "source": [
        "draw_dot(o)"
      ],
      "metadata": {
        "colab": {
          "base_uri": "https://localhost:8080/",
          "height": 374
        },
        "id": "vJWKiYvi026A",
        "outputId": "64e046ed-97cc-4fb7-abc5-f2e820edc507"
      },
      "execution_count": null,
      "outputs": [
        {
          "output_type": "execute_result",
          "data": {
            "image/svg+xml": "<?xml version=\"1.0\" encoding=\"UTF-8\" standalone=\"no\"?>\n<!DOCTYPE svg PUBLIC \"-//W3C//DTD SVG 1.1//EN\"\n \"http://www.w3.org/Graphics/SVG/1.1/DTD/svg11.dtd\">\n<!-- Generated by graphviz version 2.43.0 (0)\n -->\n<!-- Title: %3 Pages: 1 -->\n<svg width=\"1165pt\" height=\"250pt\"\n viewBox=\"0.00 0.00 1165.00 250.00\" xmlns=\"http://www.w3.org/2000/svg\" xmlns:xlink=\"http://www.w3.org/1999/xlink\">\n<g id=\"graph0\" class=\"graph\" transform=\"scale(1 1) rotate(0) translate(4 246)\">\n<title>%3</title>\n<polygon fill=\"white\" stroke=\"transparent\" points=\"-4,4 -4,-246 1161,-246 1161,4 -4,4\"/>\n<!-- 137096162160128 -->\n<g id=\"node1\" class=\"node\">\n<title>137096162160128</title>\n<polygon fill=\"none\" stroke=\"black\" points=\"552,-162.5 552,-208.5 655,-208.5 655,-162.5 552,-162.5\"/>\n<text text-anchor=\"middle\" x=\"563.5\" y=\"-193.3\" font-family=\"Times,serif\" font-size=\"14.00\">b</text>\n<polyline fill=\"none\" stroke=\"black\" points=\"575,-185.5 575,-208.5 \"/>\n<text text-anchor=\"middle\" x=\"615\" y=\"-193.3\" font-family=\"Times,serif\" font-size=\"14.00\">data 6.8814</text>\n<polyline fill=\"none\" stroke=\"black\" points=\"552,-185.5 655,-185.5 \"/>\n<text text-anchor=\"middle\" x=\"603.5\" y=\"-170.3\" font-family=\"Times,serif\" font-size=\"14.00\">grad 5.0000</text>\n</g>\n<!-- 137096162299088+ -->\n<g id=\"node13\" class=\"node\">\n<title>137096162299088+</title>\n<ellipse fill=\"none\" stroke=\"black\" cx=\"762\" cy=\"-152.5\" rx=\"27\" ry=\"18\"/>\n<text text-anchor=\"middle\" x=\"762\" y=\"-148.8\" font-family=\"Times,serif\" font-size=\"14.00\">+</text>\n</g>\n<!-- 137096162160128&#45;&gt;137096162299088+ -->\n<g id=\"edge14\" class=\"edge\">\n<title>137096162160128&#45;&gt;137096162299088+</title>\n<path fill=\"none\" stroke=\"black\" d=\"M655.31,-174.79C678.37,-169.92 705.07,-164.29 725.86,-159.91\"/>\n<polygon fill=\"black\" stroke=\"black\" points=\"726.79,-163.29 735.85,-157.8 725.34,-156.44 726.79,-163.29\"/>\n</g>\n<!-- 137096162303024 -->\n<g id=\"node2\" class=\"node\">\n<title>137096162303024</title>\n<polygon fill=\"none\" stroke=\"black\" points=\"246.5,-130.5 246.5,-176.5 379.5,-176.5 379.5,-130.5 246.5,-130.5\"/>\n<text text-anchor=\"middle\" x=\"273\" y=\"-161.3\" font-family=\"Times,serif\" font-size=\"14.00\">x2*w2</text>\n<polyline fill=\"none\" stroke=\"black\" points=\"299.5,-153.5 299.5,-176.5 \"/>\n<text text-anchor=\"middle\" x=\"339.5\" y=\"-161.3\" font-family=\"Times,serif\" font-size=\"14.00\">data 0.0000</text>\n<polyline fill=\"none\" stroke=\"black\" points=\"246.5,-153.5 379.5,-153.5 \"/>\n<text text-anchor=\"middle\" x=\"313\" y=\"-138.3\" font-family=\"Times,serif\" font-size=\"14.00\">grad 10.0000</text>\n</g>\n<!-- 137096162298464+ -->\n<g id=\"node8\" class=\"node\">\n<title>137096162298464+</title>\n<ellipse fill=\"none\" stroke=\"black\" cx=\"445\" cy=\"-120.5\" rx=\"27\" ry=\"18\"/>\n<text text-anchor=\"middle\" x=\"445\" y=\"-116.8\" font-family=\"Times,serif\" font-size=\"14.00\">+</text>\n</g>\n<!-- 137096162303024&#45;&gt;137096162298464+ -->\n<g id=\"edge6\" class=\"edge\">\n<title>137096162303024&#45;&gt;137096162298464+</title>\n<path fill=\"none\" stroke=\"black\" d=\"M379.76,-136.81C390.1,-134.18 400.42,-131.56 409.66,-129.22\"/>\n<polygon fill=\"black\" stroke=\"black\" points=\"410.75,-132.55 419.58,-126.7 409.03,-125.77 410.75,-132.55\"/>\n</g>\n<!-- 137096162303024* -->\n<g id=\"node3\" class=\"node\">\n<title>137096162303024*</title>\n<ellipse fill=\"none\" stroke=\"black\" cx=\"181\" cy=\"-153.5\" rx=\"27\" ry=\"18\"/>\n<text text-anchor=\"middle\" x=\"181\" y=\"-149.8\" font-family=\"Times,serif\" font-size=\"14.00\">*</text>\n</g>\n<!-- 137096162303024*&#45;&gt;137096162303024 -->\n<g id=\"edge1\" class=\"edge\">\n<title>137096162303024*&#45;&gt;137096162303024</title>\n<path fill=\"none\" stroke=\"black\" d=\"M208.31,-153.5C216.65,-153.5 226.34,-153.5 236.37,-153.5\"/>\n<polygon fill=\"black\" stroke=\"black\" points=\"236.48,-157 246.48,-153.5 236.48,-150 236.48,-157\"/>\n</g>\n<!-- 137096162302016 -->\n<g id=\"node4\" class=\"node\">\n<title>137096162302016</title>\n<polygon fill=\"none\" stroke=\"black\" points=\"1054,-129.5 1054,-175.5 1157,-175.5 1157,-129.5 1054,-129.5\"/>\n<text text-anchor=\"middle\" x=\"1065.5\" y=\"-160.3\" font-family=\"Times,serif\" font-size=\"14.00\">o</text>\n<polyline fill=\"none\" stroke=\"black\" points=\"1077,-152.5 1077,-175.5 \"/>\n<text text-anchor=\"middle\" x=\"1117\" y=\"-160.3\" font-family=\"Times,serif\" font-size=\"14.00\">data 0.7071</text>\n<polyline fill=\"none\" stroke=\"black\" points=\"1054,-152.5 1157,-152.5 \"/>\n<text text-anchor=\"middle\" x=\"1105.5\" y=\"-137.3\" font-family=\"Times,serif\" font-size=\"14.00\">grad 1.0000</text>\n</g>\n<!-- 137096162302016tanh -->\n<g id=\"node5\" class=\"node\">\n<title>137096162302016tanh</title>\n<ellipse fill=\"none\" stroke=\"black\" cx=\"991\" cy=\"-152.5\" rx=\"27\" ry=\"18\"/>\n<text text-anchor=\"middle\" x=\"991\" y=\"-148.8\" font-family=\"Times,serif\" font-size=\"14.00\">tanh</text>\n</g>\n<!-- 137096162302016tanh&#45;&gt;137096162302016 -->\n<g id=\"edge2\" class=\"edge\">\n<title>137096162302016tanh&#45;&gt;137096162302016</title>\n<path fill=\"none\" stroke=\"black\" d=\"M1018.09,-152.5C1025.83,-152.5 1034.64,-152.5 1043.61,-152.5\"/>\n<polygon fill=\"black\" stroke=\"black\" points=\"1043.76,-156 1053.76,-152.5 1043.76,-149 1043.76,-156\"/>\n</g>\n<!-- 137096162159696 -->\n<g id=\"node6\" class=\"node\">\n<title>137096162159696</title>\n<polygon fill=\"none\" stroke=\"black\" points=\"2.5,-195.5 2.5,-241.5 115.5,-241.5 115.5,-195.5 2.5,-195.5\"/>\n<text text-anchor=\"middle\" x=\"19\" y=\"-226.3\" font-family=\"Times,serif\" font-size=\"14.00\">w2</text>\n<polyline fill=\"none\" stroke=\"black\" points=\"35.5,-218.5 35.5,-241.5 \"/>\n<text text-anchor=\"middle\" x=\"75.5\" y=\"-226.3\" font-family=\"Times,serif\" font-size=\"14.00\">data 1.0000</text>\n<polyline fill=\"none\" stroke=\"black\" points=\"2.5,-218.5 115.5,-218.5 \"/>\n<text text-anchor=\"middle\" x=\"59\" y=\"-203.3\" font-family=\"Times,serif\" font-size=\"14.00\">grad 0.0000</text>\n</g>\n<!-- 137096162159696&#45;&gt;137096162303024* -->\n<g id=\"edge13\" class=\"edge\">\n<title>137096162159696&#45;&gt;137096162303024*</title>\n<path fill=\"none\" stroke=\"black\" d=\"M102.65,-195.4C118.45,-186.84 136.01,-177.33 150.4,-169.53\"/>\n<polygon fill=\"black\" stroke=\"black\" points=\"152.23,-172.52 159.35,-164.68 148.89,-166.37 152.23,-172.52\"/>\n</g>\n<!-- 137096162298464 -->\n<g id=\"node7\" class=\"node\">\n<title>137096162298464</title>\n<polygon fill=\"none\" stroke=\"black\" points=\"508,-97.5 508,-143.5 699,-143.5 699,-97.5 508,-97.5\"/>\n<text text-anchor=\"middle\" x=\"561\" y=\"-128.3\" font-family=\"Times,serif\" font-size=\"14.00\">x1*w1 + x2*w2</text>\n<polyline fill=\"none\" stroke=\"black\" points=\"614,-120.5 614,-143.5 \"/>\n<text text-anchor=\"middle\" x=\"656.5\" y=\"-128.3\" font-family=\"Times,serif\" font-size=\"14.00\">data &#45;6.0000</text>\n<polyline fill=\"none\" stroke=\"black\" points=\"508,-120.5 699,-120.5 \"/>\n<text text-anchor=\"middle\" x=\"603.5\" y=\"-105.3\" font-family=\"Times,serif\" font-size=\"14.00\">grad 5.0000</text>\n</g>\n<!-- 137096162298464&#45;&gt;137096162299088+ -->\n<g id=\"edge9\" class=\"edge\">\n<title>137096162298464&#45;&gt;137096162299088+</title>\n<path fill=\"none\" stroke=\"black\" d=\"M699.15,-139.85C708.65,-141.8 717.82,-143.67 726.05,-145.35\"/>\n<polygon fill=\"black\" stroke=\"black\" points=\"725.44,-148.8 735.94,-147.38 726.84,-141.94 725.44,-148.8\"/>\n</g>\n<!-- 137096162298464+&#45;&gt;137096162298464 -->\n<g id=\"edge3\" class=\"edge\">\n<title>137096162298464+&#45;&gt;137096162298464</title>\n<path fill=\"none\" stroke=\"black\" d=\"M472.19,-120.5C479.67,-120.5 488.31,-120.5 497.51,-120.5\"/>\n<polygon fill=\"black\" stroke=\"black\" points=\"497.68,-124 507.68,-120.5 497.68,-117 497.68,-124\"/>\n</g>\n<!-- 137096162041456 -->\n<g id=\"node9\" class=\"node\">\n<title>137096162041456</title>\n<polygon fill=\"none\" stroke=\"black\" points=\"244,-65.5 244,-111.5 382,-111.5 382,-65.5 244,-65.5\"/>\n<text text-anchor=\"middle\" x=\"270.5\" y=\"-96.3\" font-family=\"Times,serif\" font-size=\"14.00\">x1*w1</text>\n<polyline fill=\"none\" stroke=\"black\" points=\"297,-88.5 297,-111.5 \"/>\n<text text-anchor=\"middle\" x=\"339.5\" y=\"-96.3\" font-family=\"Times,serif\" font-size=\"14.00\">data &#45;6.0000</text>\n<polyline fill=\"none\" stroke=\"black\" points=\"244,-88.5 382,-88.5 \"/>\n<text text-anchor=\"middle\" x=\"313\" y=\"-73.3\" font-family=\"Times,serif\" font-size=\"14.00\">grad 10.0000</text>\n</g>\n<!-- 137096162041456&#45;&gt;137096162298464+ -->\n<g id=\"edge10\" class=\"edge\">\n<title>137096162041456&#45;&gt;137096162298464+</title>\n<path fill=\"none\" stroke=\"black\" d=\"M382.05,-105.25C391.57,-107.59 401,-109.92 409.53,-112.01\"/>\n<polygon fill=\"black\" stroke=\"black\" points=\"408.88,-115.46 419.42,-114.45 410.55,-108.66 408.88,-115.46\"/>\n</g>\n<!-- 137096162041456* -->\n<g id=\"node10\" class=\"node\">\n<title>137096162041456*</title>\n<ellipse fill=\"none\" stroke=\"black\" cx=\"181\" cy=\"-88.5\" rx=\"27\" ry=\"18\"/>\n<text text-anchor=\"middle\" x=\"181\" y=\"-84.8\" font-family=\"Times,serif\" font-size=\"14.00\">*</text>\n</g>\n<!-- 137096162041456*&#45;&gt;137096162041456 -->\n<g id=\"edge4\" class=\"edge\">\n<title>137096162041456*&#45;&gt;137096162041456</title>\n<path fill=\"none\" stroke=\"black\" d=\"M208.31,-88.5C215.85,-88.5 224.49,-88.5 233.5,-88.5\"/>\n<polygon fill=\"black\" stroke=\"black\" points=\"233.78,-92 243.78,-88.5 233.78,-85 233.78,-92\"/>\n</g>\n<!-- 137096162157632 -->\n<g id=\"node11\" class=\"node\">\n<title>137096162157632</title>\n<polygon fill=\"none\" stroke=\"black\" points=\"4,-65.5 4,-111.5 114,-111.5 114,-65.5 4,-65.5\"/>\n<text text-anchor=\"middle\" x=\"19\" y=\"-96.3\" font-family=\"Times,serif\" font-size=\"14.00\">x1</text>\n<polyline fill=\"none\" stroke=\"black\" points=\"34,-88.5 34,-111.5 \"/>\n<text text-anchor=\"middle\" x=\"74\" y=\"-96.3\" font-family=\"Times,serif\" font-size=\"14.00\">data 2.0000</text>\n<polyline fill=\"none\" stroke=\"black\" points=\"4,-88.5 114,-88.5 \"/>\n<text text-anchor=\"middle\" x=\"59\" y=\"-73.3\" font-family=\"Times,serif\" font-size=\"14.00\">grad &#45;52.5000</text>\n</g>\n<!-- 137096162157632&#45;&gt;137096162041456* -->\n<g id=\"edge11\" class=\"edge\">\n<title>137096162157632&#45;&gt;137096162041456*</title>\n<path fill=\"none\" stroke=\"black\" d=\"M114.03,-88.5C124.07,-88.5 134.33,-88.5 143.67,-88.5\"/>\n<polygon fill=\"black\" stroke=\"black\" points=\"143.78,-92 153.78,-88.5 143.78,-85 143.78,-92\"/>\n</g>\n<!-- 137096162299088 -->\n<g id=\"node12\" class=\"node\">\n<title>137096162299088</title>\n<polygon fill=\"none\" stroke=\"black\" points=\"825,-129.5 825,-175.5 928,-175.5 928,-129.5 825,-129.5\"/>\n<text text-anchor=\"middle\" x=\"836.5\" y=\"-160.3\" font-family=\"Times,serif\" font-size=\"14.00\">n</text>\n<polyline fill=\"none\" stroke=\"black\" points=\"848,-152.5 848,-175.5 \"/>\n<text text-anchor=\"middle\" x=\"888\" y=\"-160.3\" font-family=\"Times,serif\" font-size=\"14.00\">data 0.8814</text>\n<polyline fill=\"none\" stroke=\"black\" points=\"825,-152.5 928,-152.5 \"/>\n<text text-anchor=\"middle\" x=\"876.5\" y=\"-137.3\" font-family=\"Times,serif\" font-size=\"14.00\">grad 2.0000</text>\n</g>\n<!-- 137096162299088&#45;&gt;137096162302016tanh -->\n<g id=\"edge12\" class=\"edge\">\n<title>137096162299088&#45;&gt;137096162302016tanh</title>\n<path fill=\"none\" stroke=\"black\" d=\"M928.16,-152.5C936.75,-152.5 945.53,-152.5 953.66,-152.5\"/>\n<polygon fill=\"black\" stroke=\"black\" points=\"953.92,-156 963.92,-152.5 953.92,-149 953.92,-156\"/>\n</g>\n<!-- 137096162299088+&#45;&gt;137096162299088 -->\n<g id=\"edge5\" class=\"edge\">\n<title>137096162299088+&#45;&gt;137096162299088</title>\n<path fill=\"none\" stroke=\"black\" d=\"M789.09,-152.5C796.83,-152.5 805.64,-152.5 814.61,-152.5\"/>\n<polygon fill=\"black\" stroke=\"black\" points=\"814.76,-156 824.76,-152.5 814.76,-149 814.76,-156\"/>\n</g>\n<!-- 137096163361024 -->\n<g id=\"node14\" class=\"node\">\n<title>137096163361024</title>\n<polygon fill=\"none\" stroke=\"black\" points=\"4,-130.5 4,-176.5 114,-176.5 114,-130.5 4,-130.5\"/>\n<text text-anchor=\"middle\" x=\"19\" y=\"-161.3\" font-family=\"Times,serif\" font-size=\"14.00\">x2</text>\n<polyline fill=\"none\" stroke=\"black\" points=\"34,-153.5 34,-176.5 \"/>\n<text text-anchor=\"middle\" x=\"74\" y=\"-161.3\" font-family=\"Times,serif\" font-size=\"14.00\">data 0.0000</text>\n<polyline fill=\"none\" stroke=\"black\" points=\"4,-153.5 114,-153.5 \"/>\n<text text-anchor=\"middle\" x=\"59\" y=\"-138.3\" font-family=\"Times,serif\" font-size=\"14.00\">grad 17.5000</text>\n</g>\n<!-- 137096163361024&#45;&gt;137096162303024* -->\n<g id=\"edge8\" class=\"edge\">\n<title>137096163361024&#45;&gt;137096162303024*</title>\n<path fill=\"none\" stroke=\"black\" d=\"M114.03,-153.5C124.07,-153.5 134.33,-153.5 143.67,-153.5\"/>\n<polygon fill=\"black\" stroke=\"black\" points=\"143.78,-157 153.78,-153.5 143.78,-150 143.78,-157\"/>\n</g>\n<!-- 137096163376480 -->\n<g id=\"node15\" class=\"node\">\n<title>137096163376480</title>\n<polygon fill=\"none\" stroke=\"black\" points=\"0,-0.5 0,-46.5 118,-46.5 118,-0.5 0,-0.5\"/>\n<text text-anchor=\"middle\" x=\"16.5\" y=\"-31.3\" font-family=\"Times,serif\" font-size=\"14.00\">w1</text>\n<polyline fill=\"none\" stroke=\"black\" points=\"33,-23.5 33,-46.5 \"/>\n<text text-anchor=\"middle\" x=\"75.5\" y=\"-31.3\" font-family=\"Times,serif\" font-size=\"14.00\">data &#45;3.0000</text>\n<polyline fill=\"none\" stroke=\"black\" points=\"0,-23.5 118,-23.5 \"/>\n<text text-anchor=\"middle\" x=\"59\" y=\"-8.3\" font-family=\"Times,serif\" font-size=\"14.00\">grad 35.0000</text>\n</g>\n<!-- 137096163376480&#45;&gt;137096162041456* -->\n<g id=\"edge7\" class=\"edge\">\n<title>137096163376480&#45;&gt;137096162041456*</title>\n<path fill=\"none\" stroke=\"black\" d=\"M102.65,-46.6C118.45,-55.16 136.01,-64.67 150.4,-72.47\"/>\n<polygon fill=\"black\" stroke=\"black\" points=\"148.89,-75.63 159.35,-77.32 152.23,-69.48 148.89,-75.63\"/>\n</g>\n</g>\n</svg>\n",
            "text/plain": [
              "<graphviz.graphs.Digraph at 0x7cb0300df640>"
            ]
          },
          "metadata": {},
          "execution_count": 42
        }
      ]
    },
    {
      "cell_type": "markdown",
      "source": [
        "now, instead of doing it manually, lets do one thing, going through input nodes, which produced output and store the gradient with respective node"
      ],
      "metadata": {
        "id": "SDSGSFFqHQiJ"
      }
    },
    {
      "cell_type": "code",
      "source": [
        "#inputs x1,x2\n",
        "x1 = Value(2.0, label = 'x1')\n",
        "x2 = Value(0.0, label = 'x2')\n",
        "\n",
        "#weight w1, w2\n",
        "w1 = Value(-3.0, label = 'w1')\n",
        "w2 = Value(1.0,  label = 'w2')\n",
        "\n",
        "#bias of the neuron\n",
        "b = Value(6.8813735870195432, label = 'b')\n",
        "\n",
        "#x1*w1 + x2 * w2 + b\n",
        "x1w1 = x1 * w1; x1w1.label = 'x1*w1'\n",
        "x2w2 = x2 * w2; x2w2.label = 'x2*w2'\n",
        "\n",
        "#Σw_i*x_i\n",
        "x1w1x2w2 = x1w1 + x2w2; x1w1x2w2.label = 'x1*w1 + x2*w2'\n",
        "\n",
        "#adding bias b to what we say may be half neuron\n",
        "n = x1w1x2w2 + b; n.label = 'n'\n",
        "\n",
        "#passing through activation function tanh\n",
        "# -------------\n",
        "e = (2*n).exp()\n",
        "o = (e - 1)/ (e + 1)\n",
        "# -------------\n",
        "o.label = 'o'\n",
        "o.backward()"
      ],
      "metadata": {
        "id": "tFTGIRzRb35F"
      },
      "execution_count": null,
      "outputs": []
    },
    {
      "cell_type": "code",
      "source": [
        "draw_dot(o)"
      ],
      "metadata": {
        "colab": {
          "base_uri": "https://localhost:8080/",
          "height": 374
        },
        "id": "xfWK62yB14Wh",
        "outputId": "b37147ee-19c0-4150-96fc-33728d81630f"
      },
      "execution_count": null,
      "outputs": [
        {
          "output_type": "execute_result",
          "data": {
            "image/svg+xml": "<?xml version=\"1.0\" encoding=\"UTF-8\" standalone=\"no\"?>\n<!DOCTYPE svg PUBLIC \"-//W3C//DTD SVG 1.1//EN\"\n \"http://www.w3.org/Graphics/SVG/1.1/DTD/svg11.dtd\">\n<!-- Generated by graphviz version 2.43.0 (0)\n -->\n<!-- Title: %3 Pages: 1 -->\n<svg width=\"2120pt\" height=\"250pt\"\n viewBox=\"0.00 0.00 2120.00 250.00\" xmlns=\"http://www.w3.org/2000/svg\" xmlns:xlink=\"http://www.w3.org/1999/xlink\">\n<g id=\"graph0\" class=\"graph\" transform=\"scale(1 1) rotate(0) translate(4 246)\">\n<title>%3</title>\n<polygon fill=\"white\" stroke=\"transparent\" points=\"-4,4 -4,-246 2116,-246 2116,4 -4,4\"/>\n<!-- 137096162298368 -->\n<g id=\"node1\" class=\"node\">\n<title>137096162298368</title>\n<polygon fill=\"none\" stroke=\"black\" points=\"2009,-96.5 2009,-142.5 2112,-142.5 2112,-96.5 2009,-96.5\"/>\n<text text-anchor=\"middle\" x=\"2020.5\" y=\"-127.3\" font-family=\"Times,serif\" font-size=\"14.00\">o</text>\n<polyline fill=\"none\" stroke=\"black\" points=\"2032,-119.5 2032,-142.5 \"/>\n<text text-anchor=\"middle\" x=\"2072\" y=\"-127.3\" font-family=\"Times,serif\" font-size=\"14.00\">data 0.7071</text>\n<polyline fill=\"none\" stroke=\"black\" points=\"2009,-119.5 2112,-119.5 \"/>\n<text text-anchor=\"middle\" x=\"2060.5\" y=\"-104.3\" font-family=\"Times,serif\" font-size=\"14.00\">grad 1.0000</text>\n</g>\n<!-- 137096162298368* -->\n<g id=\"node2\" class=\"node\">\n<title>137096162298368*</title>\n<ellipse fill=\"none\" stroke=\"black\" cx=\"1946\" cy=\"-119.5\" rx=\"27\" ry=\"18\"/>\n<text text-anchor=\"middle\" x=\"1946\" y=\"-115.8\" font-family=\"Times,serif\" font-size=\"14.00\">*</text>\n</g>\n<!-- 137096162298368*&#45;&gt;137096162298368 -->\n<g id=\"edge1\" class=\"edge\">\n<title>137096162298368*&#45;&gt;137096162298368</title>\n<path fill=\"none\" stroke=\"black\" d=\"M1973.09,-119.5C1980.83,-119.5 1989.64,-119.5 1998.61,-119.5\"/>\n<polygon fill=\"black\" stroke=\"black\" points=\"1998.76,-123 2008.76,-119.5 1998.76,-116 1998.76,-123\"/>\n</g>\n<!-- 137096162309648 -->\n<g id=\"node3\" class=\"node\">\n<title>137096162309648</title>\n<polygon fill=\"none\" stroke=\"black\" points=\"1280,-161.5 1280,-207.5 1385,-207.5 1385,-161.5 1280,-161.5\"/>\n<text text-anchor=\"middle\" x=\"1290\" y=\"-192.3\" font-family=\"Times,serif\" font-size=\"14.00\"> </text>\n<polyline fill=\"none\" stroke=\"black\" points=\"1300,-184.5 1300,-207.5 \"/>\n<text text-anchor=\"middle\" x=\"1342.5\" y=\"-192.3\" font-family=\"Times,serif\" font-size=\"14.00\">data &#45;1.0000</text>\n<polyline fill=\"none\" stroke=\"black\" points=\"1280,-184.5 1385,-184.5 \"/>\n<text text-anchor=\"middle\" x=\"1332.5\" y=\"-169.3\" font-family=\"Times,serif\" font-size=\"14.00\">grad 0.1464</text>\n</g>\n<!-- 137096162307728+ -->\n<g id=\"node7\" class=\"node\">\n<title>137096162307728+</title>\n<ellipse fill=\"none\" stroke=\"black\" cx=\"1448\" cy=\"-149.5\" rx=\"27\" ry=\"18\"/>\n<text text-anchor=\"middle\" x=\"1448\" y=\"-145.8\" font-family=\"Times,serif\" font-size=\"14.00\">+</text>\n</g>\n<!-- 137096162309648&#45;&gt;137096162307728+ -->\n<g id=\"edge26\" class=\"edge\">\n<title>137096162309648&#45;&gt;137096162307728+</title>\n<path fill=\"none\" stroke=\"black\" d=\"M1385.27,-168.54C1394.87,-165.58 1404.66,-162.56 1413.53,-159.82\"/>\n<polygon fill=\"black\" stroke=\"black\" points=\"1414.58,-163.16 1423.1,-156.87 1412.51,-156.47 1414.58,-163.16\"/>\n</g>\n<!-- 137096162311088 -->\n<g id=\"node4\" class=\"node\">\n<title>137096162311088</title>\n<polygon fill=\"none\" stroke=\"black\" points=\"4,-65.5 4,-111.5 114,-111.5 114,-65.5 4,-65.5\"/>\n<text text-anchor=\"middle\" x=\"19\" y=\"-96.3\" font-family=\"Times,serif\" font-size=\"14.00\">x2</text>\n<polyline fill=\"none\" stroke=\"black\" points=\"34,-88.5 34,-111.5 \"/>\n<text text-anchor=\"middle\" x=\"74\" y=\"-96.3\" font-family=\"Times,serif\" font-size=\"14.00\">data 0.0000</text>\n<polyline fill=\"none\" stroke=\"black\" points=\"4,-88.5 114,-88.5 \"/>\n<text text-anchor=\"middle\" x=\"59\" y=\"-73.3\" font-family=\"Times,serif\" font-size=\"14.00\">grad 0.5000</text>\n</g>\n<!-- 137096162304944* -->\n<g id=\"node27\" class=\"node\">\n<title>137096162304944*</title>\n<ellipse fill=\"none\" stroke=\"black\" cx=\"181\" cy=\"-88.5\" rx=\"27\" ry=\"18\"/>\n<text text-anchor=\"middle\" x=\"181\" y=\"-84.8\" font-family=\"Times,serif\" font-size=\"14.00\">*</text>\n</g>\n<!-- 137096162311088&#45;&gt;137096162304944* -->\n<g id=\"edge23\" class=\"edge\">\n<title>137096162311088&#45;&gt;137096162304944*</title>\n<path fill=\"none\" stroke=\"black\" d=\"M114.03,-88.5C124.07,-88.5 134.33,-88.5 143.67,-88.5\"/>\n<polygon fill=\"black\" stroke=\"black\" points=\"143.78,-92 153.78,-88.5 143.78,-85 143.78,-92\"/>\n</g>\n<!-- 137096162306672 -->\n<g id=\"node5\" class=\"node\">\n<title>137096162306672</title>\n<polygon fill=\"none\" stroke=\"black\" points=\"552,-162.5 552,-208.5 655,-208.5 655,-162.5 552,-162.5\"/>\n<text text-anchor=\"middle\" x=\"563.5\" y=\"-193.3\" font-family=\"Times,serif\" font-size=\"14.00\">b</text>\n<polyline fill=\"none\" stroke=\"black\" points=\"575,-185.5 575,-208.5 \"/>\n<text text-anchor=\"middle\" x=\"615\" y=\"-193.3\" font-family=\"Times,serif\" font-size=\"14.00\">data 6.8814</text>\n<polyline fill=\"none\" stroke=\"black\" points=\"552,-185.5 655,-185.5 \"/>\n<text text-anchor=\"middle\" x=\"603.5\" y=\"-170.3\" font-family=\"Times,serif\" font-size=\"14.00\">grad 0.5000</text>\n</g>\n<!-- 137096162303696+ -->\n<g id=\"node14\" class=\"node\">\n<title>137096162303696+</title>\n<ellipse fill=\"none\" stroke=\"black\" cx=\"762\" cy=\"-152.5\" rx=\"27\" ry=\"18\"/>\n<text text-anchor=\"middle\" x=\"762\" y=\"-148.8\" font-family=\"Times,serif\" font-size=\"14.00\">+</text>\n</g>\n<!-- 137096162306672&#45;&gt;137096162303696+ -->\n<g id=\"edge25\" class=\"edge\">\n<title>137096162306672&#45;&gt;137096162303696+</title>\n<path fill=\"none\" stroke=\"black\" d=\"M655.31,-174.79C678.37,-169.92 705.07,-164.29 725.86,-159.91\"/>\n<polygon fill=\"black\" stroke=\"black\" points=\"726.79,-163.29 735.85,-157.8 725.34,-156.44 726.79,-163.29\"/>\n</g>\n<!-- 137096162307728 -->\n<g id=\"node6\" class=\"node\">\n<title>137096162307728</title>\n<polygon fill=\"none\" stroke=\"black\" points=\"1647,-126.5 1647,-172.5 1747,-172.5 1747,-126.5 1647,-126.5\"/>\n<text text-anchor=\"middle\" x=\"1657\" y=\"-157.3\" font-family=\"Times,serif\" font-size=\"14.00\"> </text>\n<polyline fill=\"none\" stroke=\"black\" points=\"1667,-149.5 1667,-172.5 \"/>\n<text text-anchor=\"middle\" x=\"1707\" y=\"-157.3\" font-family=\"Times,serif\" font-size=\"14.00\">data 4.8284</text>\n<polyline fill=\"none\" stroke=\"black\" points=\"1647,-149.5 1747,-149.5 \"/>\n<text text-anchor=\"middle\" x=\"1697\" y=\"-134.3\" font-family=\"Times,serif\" font-size=\"14.00\">grad 0.1464</text>\n</g>\n<!-- 137096162307728&#45;&gt;137096162298368* -->\n<g id=\"edge15\" class=\"edge\">\n<title>137096162307728&#45;&gt;137096162298368*</title>\n<path fill=\"none\" stroke=\"black\" d=\"M1747.09,-143.54C1794.92,-137.73 1866.49,-129.04 1909.19,-123.85\"/>\n<polygon fill=\"black\" stroke=\"black\" points=\"1909.62,-127.32 1919.13,-122.64 1908.78,-120.37 1909.62,-127.32\"/>\n</g>\n<!-- 137096162307728+&#45;&gt;137096162307728 -->\n<g id=\"edge2\" class=\"edge\">\n<title>137096162307728+&#45;&gt;137096162307728</title>\n<path fill=\"none\" stroke=\"black\" d=\"M1475.43,-149.5C1513.62,-149.5 1585.26,-149.5 1636.54,-149.5\"/>\n<polygon fill=\"black\" stroke=\"black\" points=\"1636.83,-153 1646.83,-149.5 1636.83,-146 1636.83,-153\"/>\n</g>\n<!-- 137096162300048 -->\n<g id=\"node8\" class=\"node\">\n<title>137096162300048</title>\n<polygon fill=\"none\" stroke=\"black\" points=\"244,-130.5 244,-176.5 382,-176.5 382,-130.5 244,-130.5\"/>\n<text text-anchor=\"middle\" x=\"270.5\" y=\"-161.3\" font-family=\"Times,serif\" font-size=\"14.00\">x1*w1</text>\n<polyline fill=\"none\" stroke=\"black\" points=\"297,-153.5 297,-176.5 \"/>\n<text text-anchor=\"middle\" x=\"339.5\" y=\"-161.3\" font-family=\"Times,serif\" font-size=\"14.00\">data &#45;6.0000</text>\n<polyline fill=\"none\" stroke=\"black\" points=\"244,-153.5 382,-153.5 \"/>\n<text text-anchor=\"middle\" x=\"313\" y=\"-138.3\" font-family=\"Times,serif\" font-size=\"14.00\">grad 0.5000</text>\n</g>\n<!-- 137096162304752+ -->\n<g id=\"node17\" class=\"node\">\n<title>137096162304752+</title>\n<ellipse fill=\"none\" stroke=\"black\" cx=\"445\" cy=\"-120.5\" rx=\"27\" ry=\"18\"/>\n<text text-anchor=\"middle\" x=\"445\" y=\"-116.8\" font-family=\"Times,serif\" font-size=\"14.00\">+</text>\n</g>\n<!-- 137096162300048&#45;&gt;137096162304752+ -->\n<g id=\"edge17\" class=\"edge\">\n<title>137096162300048&#45;&gt;137096162304752+</title>\n<path fill=\"none\" stroke=\"black\" d=\"M382.05,-136.23C391.57,-133.81 401,-131.42 409.53,-129.25\"/>\n<polygon fill=\"black\" stroke=\"black\" points=\"410.59,-132.59 419.42,-126.74 408.87,-125.81 410.59,-132.59\"/>\n</g>\n<!-- 137096162300048* -->\n<g id=\"node9\" class=\"node\">\n<title>137096162300048*</title>\n<ellipse fill=\"none\" stroke=\"black\" cx=\"181\" cy=\"-153.5\" rx=\"27\" ry=\"18\"/>\n<text text-anchor=\"middle\" x=\"181\" y=\"-149.8\" font-family=\"Times,serif\" font-size=\"14.00\">*</text>\n</g>\n<!-- 137096162300048*&#45;&gt;137096162300048 -->\n<g id=\"edge3\" class=\"edge\">\n<title>137096162300048*&#45;&gt;137096162300048</title>\n<path fill=\"none\" stroke=\"black\" d=\"M208.31,-153.5C215.85,-153.5 224.49,-153.5 233.5,-153.5\"/>\n<polygon fill=\"black\" stroke=\"black\" points=\"233.78,-157 243.78,-153.5 233.78,-150 233.78,-157\"/>\n</g>\n<!-- 137096162296976 -->\n<g id=\"node10\" class=\"node\">\n<title>137096162296976</title>\n<polygon fill=\"none\" stroke=\"black\" points=\"2.5,-0.5 2.5,-46.5 115.5,-46.5 115.5,-0.5 2.5,-0.5\"/>\n<text text-anchor=\"middle\" x=\"19\" y=\"-31.3\" font-family=\"Times,serif\" font-size=\"14.00\">w2</text>\n<polyline fill=\"none\" stroke=\"black\" points=\"35.5,-23.5 35.5,-46.5 \"/>\n<text text-anchor=\"middle\" x=\"75.5\" y=\"-31.3\" font-family=\"Times,serif\" font-size=\"14.00\">data 1.0000</text>\n<polyline fill=\"none\" stroke=\"black\" points=\"2.5,-23.5 115.5,-23.5 \"/>\n<text text-anchor=\"middle\" x=\"59\" y=\"-8.3\" font-family=\"Times,serif\" font-size=\"14.00\">grad 0.0000</text>\n</g>\n<!-- 137096162296976&#45;&gt;137096162304944* -->\n<g id=\"edge22\" class=\"edge\">\n<title>137096162296976&#45;&gt;137096162304944*</title>\n<path fill=\"none\" stroke=\"black\" d=\"M102.65,-46.6C118.45,-55.16 136.01,-64.67 150.4,-72.47\"/>\n<polygon fill=\"black\" stroke=\"black\" points=\"148.89,-75.63 159.35,-77.32 152.23,-69.48 148.89,-75.63\"/>\n</g>\n<!-- 137096162304704 -->\n<g id=\"node11\" class=\"node\">\n<title>137096162304704</title>\n<polygon fill=\"none\" stroke=\"black\" points=\"1054,-96.5 1054,-142.5 1154,-142.5 1154,-96.5 1054,-96.5\"/>\n<text text-anchor=\"middle\" x=\"1064\" y=\"-127.3\" font-family=\"Times,serif\" font-size=\"14.00\"> </text>\n<polyline fill=\"none\" stroke=\"black\" points=\"1074,-119.5 1074,-142.5 \"/>\n<text text-anchor=\"middle\" x=\"1114\" y=\"-127.3\" font-family=\"Times,serif\" font-size=\"14.00\">data 1.7627</text>\n<polyline fill=\"none\" stroke=\"black\" points=\"1054,-119.5 1154,-119.5 \"/>\n<text text-anchor=\"middle\" x=\"1104\" y=\"-104.3\" font-family=\"Times,serif\" font-size=\"14.00\">grad 0.2500</text>\n</g>\n<!-- 137096162305424exp -->\n<g id=\"node25\" class=\"node\">\n<title>137096162305424exp</title>\n<ellipse fill=\"none\" stroke=\"black\" cx=\"1217\" cy=\"-119.5\" rx=\"27\" ry=\"18\"/>\n<text text-anchor=\"middle\" x=\"1217\" y=\"-115.8\" font-family=\"Times,serif\" font-size=\"14.00\">exp</text>\n</g>\n<!-- 137096162304704&#45;&gt;137096162305424exp -->\n<g id=\"edge20\" class=\"edge\">\n<title>137096162304704&#45;&gt;137096162305424exp</title>\n<path fill=\"none\" stroke=\"black\" d=\"M1154.01,-119.5C1162.67,-119.5 1171.54,-119.5 1179.76,-119.5\"/>\n<polygon fill=\"black\" stroke=\"black\" points=\"1179.77,-123 1189.77,-119.5 1179.77,-116 1179.77,-123\"/>\n</g>\n<!-- 137096162304704* -->\n<g id=\"node12\" class=\"node\">\n<title>137096162304704*</title>\n<ellipse fill=\"none\" stroke=\"black\" cx=\"991\" cy=\"-119.5\" rx=\"27\" ry=\"18\"/>\n<text text-anchor=\"middle\" x=\"991\" y=\"-115.8\" font-family=\"Times,serif\" font-size=\"14.00\">*</text>\n</g>\n<!-- 137096162304704*&#45;&gt;137096162304704 -->\n<g id=\"edge4\" class=\"edge\">\n<title>137096162304704*&#45;&gt;137096162304704</title>\n<path fill=\"none\" stroke=\"black\" d=\"M1018.02,-119.5C1025.75,-119.5 1034.56,-119.5 1043.5,-119.5\"/>\n<polygon fill=\"black\" stroke=\"black\" points=\"1043.6,-123 1053.6,-119.5 1043.6,-116 1043.6,-123\"/>\n</g>\n<!-- 137096162303696 -->\n<g id=\"node13\" class=\"node\">\n<title>137096162303696</title>\n<polygon fill=\"none\" stroke=\"black\" points=\"825,-129.5 825,-175.5 928,-175.5 928,-129.5 825,-129.5\"/>\n<text text-anchor=\"middle\" x=\"836.5\" y=\"-160.3\" font-family=\"Times,serif\" font-size=\"14.00\">n</text>\n<polyline fill=\"none\" stroke=\"black\" points=\"848,-152.5 848,-175.5 \"/>\n<text text-anchor=\"middle\" x=\"888\" y=\"-160.3\" font-family=\"Times,serif\" font-size=\"14.00\">data 0.8814</text>\n<polyline fill=\"none\" stroke=\"black\" points=\"825,-152.5 928,-152.5 \"/>\n<text text-anchor=\"middle\" x=\"876.5\" y=\"-137.3\" font-family=\"Times,serif\" font-size=\"14.00\">grad 0.5000</text>\n</g>\n<!-- 137096162303696&#45;&gt;137096162304704* -->\n<g id=\"edge21\" class=\"edge\">\n<title>137096162303696&#45;&gt;137096162304704*</title>\n<path fill=\"none\" stroke=\"black\" d=\"M928.16,-137.64C937.63,-134.86 947.32,-132.02 956.13,-129.44\"/>\n<polygon fill=\"black\" stroke=\"black\" points=\"957.39,-132.71 966,-126.54 955.42,-125.99 957.39,-132.71\"/>\n</g>\n<!-- 137096162303696+&#45;&gt;137096162303696 -->\n<g id=\"edge5\" class=\"edge\">\n<title>137096162303696+&#45;&gt;137096162303696</title>\n<path fill=\"none\" stroke=\"black\" d=\"M789.09,-152.5C796.83,-152.5 805.64,-152.5 814.61,-152.5\"/>\n<polygon fill=\"black\" stroke=\"black\" points=\"814.76,-156 824.76,-152.5 814.76,-149 814.76,-156\"/>\n</g>\n<!-- 137096162309840 -->\n<g id=\"node15\" class=\"node\">\n<title>137096162309840</title>\n<polygon fill=\"none\" stroke=\"black\" points=\"4,-195.5 4,-241.5 114,-241.5 114,-195.5 4,-195.5\"/>\n<text text-anchor=\"middle\" x=\"19\" y=\"-226.3\" font-family=\"Times,serif\" font-size=\"14.00\">x1</text>\n<polyline fill=\"none\" stroke=\"black\" points=\"34,-218.5 34,-241.5 \"/>\n<text text-anchor=\"middle\" x=\"74\" y=\"-226.3\" font-family=\"Times,serif\" font-size=\"14.00\">data 2.0000</text>\n<polyline fill=\"none\" stroke=\"black\" points=\"4,-218.5 114,-218.5 \"/>\n<text text-anchor=\"middle\" x=\"59\" y=\"-203.3\" font-family=\"Times,serif\" font-size=\"14.00\">grad &#45;1.5000</text>\n</g>\n<!-- 137096162309840&#45;&gt;137096162300048* -->\n<g id=\"edge28\" class=\"edge\">\n<title>137096162309840&#45;&gt;137096162300048*</title>\n<path fill=\"none\" stroke=\"black\" d=\"M102.65,-195.4C118.45,-186.84 136.01,-177.33 150.4,-169.53\"/>\n<polygon fill=\"black\" stroke=\"black\" points=\"152.23,-172.52 159.35,-164.68 148.89,-166.37 152.23,-172.52\"/>\n</g>\n<!-- 137096162304752 -->\n<g id=\"node16\" class=\"node\">\n<title>137096162304752</title>\n<polygon fill=\"none\" stroke=\"black\" points=\"508,-97.5 508,-143.5 699,-143.5 699,-97.5 508,-97.5\"/>\n<text text-anchor=\"middle\" x=\"561\" y=\"-128.3\" font-family=\"Times,serif\" font-size=\"14.00\">x1*w1 + x2*w2</text>\n<polyline fill=\"none\" stroke=\"black\" points=\"614,-120.5 614,-143.5 \"/>\n<text text-anchor=\"middle\" x=\"656.5\" y=\"-128.3\" font-family=\"Times,serif\" font-size=\"14.00\">data &#45;6.0000</text>\n<polyline fill=\"none\" stroke=\"black\" points=\"508,-120.5 699,-120.5 \"/>\n<text text-anchor=\"middle\" x=\"603.5\" y=\"-105.3\" font-family=\"Times,serif\" font-size=\"14.00\">grad 0.5000</text>\n</g>\n<!-- 137096162304752&#45;&gt;137096162303696+ -->\n<g id=\"edge12\" class=\"edge\">\n<title>137096162304752&#45;&gt;137096162303696+</title>\n<path fill=\"none\" stroke=\"black\" d=\"M699.15,-139.85C708.65,-141.8 717.82,-143.67 726.05,-145.35\"/>\n<polygon fill=\"black\" stroke=\"black\" points=\"725.44,-148.8 735.94,-147.38 726.84,-141.94 725.44,-148.8\"/>\n</g>\n<!-- 137096162304752+&#45;&gt;137096162304752 -->\n<g id=\"edge6\" class=\"edge\">\n<title>137096162304752+&#45;&gt;137096162304752</title>\n<path fill=\"none\" stroke=\"black\" d=\"M472.19,-120.5C479.67,-120.5 488.31,-120.5 497.51,-120.5\"/>\n<polygon fill=\"black\" stroke=\"black\" points=\"497.68,-124 507.68,-120.5 497.68,-117 497.68,-124\"/>\n</g>\n<!-- 137096162296592 -->\n<g id=\"node18\" class=\"node\">\n<title>137096162296592</title>\n<polygon fill=\"none\" stroke=\"black\" points=\"826.5,-64.5 826.5,-110.5 926.5,-110.5 926.5,-64.5 826.5,-64.5\"/>\n<text text-anchor=\"middle\" x=\"836.5\" y=\"-95.3\" font-family=\"Times,serif\" font-size=\"14.00\"> </text>\n<polyline fill=\"none\" stroke=\"black\" points=\"846.5,-87.5 846.5,-110.5 \"/>\n<text text-anchor=\"middle\" x=\"886.5\" y=\"-95.3\" font-family=\"Times,serif\" font-size=\"14.00\">data 2.0000</text>\n<polyline fill=\"none\" stroke=\"black\" points=\"826.5,-87.5 926.5,-87.5 \"/>\n<text text-anchor=\"middle\" x=\"876.5\" y=\"-72.3\" font-family=\"Times,serif\" font-size=\"14.00\">grad 0.2203</text>\n</g>\n<!-- 137096162296592&#45;&gt;137096162304704* -->\n<g id=\"edge16\" class=\"edge\">\n<title>137096162296592&#45;&gt;137096162304704*</title>\n<path fill=\"none\" stroke=\"black\" d=\"M926.52,-101.44C936.52,-104.29 946.83,-107.22 956.16,-109.87\"/>\n<polygon fill=\"black\" stroke=\"black\" points=\"955.26,-113.26 965.83,-112.63 957.17,-106.52 955.26,-113.26\"/>\n</g>\n<!-- 137096162308880 -->\n<g id=\"node19\" class=\"node\">\n<title>137096162308880</title>\n<polygon fill=\"none\" stroke=\"black\" points=\"1783,-70.5 1783,-116.5 1883,-116.5 1883,-70.5 1783,-70.5\"/>\n<text text-anchor=\"middle\" x=\"1793\" y=\"-101.3\" font-family=\"Times,serif\" font-size=\"14.00\"> </text>\n<polyline fill=\"none\" stroke=\"black\" points=\"1803,-93.5 1803,-116.5 \"/>\n<text text-anchor=\"middle\" x=\"1843\" y=\"-101.3\" font-family=\"Times,serif\" font-size=\"14.00\">data 0.1464</text>\n<polyline fill=\"none\" stroke=\"black\" points=\"1783,-93.5 1883,-93.5 \"/>\n<text text-anchor=\"middle\" x=\"1833\" y=\"-78.3\" font-family=\"Times,serif\" font-size=\"14.00\">grad 4.8284</text>\n</g>\n<!-- 137096162308880&#45;&gt;137096162298368* -->\n<g id=\"edge19\" class=\"edge\">\n<title>137096162308880&#45;&gt;137096162298368*</title>\n<path fill=\"none\" stroke=\"black\" d=\"M1883.01,-104.98C1892.28,-107.15 1901.79,-109.38 1910.49,-111.42\"/>\n<polygon fill=\"black\" stroke=\"black\" points=\"1909.74,-114.84 1920.28,-113.71 1911.34,-108.02 1909.74,-114.84\"/>\n</g>\n<!-- 137096162308880**&#45;1 -->\n<g id=\"node20\" class=\"node\">\n<title>137096162308880**&#45;1</title>\n<ellipse fill=\"none\" stroke=\"black\" cx=\"1697\" cy=\"-89.5\" rx=\"27\" ry=\"18\"/>\n<text text-anchor=\"middle\" x=\"1697\" y=\"-85.8\" font-family=\"Times,serif\" font-size=\"14.00\">**&#45;1</text>\n</g>\n<!-- 137096162308880**&#45;1&#45;&gt;137096162308880 -->\n<g id=\"edge7\" class=\"edge\">\n<title>137096162308880**&#45;1&#45;&gt;137096162308880</title>\n<path fill=\"none\" stroke=\"black\" d=\"M1724.15,-90.28C1737.97,-90.69 1755.53,-91.22 1772.44,-91.72\"/>\n<polygon fill=\"black\" stroke=\"black\" points=\"1772.76,-95.23 1782.86,-92.03 1772.96,-88.24 1772.76,-95.23\"/>\n</g>\n<!-- 137096162307920 -->\n<g id=\"node21\" class=\"node\">\n<title>137096162307920</title>\n<polygon fill=\"none\" stroke=\"black\" points=\"1511,-66.5 1511,-112.5 1611,-112.5 1611,-66.5 1511,-66.5\"/>\n<text text-anchor=\"middle\" x=\"1521\" y=\"-97.3\" font-family=\"Times,serif\" font-size=\"14.00\"> </text>\n<polyline fill=\"none\" stroke=\"black\" points=\"1531,-89.5 1531,-112.5 \"/>\n<text text-anchor=\"middle\" x=\"1571\" y=\"-97.3\" font-family=\"Times,serif\" font-size=\"14.00\">data 6.8284</text>\n<polyline fill=\"none\" stroke=\"black\" points=\"1511,-89.5 1611,-89.5 \"/>\n<text text-anchor=\"middle\" x=\"1561\" y=\"-74.3\" font-family=\"Times,serif\" font-size=\"14.00\">grad &#45;0.1036</text>\n</g>\n<!-- 137096162307920&#45;&gt;137096162308880**&#45;1 -->\n<g id=\"edge13\" class=\"edge\">\n<title>137096162307920&#45;&gt;137096162308880**&#45;1</title>\n<path fill=\"none\" stroke=\"black\" d=\"M1611.14,-89.5C1627.12,-89.5 1644.58,-89.5 1659.47,-89.5\"/>\n<polygon fill=\"black\" stroke=\"black\" points=\"1659.81,-93 1669.81,-89.5 1659.81,-86 1659.81,-93\"/>\n</g>\n<!-- 137096162307920+ -->\n<g id=\"node22\" class=\"node\">\n<title>137096162307920+</title>\n<ellipse fill=\"none\" stroke=\"black\" cx=\"1448\" cy=\"-89.5\" rx=\"27\" ry=\"18\"/>\n<text text-anchor=\"middle\" x=\"1448\" y=\"-85.8\" font-family=\"Times,serif\" font-size=\"14.00\">+</text>\n</g>\n<!-- 137096162307920+&#45;&gt;137096162307920 -->\n<g id=\"edge8\" class=\"edge\">\n<title>137096162307920+&#45;&gt;137096162307920</title>\n<path fill=\"none\" stroke=\"black\" d=\"M1475.02,-89.5C1482.75,-89.5 1491.56,-89.5 1500.5,-89.5\"/>\n<polygon fill=\"black\" stroke=\"black\" points=\"1500.6,-93 1510.6,-89.5 1500.6,-86 1500.6,-93\"/>\n</g>\n<!-- 137096162299232 -->\n<g id=\"node23\" class=\"node\">\n<title>137096162299232</title>\n<polygon fill=\"none\" stroke=\"black\" points=\"1282.5,-31.5 1282.5,-77.5 1382.5,-77.5 1382.5,-31.5 1282.5,-31.5\"/>\n<text text-anchor=\"middle\" x=\"1292.5\" y=\"-62.3\" font-family=\"Times,serif\" font-size=\"14.00\"> </text>\n<polyline fill=\"none\" stroke=\"black\" points=\"1302.5,-54.5 1302.5,-77.5 \"/>\n<text text-anchor=\"middle\" x=\"1342.5\" y=\"-62.3\" font-family=\"Times,serif\" font-size=\"14.00\">data 1.0000</text>\n<polyline fill=\"none\" stroke=\"black\" points=\"1282.5,-54.5 1382.5,-54.5 \"/>\n<text text-anchor=\"middle\" x=\"1332.5\" y=\"-39.3\" font-family=\"Times,serif\" font-size=\"14.00\">grad &#45;0.1036</text>\n</g>\n<!-- 137096162299232&#45;&gt;137096162307920+ -->\n<g id=\"edge11\" class=\"edge\">\n<title>137096162299232&#45;&gt;137096162307920+</title>\n<path fill=\"none\" stroke=\"black\" d=\"M1382.62,-69.65C1393.03,-72.86 1403.78,-76.17 1413.45,-79.15\"/>\n<polygon fill=\"black\" stroke=\"black\" points=\"1412.48,-82.52 1423.07,-82.12 1414.55,-75.83 1412.48,-82.52\"/>\n</g>\n<!-- 137096162305424 -->\n<g id=\"node24\" class=\"node\">\n<title>137096162305424</title>\n<polygon fill=\"none\" stroke=\"black\" points=\"1282.5,-96.5 1282.5,-142.5 1382.5,-142.5 1382.5,-96.5 1282.5,-96.5\"/>\n<text text-anchor=\"middle\" x=\"1292.5\" y=\"-127.3\" font-family=\"Times,serif\" font-size=\"14.00\"> </text>\n<polyline fill=\"none\" stroke=\"black\" points=\"1302.5,-119.5 1302.5,-142.5 \"/>\n<text text-anchor=\"middle\" x=\"1342.5\" y=\"-127.3\" font-family=\"Times,serif\" font-size=\"14.00\">data 5.8284</text>\n<polyline fill=\"none\" stroke=\"black\" points=\"1282.5,-119.5 1382.5,-119.5 \"/>\n<text text-anchor=\"middle\" x=\"1332.5\" y=\"-104.3\" font-family=\"Times,serif\" font-size=\"14.00\">grad 0.0429</text>\n</g>\n<!-- 137096162305424&#45;&gt;137096162307728+ -->\n<g id=\"edge24\" class=\"edge\">\n<title>137096162305424&#45;&gt;137096162307728+</title>\n<path fill=\"none\" stroke=\"black\" d=\"M1382.62,-132.48C1392.74,-135.16 1403.19,-137.92 1412.65,-140.42\"/>\n<polygon fill=\"black\" stroke=\"black\" points=\"1411.9,-143.84 1422.47,-143.01 1413.69,-137.08 1411.9,-143.84\"/>\n</g>\n<!-- 137096162305424&#45;&gt;137096162307920+ -->\n<g id=\"edge18\" class=\"edge\">\n<title>137096162305424&#45;&gt;137096162307920+</title>\n<path fill=\"none\" stroke=\"black\" d=\"M1382.62,-106.52C1392.74,-103.84 1403.19,-101.08 1412.65,-98.58\"/>\n<polygon fill=\"black\" stroke=\"black\" points=\"1413.69,-101.92 1422.47,-95.99 1411.9,-95.16 1413.69,-101.92\"/>\n</g>\n<!-- 137096162305424exp&#45;&gt;137096162305424 -->\n<g id=\"edge9\" class=\"edge\">\n<title>137096162305424exp&#45;&gt;137096162305424</title>\n<path fill=\"none\" stroke=\"black\" d=\"M1244.04,-119.5C1252.49,-119.5 1262.24,-119.5 1272.1,-119.5\"/>\n<polygon fill=\"black\" stroke=\"black\" points=\"1272.37,-123 1282.37,-119.5 1272.37,-116 1272.37,-123\"/>\n</g>\n<!-- 137096162304944 -->\n<g id=\"node26\" class=\"node\">\n<title>137096162304944</title>\n<polygon fill=\"none\" stroke=\"black\" points=\"246.5,-65.5 246.5,-111.5 379.5,-111.5 379.5,-65.5 246.5,-65.5\"/>\n<text text-anchor=\"middle\" x=\"273\" y=\"-96.3\" font-family=\"Times,serif\" font-size=\"14.00\">x2*w2</text>\n<polyline fill=\"none\" stroke=\"black\" points=\"299.5,-88.5 299.5,-111.5 \"/>\n<text text-anchor=\"middle\" x=\"339.5\" y=\"-96.3\" font-family=\"Times,serif\" font-size=\"14.00\">data 0.0000</text>\n<polyline fill=\"none\" stroke=\"black\" points=\"246.5,-88.5 379.5,-88.5 \"/>\n<text text-anchor=\"middle\" x=\"313\" y=\"-73.3\" font-family=\"Times,serif\" font-size=\"14.00\">grad 0.5000</text>\n</g>\n<!-- 137096162304944&#45;&gt;137096162304752+ -->\n<g id=\"edge14\" class=\"edge\">\n<title>137096162304944&#45;&gt;137096162304752+</title>\n<path fill=\"none\" stroke=\"black\" d=\"M379.76,-104.69C390.01,-107.21 400.24,-109.73 409.41,-111.99\"/>\n<polygon fill=\"black\" stroke=\"black\" points=\"408.73,-115.42 419.28,-114.42 410.41,-108.63 408.73,-115.42\"/>\n</g>\n<!-- 137096162304944*&#45;&gt;137096162304944 -->\n<g id=\"edge10\" class=\"edge\">\n<title>137096162304944*&#45;&gt;137096162304944</title>\n<path fill=\"none\" stroke=\"black\" d=\"M208.31,-88.5C216.65,-88.5 226.34,-88.5 236.37,-88.5\"/>\n<polygon fill=\"black\" stroke=\"black\" points=\"236.48,-92 246.48,-88.5 236.48,-85 236.48,-92\"/>\n</g>\n<!-- 137096162301920 -->\n<g id=\"node28\" class=\"node\">\n<title>137096162301920</title>\n<polygon fill=\"none\" stroke=\"black\" points=\"0,-130.5 0,-176.5 118,-176.5 118,-130.5 0,-130.5\"/>\n<text text-anchor=\"middle\" x=\"16.5\" y=\"-161.3\" font-family=\"Times,serif\" font-size=\"14.00\">w1</text>\n<polyline fill=\"none\" stroke=\"black\" points=\"33,-153.5 33,-176.5 \"/>\n<text text-anchor=\"middle\" x=\"75.5\" y=\"-161.3\" font-family=\"Times,serif\" font-size=\"14.00\">data &#45;3.0000</text>\n<polyline fill=\"none\" stroke=\"black\" points=\"0,-153.5 118,-153.5 \"/>\n<text text-anchor=\"middle\" x=\"59\" y=\"-138.3\" font-family=\"Times,serif\" font-size=\"14.00\">grad 1.0000</text>\n</g>\n<!-- 137096162301920&#45;&gt;137096162300048* -->\n<g id=\"edge27\" class=\"edge\">\n<title>137096162301920&#45;&gt;137096162300048*</title>\n<path fill=\"none\" stroke=\"black\" d=\"M118.24,-153.5C126.96,-153.5 135.73,-153.5 143.81,-153.5\"/>\n<polygon fill=\"black\" stroke=\"black\" points=\"143.98,-157 153.98,-153.5 143.98,-150 143.98,-157\"/>\n</g>\n</g>\n</svg>\n",
            "text/plain": [
              "<graphviz.graphs.Digraph at 0x7cb0300df9a0>"
            ]
          },
          "metadata": {},
          "execution_count": 44
        }
      ]
    },
    {
      "cell_type": "markdown",
      "source": [
        "####Doing the same thing in torch"
      ],
      "metadata": {
        "id": "1DH71NsoyYTz"
      }
    },
    {
      "cell_type": "code",
      "source": [
        "import torch"
      ],
      "metadata": {
        "id": "mnvqsI8jwJgS"
      },
      "execution_count": null,
      "outputs": []
    },
    {
      "cell_type": "code",
      "source": [
        "x1 = torch.Tensor([2.0]).double()                ;x1.requires_grad = True\n",
        "x2 = torch.Tensor([0.0]).double()                ;x2.requires_grad = True\n",
        "w1 = torch.Tensor([-3.0]).double()               ;w1.requires_grad = True\n",
        "w2 = torch.Tensor([1.0]).double()                ;w2.requires_grad = True\n",
        "b =  torch.Tensor([6.8813735870195432]).double() ;b.requires_grad = True\n",
        "\n",
        "n = x1*w1 + x2*w2 + b\n",
        "o = torch.tanh(n)\n",
        "\n",
        "print(o.data.item())\n",
        "o.backward()\n",
        "\n",
        "\n",
        "print('--------')\n",
        "print('x2', x2.grad.item())\n",
        "print('w2', w2.grad.item())\n",
        "print('x1', x1.grad.item())\n",
        "print('w1', w1.grad.item())"
      ],
      "metadata": {
        "colab": {
          "base_uri": "https://localhost:8080/"
        },
        "id": "yl6Xck0Sycqo",
        "outputId": "97f4882c-a567-463b-d596-58a1abf9bc87"
      },
      "execution_count": null,
      "outputs": [
        {
          "output_type": "stream",
          "name": "stdout",
          "text": [
            "0.7071066904050358\n",
            "--------\n",
            "x2 0.5000001283844369\n",
            "w2 0.0\n",
            "x1 -1.5000003851533106\n",
            "w1 1.0000002567688737\n"
          ]
        }
      ]
    },
    {
      "cell_type": "code",
      "source": [
        "torch.Tensor([[1, 2, 3], [4, 5, 6]])"
      ],
      "metadata": {
        "colab": {
          "base_uri": "https://localhost:8080/"
        },
        "id": "IG0HwRwA0Z-l",
        "outputId": "f48a9e63-4852-4648-b6b2-7119da9e05f0"
      },
      "execution_count": null,
      "outputs": [
        {
          "output_type": "execute_result",
          "data": {
            "text/plain": [
              "tensor([[1., 2., 3.],\n",
              "        [4., 5., 6.]])"
            ]
          },
          "metadata": {},
          "execution_count": 47
        }
      ]
    },
    {
      "cell_type": "markdown",
      "source": [
        "by default datatype of tensor is float32; by doing double().dtype is float64 which matches python\n"
      ],
      "metadata": {
        "id": "k-VJt9QQ1KXk"
      }
    },
    {
      "cell_type": "code",
      "source": [
        "o"
      ],
      "metadata": {
        "colab": {
          "base_uri": "https://localhost:8080/"
        },
        "id": "9u3BwFur0rGz",
        "outputId": "a0c4387b-7155-44b3-a463-041c98b72e4c"
      },
      "execution_count": null,
      "outputs": [
        {
          "output_type": "execute_result",
          "data": {
            "text/plain": [
              "tensor([0.7071], dtype=torch.float64, grad_fn=<TanhBackward0>)"
            ]
          },
          "metadata": {},
          "execution_count": 48
        }
      ]
    },
    {
      "cell_type": "code",
      "source": [
        "o.data.item()"
      ],
      "metadata": {
        "colab": {
          "base_uri": "https://localhost:8080/"
        },
        "id": "Fp4L2yFo3pe9",
        "outputId": "cbec0ca6-dbc4-45eb-e56b-adafe4f3a5cb"
      },
      "execution_count": null,
      "outputs": [
        {
          "output_type": "execute_result",
          "data": {
            "text/plain": [
              "0.7071066904050358"
            ]
          },
          "metadata": {},
          "execution_count": 49
        }
      ]
    },
    {
      "cell_type": "code",
      "source": [
        "o.item()"
      ],
      "metadata": {
        "colab": {
          "base_uri": "https://localhost:8080/"
        },
        "id": "KRQyZBro3rNw",
        "outputId": "f8c7006b-8bad-44bc-fe81-f0617b8bc71c"
      },
      "execution_count": null,
      "outputs": [
        {
          "output_type": "execute_result",
          "data": {
            "text/plain": [
              "0.7071066904050358"
            ]
          },
          "metadata": {},
          "execution_count": 50
        }
      ]
    },
    {
      "cell_type": "markdown",
      "source": [
        "##building neuralnets from our class"
      ],
      "metadata": {
        "id": "P0z6gnie4JrP"
      }
    },
    {
      "cell_type": "code",
      "source": [
        "import random"
      ],
      "metadata": {
        "id": "JrhPnL3j2PEo"
      },
      "execution_count": null,
      "outputs": []
    },
    {
      "cell_type": "code",
      "source": [
        "class Neuron:\n",
        "  def __init__(self, nin):\n",
        "    self.w = [Value(random.uniform(-1, 1)) for _ in range(nin)]\n",
        "    self.b = Value(random.uniform(-1, 1))\n",
        "\n",
        "  def __call__(self, x):\n",
        "    # w * x + b\n",
        "    act = sum((wi*xi for wi, xi in zip(self.w,x)), self.b)\n",
        "    out = act.tanh()\n",
        "    return out\n",
        "\n",
        "    ''' this is related to single neuron, whcih takes inputs, and multiplies with weights\n",
        "    and adds single bias, for clarity look at. teh image of single neuron above'''\n",
        "\n",
        "\n",
        "  def parameters(self):\n",
        "    return self.w + [self.b]\n",
        "\n",
        "\n",
        "class Layer:\n",
        "\n",
        "  def __init__(self, nin, nout):\n",
        "    self.neurons = [Neuron(nin) for _ in range(nout)]\n",
        "\n",
        "  def __call__(self, x):\n",
        "    outs = [n(x) for n in self.neurons]\n",
        "    return outs[0] if len(outs) == 1 else outs\n",
        "\n",
        "  def parameters(self):\n",
        "    return [p for neuron in self.neurons for p in neuron.parameters()]\n",
        "\n",
        "\n",
        "class MLP:\n",
        "  def __init__(self, nin, nouts):\n",
        "    sz = [nin] + nouts\n",
        "    self.layers = [Layer(sz[i], sz[i+1]) for i in range(len(nouts))]\n",
        "\n",
        "\n",
        "  def __call__(self, x):\n",
        "    for layer in self.layers:\n",
        "      x = layer(x)\n",
        "    return x\n",
        "\n",
        "  def parameters(self):\n",
        "    return [p for layer in self.layers for p in layer.parameters()]\n",
        "\n",
        "\n"
      ],
      "metadata": {
        "id": "azub-JUK30B2"
      },
      "execution_count": null,
      "outputs": []
    },
    {
      "cell_type": "code",
      "source": [
        "x = [2.0, 3.0, -1.0]\n",
        "n = MLP(3, [4, 4, 1])\n",
        "n(x)"
      ],
      "metadata": {
        "colab": {
          "base_uri": "https://localhost:8080/"
        },
        "id": "YcZW4s3Jb5wg",
        "outputId": "522c8dbd-c717-4039-9024-3bf2c498e5d0"
      },
      "execution_count": null,
      "outputs": [
        {
          "output_type": "execute_result",
          "data": {
            "text/plain": [
              "Value(data = -0.9865939630785188)"
            ]
          },
          "metadata": {},
          "execution_count": 69
        }
      ]
    },
    {
      "cell_type": "code",
      "source": [
        "len(n.parameters())"
      ],
      "metadata": {
        "colab": {
          "base_uri": "https://localhost:8080/"
        },
        "id": "LzVrYyF8UuWI",
        "outputId": "455cd6da-78a2-4d33-e0c7-5be963a7798f"
      },
      "execution_count": null,
      "outputs": [
        {
          "output_type": "execute_result",
          "data": {
            "text/plain": [
              "41"
            ]
          },
          "metadata": {},
          "execution_count": 71
        }
      ]
    },
    {
      "cell_type": "code",
      "source": [
        "draw_dot(n(x))"
      ],
      "metadata": {
        "colab": {
          "base_uri": "https://localhost:8080/",
          "height": 1000
        },
        "id": "PyUYv92-ASo_",
        "outputId": "c8c198d4-98fb-44ce-fb35-e85788f3e8c8"
      },
      "execution_count": null,
      "outputs": [
        {
          "output_type": "execute_result",
          "data": {
            "image/svg+xml": "<?xml version=\"1.0\" encoding=\"UTF-8\" standalone=\"no\"?>\n<!DOCTYPE svg PUBLIC \"-//W3C//DTD SVG 1.1//EN\"\n \"http://www.w3.org/Graphics/SVG/1.1/DTD/svg11.dtd\">\n<!-- Generated by graphviz version 2.43.0 (0)\n -->\n<!-- Title: %3 Pages: 1 -->\n<svg width=\"4122pt\" height=\"1225pt\"\n viewBox=\"0.00 0.00 4122.00 1225.00\" xmlns=\"http://www.w3.org/2000/svg\" xmlns:xlink=\"http://www.w3.org/1999/xlink\">\n<g id=\"graph0\" class=\"graph\" transform=\"scale(1 1) rotate(0) translate(4 1221)\">\n<title>%3</title>\n<polygon fill=\"white\" stroke=\"transparent\" points=\"-4,4 -4,-1221 4118,-1221 4118,4 -4,4\"/>\n<!-- 137092580974624 -->\n<g id=\"node1\" class=\"node\">\n<title>137092580974624</title>\n<polygon fill=\"none\" stroke=\"black\" points=\"1607,-227.5 1607,-273.5 1712,-273.5 1712,-227.5 1607,-227.5\"/>\n<text text-anchor=\"middle\" x=\"1617\" y=\"-258.3\" font-family=\"Times,serif\" font-size=\"14.00\"> </text>\n<polyline fill=\"none\" stroke=\"black\" points=\"1627,-250.5 1627,-273.5 \"/>\n<text text-anchor=\"middle\" x=\"1669.5\" y=\"-258.3\" font-family=\"Times,serif\" font-size=\"14.00\">data &#45;1.0300</text>\n<polyline fill=\"none\" stroke=\"black\" points=\"1607,-250.5 1712,-250.5 \"/>\n<text text-anchor=\"middle\" x=\"1659.5\" y=\"-235.3\" font-family=\"Times,serif\" font-size=\"14.00\">grad 0.0000</text>\n</g>\n<!-- 137092580974720tanh -->\n<g id=\"node4\" class=\"node\">\n<title>137092580974720tanh</title>\n<ellipse fill=\"none\" stroke=\"black\" cx=\"1775\" cy=\"-299.5\" rx=\"27\" ry=\"18\"/>\n<text text-anchor=\"middle\" x=\"1775\" y=\"-295.8\" font-family=\"Times,serif\" font-size=\"14.00\">tanh</text>\n</g>\n<!-- 137092580974624&#45;&gt;137092580974720tanh -->\n<g id=\"edge184\" class=\"edge\">\n<title>137092580974624&#45;&gt;137092580974720tanh</title>\n<path fill=\"none\" stroke=\"black\" d=\"M1712.27,-272.85C1722.6,-277.31 1733.14,-281.86 1742.53,-285.92\"/>\n<polygon fill=\"black\" stroke=\"black\" points=\"1741.27,-289.18 1751.84,-289.93 1744.05,-282.76 1741.27,-289.18\"/>\n</g>\n<!-- 137092580974624+ -->\n<g id=\"node2\" class=\"node\">\n<title>137092580974624+</title>\n<ellipse fill=\"none\" stroke=\"black\" cx=\"1544\" cy=\"-218.5\" rx=\"27\" ry=\"18\"/>\n<text text-anchor=\"middle\" x=\"1544\" y=\"-214.8\" font-family=\"Times,serif\" font-size=\"14.00\">+</text>\n</g>\n<!-- 137092580974624+&#45;&gt;137092580974624 -->\n<g id=\"edge1\" class=\"edge\">\n<title>137092580974624+&#45;&gt;137092580974624</title>\n<path fill=\"none\" stroke=\"black\" d=\"M1569.07,-225.29C1577.37,-227.63 1587.08,-230.36 1596.98,-233.16\"/>\n<polygon fill=\"black\" stroke=\"black\" points=\"1596.33,-236.61 1606.91,-235.95 1598.23,-229.87 1596.33,-236.61\"/>\n</g>\n<!-- 137092580974720 -->\n<g id=\"node3\" class=\"node\">\n<title>137092580974720</title>\n<polygon fill=\"none\" stroke=\"black\" points=\"1838,-325.5 1838,-371.5 1943,-371.5 1943,-325.5 1838,-325.5\"/>\n<text text-anchor=\"middle\" x=\"1848\" y=\"-356.3\" font-family=\"Times,serif\" font-size=\"14.00\"> </text>\n<polyline fill=\"none\" stroke=\"black\" points=\"1858,-348.5 1858,-371.5 \"/>\n<text text-anchor=\"middle\" x=\"1900.5\" y=\"-356.3\" font-family=\"Times,serif\" font-size=\"14.00\">data &#45;0.7739</text>\n<polyline fill=\"none\" stroke=\"black\" points=\"1838,-348.5 1943,-348.5 \"/>\n<text text-anchor=\"middle\" x=\"1890.5\" y=\"-333.3\" font-family=\"Times,serif\" font-size=\"14.00\">grad 0.0000</text>\n</g>\n<!-- 137092580976160* -->\n<g id=\"node33\" class=\"node\">\n<title>137092580976160*</title>\n<ellipse fill=\"none\" stroke=\"black\" cx=\"2006\" cy=\"-348.5\" rx=\"27\" ry=\"18\"/>\n<text text-anchor=\"middle\" x=\"2006\" y=\"-344.8\" font-family=\"Times,serif\" font-size=\"14.00\">*</text>\n</g>\n<!-- 137092580974720&#45;&gt;137092580976160* -->\n<g id=\"edge204\" class=\"edge\">\n<title>137092580974720&#45;&gt;137092580976160*</title>\n<path fill=\"none\" stroke=\"black\" d=\"M1943.27,-348.5C1951.8,-348.5 1960.49,-348.5 1968.55,-348.5\"/>\n<polygon fill=\"black\" stroke=\"black\" points=\"1968.72,-352 1978.72,-348.5 1968.72,-345 1968.72,-352\"/>\n</g>\n<!-- 137092580977888* -->\n<g id=\"node64\" class=\"node\">\n<title>137092580977888*</title>\n<ellipse fill=\"none\" stroke=\"black\" cx=\"2006\" cy=\"-608.5\" rx=\"27\" ry=\"18\"/>\n<text text-anchor=\"middle\" x=\"2006\" y=\"-604.8\" font-family=\"Times,serif\" font-size=\"14.00\">*</text>\n</g>\n<!-- 137092580974720&#45;&gt;137092580977888* -->\n<g id=\"edge162\" class=\"edge\">\n<title>137092580974720&#45;&gt;137092580977888*</title>\n<path fill=\"none\" stroke=\"black\" d=\"M1933.76,-371.59C1937.2,-374.6 1940.36,-377.91 1943,-381.5 1987.91,-442.6 2000.29,-534.44 2003.7,-580.32\"/>\n<polygon fill=\"black\" stroke=\"black\" points=\"2000.22,-580.67 2004.36,-590.43 2007.2,-580.22 2000.22,-580.67\"/>\n</g>\n<!-- 137092580979616* -->\n<g id=\"node103\" class=\"node\">\n<title>137092580979616*</title>\n<ellipse fill=\"none\" stroke=\"black\" cx=\"2006\" cy=\"-673.5\" rx=\"27\" ry=\"18\"/>\n<text text-anchor=\"middle\" x=\"2006\" y=\"-669.8\" font-family=\"Times,serif\" font-size=\"14.00\">*</text>\n</g>\n<!-- 137092580974720&#45;&gt;137092580979616* -->\n<g id=\"edge99\" class=\"edge\">\n<title>137092580974720&#45;&gt;137092580979616*</title>\n<path fill=\"none\" stroke=\"black\" d=\"M1934.72,-371.7C1937.87,-374.66 1940.7,-377.93 1943,-381.5 2004.61,-477.44 1937.72,-529.22 1979,-635.5 1980.82,-640.19 1983.32,-644.87 1986.05,-649.26\"/>\n<polygon fill=\"black\" stroke=\"black\" points=\"1983.33,-651.48 1991.84,-657.79 1989.11,-647.55 1983.33,-651.48\"/>\n</g>\n<!-- 137092580981344* -->\n<g id=\"node152\" class=\"node\">\n<title>137092580981344*</title>\n<ellipse fill=\"none\" stroke=\"black\" cx=\"2006\" cy=\"-288.5\" rx=\"27\" ry=\"18\"/>\n<text text-anchor=\"middle\" x=\"2006\" y=\"-284.8\" font-family=\"Times,serif\" font-size=\"14.00\">*</text>\n</g>\n<!-- 137092580974720&#45;&gt;137092580981344* -->\n<g id=\"edge86\" class=\"edge\">\n<title>137092580974720&#45;&gt;137092580981344*</title>\n<path fill=\"none\" stroke=\"black\" d=\"M1935.06,-325.47C1948.51,-318.36 1963.01,-310.7 1975.29,-304.2\"/>\n<polygon fill=\"black\" stroke=\"black\" points=\"1977,-307.26 1984.21,-299.49 1973.73,-301.07 1977,-307.26\"/>\n</g>\n<!-- 137092580974720tanh&#45;&gt;137092580974720 -->\n<g id=\"edge2\" class=\"edge\">\n<title>137092580974720tanh&#45;&gt;137092580974720</title>\n<path fill=\"none\" stroke=\"black\" d=\"M1798.15,-309.06C1806.94,-312.86 1817.5,-317.42 1828.29,-322.07\"/>\n<polygon fill=\"black\" stroke=\"black\" points=\"1827.22,-325.42 1837.78,-326.17 1829.99,-319 1827.22,-325.42\"/>\n</g>\n<!-- 137092581015712 -->\n<g id=\"node5\" class=\"node\">\n<title>137092581015712</title>\n<polygon fill=\"none\" stroke=\"black\" points=\"3552,-445.5 3552,-491.5 3652,-491.5 3652,-445.5 3552,-445.5\"/>\n<text text-anchor=\"middle\" x=\"3562\" y=\"-476.3\" font-family=\"Times,serif\" font-size=\"14.00\"> </text>\n<polyline fill=\"none\" stroke=\"black\" points=\"3572,-468.5 3572,-491.5 \"/>\n<text text-anchor=\"middle\" x=\"3612\" y=\"-476.3\" font-family=\"Times,serif\" font-size=\"14.00\">data 0.1018</text>\n<polyline fill=\"none\" stroke=\"black\" points=\"3552,-468.5 3652,-468.5 \"/>\n<text text-anchor=\"middle\" x=\"3602\" y=\"-453.3\" font-family=\"Times,serif\" font-size=\"14.00\">grad 0.0000</text>\n</g>\n<!-- 137092581016096+ -->\n<g id=\"node12\" class=\"node\">\n<title>137092581016096+</title>\n<ellipse fill=\"none\" stroke=\"black\" cx=\"3715\" cy=\"-438.5\" rx=\"27\" ry=\"18\"/>\n<text text-anchor=\"middle\" x=\"3715\" y=\"-434.8\" font-family=\"Times,serif\" font-size=\"14.00\">+</text>\n</g>\n<!-- 137092581015712&#45;&gt;137092581016096+ -->\n<g id=\"edge129\" class=\"edge\">\n<title>137092581015712&#45;&gt;137092581016096+</title>\n<path fill=\"none\" stroke=\"black\" d=\"M3652.01,-455.25C3661.36,-452.73 3670.96,-450.13 3679.73,-447.76\"/>\n<polygon fill=\"black\" stroke=\"black\" points=\"3680.83,-451.09 3689.57,-445.1 3679.01,-444.33 3680.83,-451.09\"/>\n</g>\n<!-- 137092581015712+ -->\n<g id=\"node6\" class=\"node\">\n<title>137092581015712+</title>\n<ellipse fill=\"none\" stroke=\"black\" cx=\"3489\" cy=\"-485.5\" rx=\"27\" ry=\"18\"/>\n<text text-anchor=\"middle\" x=\"3489\" y=\"-481.8\" font-family=\"Times,serif\" font-size=\"14.00\">+</text>\n</g>\n<!-- 137092581015712+&#45;&gt;137092581015712 -->\n<g id=\"edge3\" class=\"edge\">\n<title>137092581015712+&#45;&gt;137092581015712</title>\n<path fill=\"none\" stroke=\"black\" d=\"M3515.47,-481.6C3523.36,-480.39 3532.42,-479 3541.62,-477.59\"/>\n<polygon fill=\"black\" stroke=\"black\" points=\"3542.26,-481.04 3551.61,-476.06 3541.2,-474.12 3542.26,-481.04\"/>\n</g>\n<!-- 137092581015904 -->\n<g id=\"node7\" class=\"node\">\n<title>137092581015904</title>\n<polygon fill=\"none\" stroke=\"black\" points=\"2903,-372.5 2903,-418.5 3008,-418.5 3008,-372.5 2903,-372.5\"/>\n<text text-anchor=\"middle\" x=\"2913\" y=\"-403.3\" font-family=\"Times,serif\" font-size=\"14.00\"> </text>\n<polyline fill=\"none\" stroke=\"black\" points=\"2923,-395.5 2923,-418.5 \"/>\n<text text-anchor=\"middle\" x=\"2965.5\" y=\"-403.3\" font-family=\"Times,serif\" font-size=\"14.00\">data &#45;0.3527</text>\n<polyline fill=\"none\" stroke=\"black\" points=\"2903,-395.5 3008,-395.5 \"/>\n<text text-anchor=\"middle\" x=\"2955.5\" y=\"-380.3\" font-family=\"Times,serif\" font-size=\"14.00\">grad 0.0000</text>\n</g>\n<!-- 137092581015904&#45;&gt;137092581016096+ -->\n<g id=\"edge81\" class=\"edge\">\n<title>137092581015904&#45;&gt;137092581016096+</title>\n<path fill=\"none\" stroke=\"black\" d=\"M3008.1,-400.55C3063.78,-405.57 3155.08,-412.5 3234,-412.5 3234,-412.5 3234,-412.5 3490,-412.5 3557.23,-412.5 3635.07,-424.2 3679.02,-431.9\"/>\n<polygon fill=\"black\" stroke=\"black\" points=\"3678.46,-435.36 3688.92,-433.67 3679.69,-428.47 3678.46,-435.36\"/>\n</g>\n<!-- 137092581015904* -->\n<g id=\"node8\" class=\"node\">\n<title>137092581015904*</title>\n<ellipse fill=\"none\" stroke=\"black\" cx=\"2699\" cy=\"-353.5\" rx=\"27\" ry=\"18\"/>\n<text text-anchor=\"middle\" x=\"2699\" y=\"-349.8\" font-family=\"Times,serif\" font-size=\"14.00\">*</text>\n</g>\n<!-- 137092581015904*&#45;&gt;137092581015904 -->\n<g id=\"edge4\" class=\"edge\">\n<title>137092581015904*&#45;&gt;137092581015904</title>\n<path fill=\"none\" stroke=\"black\" d=\"M2725.33,-357.68C2764.07,-364.07 2839.19,-376.47 2892.86,-385.33\"/>\n<polygon fill=\"black\" stroke=\"black\" points=\"2892.52,-388.82 2902.96,-386.99 2893.66,-381.91 2892.52,-388.82\"/>\n</g>\n<!-- 137092580975008 -->\n<g id=\"node9\" class=\"node\">\n<title>137092580975008</title>\n<polygon fill=\"none\" stroke=\"black\" points=\"1378.5,-650.5 1378.5,-696.5 1478.5,-696.5 1478.5,-650.5 1378.5,-650.5\"/>\n<text text-anchor=\"middle\" x=\"1388.5\" y=\"-681.3\" font-family=\"Times,serif\" font-size=\"14.00\"> </text>\n<polyline fill=\"none\" stroke=\"black\" points=\"1398.5,-673.5 1398.5,-696.5 \"/>\n<text text-anchor=\"middle\" x=\"1438.5\" y=\"-681.3\" font-family=\"Times,serif\" font-size=\"14.00\">data 0.2752</text>\n<polyline fill=\"none\" stroke=\"black\" points=\"1378.5,-673.5 1478.5,-673.5 \"/>\n<text text-anchor=\"middle\" x=\"1428.5\" y=\"-658.3\" font-family=\"Times,serif\" font-size=\"14.00\">grad 0.0000</text>\n</g>\n<!-- 137092580975200+ -->\n<g id=\"node14\" class=\"node\">\n<title>137092580975200+</title>\n<ellipse fill=\"none\" stroke=\"black\" cx=\"1544\" cy=\"-543.5\" rx=\"27\" ry=\"18\"/>\n<text text-anchor=\"middle\" x=\"1544\" y=\"-539.8\" font-family=\"Times,serif\" font-size=\"14.00\">+</text>\n</g>\n<!-- 137092580975008&#45;&gt;137092580975200+ -->\n<g id=\"edge161\" class=\"edge\">\n<title>137092580975008&#45;&gt;137092580975200+</title>\n<path fill=\"none\" stroke=\"black\" d=\"M1470.72,-650.33C1474.37,-647.57 1477.86,-644.61 1481,-641.5 1502.2,-620.48 1519.64,-590.93 1530.57,-569.78\"/>\n<polygon fill=\"black\" stroke=\"black\" points=\"1533.76,-571.23 1535.12,-560.72 1527.5,-568.08 1533.76,-571.23\"/>\n</g>\n<!-- 137092580975008* -->\n<g id=\"node10\" class=\"node\">\n<title>137092580975008*</title>\n<ellipse fill=\"none\" stroke=\"black\" cx=\"1313\" cy=\"-673.5\" rx=\"27\" ry=\"18\"/>\n<text text-anchor=\"middle\" x=\"1313\" y=\"-669.8\" font-family=\"Times,serif\" font-size=\"14.00\">*</text>\n</g>\n<!-- 137092580975008*&#45;&gt;137092580975008 -->\n<g id=\"edge5\" class=\"edge\">\n<title>137092580975008*&#45;&gt;137092580975008</title>\n<path fill=\"none\" stroke=\"black\" d=\"M1340.04,-673.5C1348.49,-673.5 1358.24,-673.5 1368.1,-673.5\"/>\n<polygon fill=\"black\" stroke=\"black\" points=\"1368.37,-677 1378.37,-673.5 1368.37,-670 1368.37,-677\"/>\n</g>\n<!-- 137092581016096 -->\n<g id=\"node11\" class=\"node\">\n<title>137092581016096</title>\n<polygon fill=\"none\" stroke=\"black\" points=\"3778,-415.5 3778,-461.5 3883,-461.5 3883,-415.5 3778,-415.5\"/>\n<text text-anchor=\"middle\" x=\"3788\" y=\"-446.3\" font-family=\"Times,serif\" font-size=\"14.00\"> </text>\n<polyline fill=\"none\" stroke=\"black\" points=\"3798,-438.5 3798,-461.5 \"/>\n<text text-anchor=\"middle\" x=\"3840.5\" y=\"-446.3\" font-family=\"Times,serif\" font-size=\"14.00\">data &#45;0.2509</text>\n<polyline fill=\"none\" stroke=\"black\" points=\"3778,-438.5 3883,-438.5 \"/>\n<text text-anchor=\"middle\" x=\"3830.5\" y=\"-423.3\" font-family=\"Times,serif\" font-size=\"14.00\">grad 0.0000</text>\n</g>\n<!-- 137092581016192tanh -->\n<g id=\"node16\" class=\"node\">\n<title>137092581016192tanh</title>\n<ellipse fill=\"none\" stroke=\"black\" cx=\"3946\" cy=\"-438.5\" rx=\"27\" ry=\"18\"/>\n<text text-anchor=\"middle\" x=\"3946\" y=\"-434.8\" font-family=\"Times,serif\" font-size=\"14.00\">tanh</text>\n</g>\n<!-- 137092581016096&#45;&gt;137092581016192tanh -->\n<g id=\"edge202\" class=\"edge\">\n<title>137092581016096&#45;&gt;137092581016192tanh</title>\n<path fill=\"none\" stroke=\"black\" d=\"M3883.27,-438.5C3891.8,-438.5 3900.49,-438.5 3908.55,-438.5\"/>\n<polygon fill=\"black\" stroke=\"black\" points=\"3908.72,-442 3918.72,-438.5 3908.72,-435 3908.72,-442\"/>\n</g>\n<!-- 137092581016096+&#45;&gt;137092581016096 -->\n<g id=\"edge6\" class=\"edge\">\n<title>137092581016096+&#45;&gt;137092581016096</title>\n<path fill=\"none\" stroke=\"black\" d=\"M3742.04,-438.5C3749.74,-438.5 3758.53,-438.5 3767.49,-438.5\"/>\n<polygon fill=\"black\" stroke=\"black\" points=\"3767.63,-442 3777.63,-438.5 3767.63,-435 3767.63,-442\"/>\n</g>\n<!-- 137092580975200 -->\n<g id=\"node13\" class=\"node\">\n<title>137092580975200</title>\n<polygon fill=\"none\" stroke=\"black\" points=\"1609.5,-520.5 1609.5,-566.5 1709.5,-566.5 1709.5,-520.5 1609.5,-520.5\"/>\n<text text-anchor=\"middle\" x=\"1619.5\" y=\"-551.3\" font-family=\"Times,serif\" font-size=\"14.00\"> </text>\n<polyline fill=\"none\" stroke=\"black\" points=\"1629.5,-543.5 1629.5,-566.5 \"/>\n<text text-anchor=\"middle\" x=\"1669.5\" y=\"-551.3\" font-family=\"Times,serif\" font-size=\"14.00\">data 0.6258</text>\n<polyline fill=\"none\" stroke=\"black\" points=\"1609.5,-543.5 1709.5,-543.5 \"/>\n<text text-anchor=\"middle\" x=\"1659.5\" y=\"-528.3\" font-family=\"Times,serif\" font-size=\"14.00\">grad 0.0000</text>\n</g>\n<!-- 137092580975584+ -->\n<g id=\"node20\" class=\"node\">\n<title>137092580975584+</title>\n<ellipse fill=\"none\" stroke=\"black\" cx=\"1775\" cy=\"-478.5\" rx=\"27\" ry=\"18\"/>\n<text text-anchor=\"middle\" x=\"1775\" y=\"-474.8\" font-family=\"Times,serif\" font-size=\"14.00\">+</text>\n</g>\n<!-- 137092580975200&#45;&gt;137092580975584+ -->\n<g id=\"edge183\" class=\"edge\">\n<title>137092580975200&#45;&gt;137092580975584+</title>\n<path fill=\"none\" stroke=\"black\" d=\"M1700.84,-520.4C1715.43,-512.04 1731.62,-502.77 1745.05,-495.08\"/>\n<polygon fill=\"black\" stroke=\"black\" points=\"1746.91,-498.05 1753.85,-490.04 1743.43,-491.97 1746.91,-498.05\"/>\n</g>\n<!-- 137092580975200+&#45;&gt;137092580975200 -->\n<g id=\"edge7\" class=\"edge\">\n<title>137092580975200+&#45;&gt;137092580975200</title>\n<path fill=\"none\" stroke=\"black\" d=\"M1571.04,-543.5C1579.49,-543.5 1589.24,-543.5 1599.1,-543.5\"/>\n<polygon fill=\"black\" stroke=\"black\" points=\"1599.37,-547 1609.37,-543.5 1599.37,-540 1599.37,-547\"/>\n</g>\n<!-- 137092581016192 -->\n<g id=\"node15\" class=\"node\">\n<title>137092581016192</title>\n<polygon fill=\"none\" stroke=\"black\" points=\"4009,-415.5 4009,-461.5 4114,-461.5 4114,-415.5 4009,-415.5\"/>\n<text text-anchor=\"middle\" x=\"4019\" y=\"-446.3\" font-family=\"Times,serif\" font-size=\"14.00\"> </text>\n<polyline fill=\"none\" stroke=\"black\" points=\"4029,-438.5 4029,-461.5 \"/>\n<text text-anchor=\"middle\" x=\"4071.5\" y=\"-446.3\" font-family=\"Times,serif\" font-size=\"14.00\">data &#45;0.2458</text>\n<polyline fill=\"none\" stroke=\"black\" points=\"4009,-438.5 4114,-438.5 \"/>\n<text text-anchor=\"middle\" x=\"4061.5\" y=\"-423.3\" font-family=\"Times,serif\" font-size=\"14.00\">grad 0.0000</text>\n</g>\n<!-- 137092581016192tanh&#45;&gt;137092581016192 -->\n<g id=\"edge8\" class=\"edge\">\n<title>137092581016192tanh&#45;&gt;137092581016192</title>\n<path fill=\"none\" stroke=\"black\" d=\"M3973.04,-438.5C3980.74,-438.5 3989.53,-438.5 3998.49,-438.5\"/>\n<polygon fill=\"black\" stroke=\"black\" points=\"3998.63,-442 4008.63,-438.5 3998.63,-435 3998.63,-442\"/>\n</g>\n<!-- 137092580975392 -->\n<g id=\"node17\" class=\"node\">\n<title>137092580975392</title>\n<polygon fill=\"none\" stroke=\"black\" points=\"1607,-455.5 1607,-501.5 1712,-501.5 1712,-455.5 1607,-455.5\"/>\n<text text-anchor=\"middle\" x=\"1617\" y=\"-486.3\" font-family=\"Times,serif\" font-size=\"14.00\"> </text>\n<polyline fill=\"none\" stroke=\"black\" points=\"1627,-478.5 1627,-501.5 \"/>\n<text text-anchor=\"middle\" x=\"1669.5\" y=\"-486.3\" font-family=\"Times,serif\" font-size=\"14.00\">data &#45;0.0341</text>\n<polyline fill=\"none\" stroke=\"black\" points=\"1607,-478.5 1712,-478.5 \"/>\n<text text-anchor=\"middle\" x=\"1659.5\" y=\"-463.3\" font-family=\"Times,serif\" font-size=\"14.00\">grad 0.0000</text>\n</g>\n<!-- 137092580975392&#45;&gt;137092580975584+ -->\n<g id=\"edge121\" class=\"edge\">\n<title>137092580975392&#45;&gt;137092580975584+</title>\n<path fill=\"none\" stroke=\"black\" d=\"M1712.27,-478.5C1720.8,-478.5 1729.49,-478.5 1737.55,-478.5\"/>\n<polygon fill=\"black\" stroke=\"black\" points=\"1737.72,-482 1747.72,-478.5 1737.72,-475 1737.72,-482\"/>\n</g>\n<!-- 137092580975392* -->\n<g id=\"node18\" class=\"node\">\n<title>137092580975392*</title>\n<ellipse fill=\"none\" stroke=\"black\" cx=\"1544\" cy=\"-478.5\" rx=\"27\" ry=\"18\"/>\n<text text-anchor=\"middle\" x=\"1544\" y=\"-474.8\" font-family=\"Times,serif\" font-size=\"14.00\">*</text>\n</g>\n<!-- 137092580975392*&#45;&gt;137092580975392 -->\n<g id=\"edge9\" class=\"edge\">\n<title>137092580975392*&#45;&gt;137092580975392</title>\n<path fill=\"none\" stroke=\"black\" d=\"M1571.04,-478.5C1578.74,-478.5 1587.53,-478.5 1596.49,-478.5\"/>\n<polygon fill=\"black\" stroke=\"black\" points=\"1596.63,-482 1606.63,-478.5 1596.63,-475 1596.63,-482\"/>\n</g>\n<!-- 137092580975584 -->\n<g id=\"node19\" class=\"node\">\n<title>137092580975584</title>\n<polygon fill=\"none\" stroke=\"black\" points=\"1840.5,-455.5 1840.5,-501.5 1940.5,-501.5 1940.5,-455.5 1840.5,-455.5\"/>\n<text text-anchor=\"middle\" x=\"1850.5\" y=\"-486.3\" font-family=\"Times,serif\" font-size=\"14.00\"> </text>\n<polyline fill=\"none\" stroke=\"black\" points=\"1860.5,-478.5 1860.5,-501.5 \"/>\n<text text-anchor=\"middle\" x=\"1900.5\" y=\"-486.3\" font-family=\"Times,serif\" font-size=\"14.00\">data 0.5917</text>\n<polyline fill=\"none\" stroke=\"black\" points=\"1840.5,-478.5 1940.5,-478.5 \"/>\n<text text-anchor=\"middle\" x=\"1890.5\" y=\"-463.3\" font-family=\"Times,serif\" font-size=\"14.00\">grad 0.0000</text>\n</g>\n<!-- 137092580975968+ -->\n<g id=\"node29\" class=\"node\">\n<title>137092580975968+</title>\n<ellipse fill=\"none\" stroke=\"black\" cx=\"2006\" cy=\"-738.5\" rx=\"27\" ry=\"18\"/>\n<text text-anchor=\"middle\" x=\"2006\" y=\"-734.8\" font-family=\"Times,serif\" font-size=\"14.00\">+</text>\n</g>\n<!-- 137092580975584&#45;&gt;137092580975968+ -->\n<g id=\"edge153\" class=\"edge\">\n<title>137092580975584&#45;&gt;137092580975968+</title>\n<path fill=\"none\" stroke=\"black\" d=\"M1934.54,-501.82C1937.73,-504.76 1940.62,-507.98 1943,-511.5 1990.9,-582.34 1946.16,-621.55 1979,-700.5 1980.93,-705.15 1983.49,-709.8 1986.24,-714.19\"/>\n<polygon fill=\"black\" stroke=\"black\" points=\"1983.52,-716.41 1992.03,-722.71 1989.3,-712.47 1983.52,-716.41\"/>\n</g>\n<!-- 137092580975584+&#45;&gt;137092580975584 -->\n<g id=\"edge10\" class=\"edge\">\n<title>137092580975584+&#45;&gt;137092580975584</title>\n<path fill=\"none\" stroke=\"black\" d=\"M1802.04,-478.5C1810.49,-478.5 1820.24,-478.5 1830.1,-478.5\"/>\n<polygon fill=\"black\" stroke=\"black\" points=\"1830.37,-482 1840.37,-478.5 1830.37,-475 1830.37,-482\"/>\n</g>\n<!-- 137092580828224 -->\n<g id=\"node21\" class=\"node\">\n<title>137092580828224</title>\n<polygon fill=\"none\" stroke=\"black\" points=\"1147.5,-650.5 1147.5,-696.5 1247.5,-696.5 1247.5,-650.5 1147.5,-650.5\"/>\n<text text-anchor=\"middle\" x=\"1157.5\" y=\"-681.3\" font-family=\"Times,serif\" font-size=\"14.00\"> </text>\n<polyline fill=\"none\" stroke=\"black\" points=\"1167.5,-673.5 1167.5,-696.5 \"/>\n<text text-anchor=\"middle\" x=\"1207.5\" y=\"-681.3\" font-family=\"Times,serif\" font-size=\"14.00\">data 0.2952</text>\n<polyline fill=\"none\" stroke=\"black\" points=\"1147.5,-673.5 1247.5,-673.5 \"/>\n<text text-anchor=\"middle\" x=\"1197.5\" y=\"-658.3\" font-family=\"Times,serif\" font-size=\"14.00\">grad 0.0000</text>\n</g>\n<!-- 137092580828224&#45;&gt;137092580975008* -->\n<g id=\"edge84\" class=\"edge\">\n<title>137092580828224&#45;&gt;137092580975008*</title>\n<path fill=\"none\" stroke=\"black\" d=\"M1247.62,-673.5C1257.1,-673.5 1266.86,-673.5 1275.83,-673.5\"/>\n<polygon fill=\"black\" stroke=\"black\" points=\"1275.93,-677 1285.93,-673.5 1275.93,-670 1275.93,-677\"/>\n</g>\n<!-- 137092580828320 -->\n<g id=\"node22\" class=\"node\">\n<title>137092580828320</title>\n<polygon fill=\"none\" stroke=\"black\" points=\"685.5,-780.5 685.5,-826.5 785.5,-826.5 785.5,-780.5 685.5,-780.5\"/>\n<text text-anchor=\"middle\" x=\"695.5\" y=\"-811.3\" font-family=\"Times,serif\" font-size=\"14.00\"> </text>\n<polyline fill=\"none\" stroke=\"black\" points=\"705.5,-803.5 705.5,-826.5 \"/>\n<text text-anchor=\"middle\" x=\"745.5\" y=\"-811.3\" font-family=\"Times,serif\" font-size=\"14.00\">data 0.4430</text>\n<polyline fill=\"none\" stroke=\"black\" points=\"685.5,-803.5 785.5,-803.5 \"/>\n<text text-anchor=\"middle\" x=\"735.5\" y=\"-788.3\" font-family=\"Times,serif\" font-size=\"14.00\">grad 0.0000</text>\n</g>\n<!-- 137092580972272+ -->\n<g id=\"node124\" class=\"node\">\n<title>137092580972272+</title>\n<ellipse fill=\"none\" stroke=\"black\" cx=\"851\" cy=\"-803.5\" rx=\"27\" ry=\"18\"/>\n<text text-anchor=\"middle\" x=\"851\" y=\"-799.8\" font-family=\"Times,serif\" font-size=\"14.00\">+</text>\n</g>\n<!-- 137092580828320&#45;&gt;137092580972272+ -->\n<g id=\"edge133\" class=\"edge\">\n<title>137092580828320&#45;&gt;137092580972272+</title>\n<path fill=\"none\" stroke=\"black\" d=\"M785.62,-803.5C795.1,-803.5 804.86,-803.5 813.83,-803.5\"/>\n<polygon fill=\"black\" stroke=\"black\" points=\"813.93,-807 823.93,-803.5 813.93,-800 813.93,-807\"/>\n</g>\n<!-- 137092580975776 -->\n<g id=\"node23\" class=\"node\">\n<title>137092580975776</title>\n<polygon fill=\"none\" stroke=\"black\" points=\"1838,-715.5 1838,-761.5 1943,-761.5 1943,-715.5 1838,-715.5\"/>\n<text text-anchor=\"middle\" x=\"1848\" y=\"-746.3\" font-family=\"Times,serif\" font-size=\"14.00\"> </text>\n<polyline fill=\"none\" stroke=\"black\" points=\"1858,-738.5 1858,-761.5 \"/>\n<text text-anchor=\"middle\" x=\"1900.5\" y=\"-746.3\" font-family=\"Times,serif\" font-size=\"14.00\">data &#45;0.6719</text>\n<polyline fill=\"none\" stroke=\"black\" points=\"1838,-738.5 1943,-738.5 \"/>\n<text text-anchor=\"middle\" x=\"1890.5\" y=\"-723.3\" font-family=\"Times,serif\" font-size=\"14.00\">grad 0.0000</text>\n</g>\n<!-- 137092580975776&#45;&gt;137092580975968+ -->\n<g id=\"edge197\" class=\"edge\">\n<title>137092580975776&#45;&gt;137092580975968+</title>\n<path fill=\"none\" stroke=\"black\" d=\"M1943.27,-738.5C1951.8,-738.5 1960.49,-738.5 1968.55,-738.5\"/>\n<polygon fill=\"black\" stroke=\"black\" points=\"1968.72,-742 1978.72,-738.5 1968.72,-735 1968.72,-742\"/>\n</g>\n<!-- 137092580975776* -->\n<g id=\"node24\" class=\"node\">\n<title>137092580975776*</title>\n<ellipse fill=\"none\" stroke=\"black\" cx=\"1775\" cy=\"-738.5\" rx=\"27\" ry=\"18\"/>\n<text text-anchor=\"middle\" x=\"1775\" y=\"-734.8\" font-family=\"Times,serif\" font-size=\"14.00\">*</text>\n</g>\n<!-- 137092580975776*&#45;&gt;137092580975776 -->\n<g id=\"edge11\" class=\"edge\">\n<title>137092580975776*&#45;&gt;137092580975776</title>\n<path fill=\"none\" stroke=\"black\" d=\"M1802.04,-738.5C1809.74,-738.5 1818.53,-738.5 1827.49,-738.5\"/>\n<polygon fill=\"black\" stroke=\"black\" points=\"1827.63,-742 1837.63,-738.5 1827.63,-735 1827.63,-742\"/>\n</g>\n<!-- 137092580828416 -->\n<g id=\"node25\" class=\"node\">\n<title>137092580828416</title>\n<polygon fill=\"none\" stroke=\"black\" points=\"452,-748.5 452,-794.5 557,-794.5 557,-748.5 452,-748.5\"/>\n<text text-anchor=\"middle\" x=\"462\" y=\"-779.3\" font-family=\"Times,serif\" font-size=\"14.00\"> </text>\n<polyline fill=\"none\" stroke=\"black\" points=\"472,-771.5 472,-794.5 \"/>\n<text text-anchor=\"middle\" x=\"514.5\" y=\"-779.3\" font-family=\"Times,serif\" font-size=\"14.00\">data &#45;0.9350</text>\n<polyline fill=\"none\" stroke=\"black\" points=\"452,-771.5 557,-771.5 \"/>\n<text text-anchor=\"middle\" x=\"504.5\" y=\"-756.3\" font-family=\"Times,serif\" font-size=\"14.00\">grad 0.0000</text>\n</g>\n<!-- 137092580972080* -->\n<g id=\"node119\" class=\"node\">\n<title>137092580972080*</title>\n<ellipse fill=\"none\" stroke=\"black\" cx=\"620\" cy=\"-738.5\" rx=\"27\" ry=\"18\"/>\n<text text-anchor=\"middle\" x=\"620\" y=\"-734.8\" font-family=\"Times,serif\" font-size=\"14.00\">*</text>\n</g>\n<!-- 137092580828416&#45;&gt;137092580972080* -->\n<g id=\"edge180\" class=\"edge\">\n<title>137092580828416&#45;&gt;137092580972080*</title>\n<path fill=\"none\" stroke=\"black\" d=\"M557.27,-756.45C566.68,-753.71 576.28,-750.92 585.01,-748.38\"/>\n<polygon fill=\"black\" stroke=\"black\" points=\"586.18,-751.69 594.81,-745.53 584.23,-744.96 586.18,-751.69\"/>\n</g>\n<!-- 137092580828464 -->\n<g id=\"node26\" class=\"node\">\n<title>137092580828464</title>\n<polygon fill=\"none\" stroke=\"black\" points=\"454.5,-585.5 454.5,-631.5 554.5,-631.5 554.5,-585.5 454.5,-585.5\"/>\n<text text-anchor=\"middle\" x=\"464.5\" y=\"-616.3\" font-family=\"Times,serif\" font-size=\"14.00\"> </text>\n<polyline fill=\"none\" stroke=\"black\" points=\"474.5,-608.5 474.5,-631.5 \"/>\n<text text-anchor=\"middle\" x=\"514.5\" y=\"-616.3\" font-family=\"Times,serif\" font-size=\"14.00\">data 0.5268</text>\n<polyline fill=\"none\" stroke=\"black\" points=\"454.5,-608.5 554.5,-608.5 \"/>\n<text text-anchor=\"middle\" x=\"504.5\" y=\"-593.3\" font-family=\"Times,serif\" font-size=\"14.00\">grad 0.0000</text>\n</g>\n<!-- 137092580970784+ -->\n<g id=\"node89\" class=\"node\">\n<title>137092580970784+</title>\n<ellipse fill=\"none\" stroke=\"black\" cx=\"620\" cy=\"-543.5\" rx=\"27\" ry=\"18\"/>\n<text text-anchor=\"middle\" x=\"620\" y=\"-539.8\" font-family=\"Times,serif\" font-size=\"14.00\">+</text>\n</g>\n<!-- 137092580828464&#45;&gt;137092580970784+ -->\n<g id=\"edge156\" class=\"edge\">\n<title>137092580828464&#45;&gt;137092580970784+</title>\n<path fill=\"none\" stroke=\"black\" d=\"M545.84,-585.4C560.43,-577.04 576.62,-567.77 590.05,-560.08\"/>\n<polygon fill=\"black\" stroke=\"black\" points=\"591.91,-563.05 598.85,-555.04 588.43,-556.97 591.91,-563.05\"/>\n</g>\n<!-- 137092580828512 -->\n<g id=\"node27\" class=\"node\">\n<title>137092580828512</title>\n<polygon fill=\"none\" stroke=\"black\" points=\"452,-455.5 452,-501.5 557,-501.5 557,-455.5 452,-455.5\"/>\n<text text-anchor=\"middle\" x=\"462\" y=\"-486.3\" font-family=\"Times,serif\" font-size=\"14.00\"> </text>\n<polyline fill=\"none\" stroke=\"black\" points=\"472,-478.5 472,-501.5 \"/>\n<text text-anchor=\"middle\" x=\"514.5\" y=\"-486.3\" font-family=\"Times,serif\" font-size=\"14.00\">data &#45;0.9707</text>\n<polyline fill=\"none\" stroke=\"black\" points=\"452,-478.5 557,-478.5 \"/>\n<text text-anchor=\"middle\" x=\"504.5\" y=\"-463.3\" font-family=\"Times,serif\" font-size=\"14.00\">grad 0.0000</text>\n</g>\n<!-- 137092580971024* -->\n<g id=\"node94\" class=\"node\">\n<title>137092580971024*</title>\n<ellipse fill=\"none\" stroke=\"black\" cx=\"620\" cy=\"-478.5\" rx=\"27\" ry=\"18\"/>\n<text text-anchor=\"middle\" x=\"620\" y=\"-474.8\" font-family=\"Times,serif\" font-size=\"14.00\">*</text>\n</g>\n<!-- 137092580828512&#45;&gt;137092580971024* -->\n<g id=\"edge96\" class=\"edge\">\n<title>137092580828512&#45;&gt;137092580971024*</title>\n<path fill=\"none\" stroke=\"black\" d=\"M557.27,-478.5C565.8,-478.5 574.49,-478.5 582.55,-478.5\"/>\n<polygon fill=\"black\" stroke=\"black\" points=\"582.72,-482 592.72,-478.5 582.72,-475 582.72,-482\"/>\n</g>\n<!-- 137092580975968 -->\n<g id=\"node28\" class=\"node\">\n<title>137092580975968</title>\n<polygon fill=\"none\" stroke=\"black\" points=\"2069,-715.5 2069,-761.5 2174,-761.5 2174,-715.5 2069,-715.5\"/>\n<text text-anchor=\"middle\" x=\"2079\" y=\"-746.3\" font-family=\"Times,serif\" font-size=\"14.00\"> </text>\n<polyline fill=\"none\" stroke=\"black\" points=\"2089,-738.5 2089,-761.5 \"/>\n<text text-anchor=\"middle\" x=\"2131.5\" y=\"-746.3\" font-family=\"Times,serif\" font-size=\"14.00\">data &#45;0.0802</text>\n<polyline fill=\"none\" stroke=\"black\" points=\"2069,-738.5 2174,-738.5 \"/>\n<text text-anchor=\"middle\" x=\"2121.5\" y=\"-723.3\" font-family=\"Times,serif\" font-size=\"14.00\">grad 0.0000</text>\n</g>\n<!-- 137092580976352+ -->\n<g id=\"node38\" class=\"node\">\n<title>137092580976352+</title>\n<ellipse fill=\"none\" stroke=\"black\" cx=\"2237\" cy=\"-483.5\" rx=\"27\" ry=\"18\"/>\n<text text-anchor=\"middle\" x=\"2237\" y=\"-479.8\" font-family=\"Times,serif\" font-size=\"14.00\">+</text>\n</g>\n<!-- 137092580975968&#45;&gt;137092580976352+ -->\n<g id=\"edge82\" class=\"edge\">\n<title>137092580975968&#45;&gt;137092580976352+</title>\n<path fill=\"none\" stroke=\"black\" d=\"M2165.71,-715.37C2168.78,-712.66 2171.6,-709.7 2174,-706.5 2179.97,-698.53 2213.85,-569.28 2228.85,-511.28\"/>\n<polygon fill=\"black\" stroke=\"black\" points=\"2232.31,-511.88 2231.42,-501.33 2225.53,-510.13 2232.31,-511.88\"/>\n</g>\n<!-- 137092580975968+&#45;&gt;137092580975968 -->\n<g id=\"edge12\" class=\"edge\">\n<title>137092580975968+&#45;&gt;137092580975968</title>\n<path fill=\"none\" stroke=\"black\" d=\"M2033.04,-738.5C2040.74,-738.5 2049.53,-738.5 2058.49,-738.5\"/>\n<polygon fill=\"black\" stroke=\"black\" points=\"2058.63,-742 2068.63,-738.5 2058.63,-735 2058.63,-742\"/>\n</g>\n<!-- 137092580828560 -->\n<g id=\"node30\" class=\"node\">\n<title>137092580828560</title>\n<polygon fill=\"none\" stroke=\"black\" points=\"683,-650.5 683,-696.5 788,-696.5 788,-650.5 683,-650.5\"/>\n<text text-anchor=\"middle\" x=\"693\" y=\"-681.3\" font-family=\"Times,serif\" font-size=\"14.00\"> </text>\n<polyline fill=\"none\" stroke=\"black\" points=\"703,-673.5 703,-696.5 \"/>\n<text text-anchor=\"middle\" x=\"745.5\" y=\"-681.3\" font-family=\"Times,serif\" font-size=\"14.00\">data &#45;0.7372</text>\n<polyline fill=\"none\" stroke=\"black\" points=\"683,-673.5 788,-673.5 \"/>\n<text text-anchor=\"middle\" x=\"735.5\" y=\"-658.3\" font-family=\"Times,serif\" font-size=\"14.00\">grad 0.0000</text>\n</g>\n<!-- 137092580971456* -->\n<g id=\"node105\" class=\"node\">\n<title>137092580971456*</title>\n<ellipse fill=\"none\" stroke=\"black\" cx=\"851\" cy=\"-608.5\" rx=\"27\" ry=\"18\"/>\n<text text-anchor=\"middle\" x=\"851\" y=\"-604.8\" font-family=\"Times,serif\" font-size=\"14.00\">*</text>\n</g>\n<!-- 137092580828560&#45;&gt;137092580971456* -->\n<g id=\"edge91\" class=\"edge\">\n<title>137092580828560&#45;&gt;137092580971456*</title>\n<path fill=\"none\" stroke=\"black\" d=\"M776.84,-650.4C791.43,-642.04 807.62,-632.77 821.05,-625.08\"/>\n<polygon fill=\"black\" stroke=\"black\" points=\"822.91,-628.05 829.85,-620.04 819.43,-621.97 822.91,-628.05\"/>\n</g>\n<!-- 137092580828704 -->\n<g id=\"node31\" class=\"node\">\n<title>137092580828704</title>\n<polygon fill=\"none\" stroke=\"black\" points=\"226,-1170.5 226,-1216.5 326,-1216.5 326,-1170.5 226,-1170.5\"/>\n<text text-anchor=\"middle\" x=\"236\" y=\"-1201.3\" font-family=\"Times,serif\" font-size=\"14.00\"> </text>\n<polyline fill=\"none\" stroke=\"black\" points=\"246,-1193.5 246,-1216.5 \"/>\n<text text-anchor=\"middle\" x=\"286\" y=\"-1201.3\" font-family=\"Times,serif\" font-size=\"14.00\">data 0.9866</text>\n<polyline fill=\"none\" stroke=\"black\" points=\"226,-1193.5 326,-1193.5 \"/>\n<text text-anchor=\"middle\" x=\"276\" y=\"-1178.3\" font-family=\"Times,serif\" font-size=\"14.00\">grad 0.0000</text>\n</g>\n<!-- 137092580969296+ -->\n<g id=\"node55\" class=\"node\">\n<title>137092580969296+</title>\n<ellipse fill=\"none\" stroke=\"black\" cx=\"389\" cy=\"-1128.5\" rx=\"27\" ry=\"18\"/>\n<text text-anchor=\"middle\" x=\"389\" y=\"-1124.8\" font-family=\"Times,serif\" font-size=\"14.00\">+</text>\n</g>\n<!-- 137092580828704&#45;&gt;137092580969296+ -->\n<g id=\"edge95\" class=\"edge\">\n<title>137092580828704&#45;&gt;137092580969296+</title>\n<path fill=\"none\" stroke=\"black\" d=\"M316.45,-1170.4C330.49,-1162.18 346.03,-1153.08 359.03,-1145.47\"/>\n<polygon fill=\"black\" stroke=\"black\" points=\"361.13,-1148.29 367.99,-1140.22 357.59,-1142.25 361.13,-1148.29\"/>\n</g>\n<!-- 137092580976160 -->\n<g id=\"node32\" class=\"node\">\n<title>137092580976160</title>\n<polygon fill=\"none\" stroke=\"black\" points=\"2071.5,-330.5 2071.5,-376.5 2171.5,-376.5 2171.5,-330.5 2071.5,-330.5\"/>\n<text text-anchor=\"middle\" x=\"2081.5\" y=\"-361.3\" font-family=\"Times,serif\" font-size=\"14.00\"> </text>\n<polyline fill=\"none\" stroke=\"black\" points=\"2091.5,-353.5 2091.5,-376.5 \"/>\n<text text-anchor=\"middle\" x=\"2131.5\" y=\"-361.3\" font-family=\"Times,serif\" font-size=\"14.00\">data 0.3629</text>\n<polyline fill=\"none\" stroke=\"black\" points=\"2071.5,-353.5 2171.5,-353.5 \"/>\n<text text-anchor=\"middle\" x=\"2121.5\" y=\"-338.3\" font-family=\"Times,serif\" font-size=\"14.00\">grad 0.0000</text>\n</g>\n<!-- 137092580976160&#45;&gt;137092580976352+ -->\n<g id=\"edge76\" class=\"edge\">\n<title>137092580976160&#45;&gt;137092580976352+</title>\n<path fill=\"none\" stroke=\"black\" d=\"M2162.38,-376.51C2166.5,-379.62 2170.47,-382.97 2174,-386.5 2194.95,-407.47 2212.43,-436.69 2223.43,-457.57\"/>\n<polygon fill=\"black\" stroke=\"black\" points=\"2220.34,-459.22 2228.02,-466.52 2226.57,-456.02 2220.34,-459.22\"/>\n</g>\n<!-- 137092580976160*&#45;&gt;137092580976160 -->\n<g id=\"edge13\" class=\"edge\">\n<title>137092580976160*&#45;&gt;137092580976160</title>\n<path fill=\"none\" stroke=\"black\" d=\"M2033.04,-349.65C2041.49,-350.02 2051.24,-350.45 2061.1,-350.88\"/>\n<polygon fill=\"black\" stroke=\"black\" points=\"2061.22,-354.39 2071.37,-351.34 2061.53,-347.4 2061.22,-354.39\"/>\n</g>\n<!-- 137092580828752 -->\n<g id=\"node34\" class=\"node\">\n<title>137092580828752</title>\n<polygon fill=\"none\" stroke=\"black\" points=\"452,-975.5 452,-1021.5 557,-1021.5 557,-975.5 452,-975.5\"/>\n<text text-anchor=\"middle\" x=\"462\" y=\"-1006.3\" font-family=\"Times,serif\" font-size=\"14.00\"> </text>\n<polyline fill=\"none\" stroke=\"black\" points=\"472,-998.5 472,-1021.5 \"/>\n<text text-anchor=\"middle\" x=\"514.5\" y=\"-1006.3\" font-family=\"Times,serif\" font-size=\"14.00\">data &#45;0.0530</text>\n<polyline fill=\"none\" stroke=\"black\" points=\"452,-998.5 557,-998.5 \"/>\n<text text-anchor=\"middle\" x=\"504.5\" y=\"-983.3\" font-family=\"Times,serif\" font-size=\"14.00\">grad 0.0000</text>\n</g>\n<!-- 137092580969968* -->\n<g id=\"node71\" class=\"node\">\n<title>137092580969968*</title>\n<ellipse fill=\"none\" stroke=\"black\" cx=\"620\" cy=\"-998.5\" rx=\"27\" ry=\"18\"/>\n<text text-anchor=\"middle\" x=\"620\" y=\"-994.8\" font-family=\"Times,serif\" font-size=\"14.00\">*</text>\n</g>\n<!-- 137092580828752&#45;&gt;137092580969968* -->\n<g id=\"edge131\" class=\"edge\">\n<title>137092580828752&#45;&gt;137092580969968*</title>\n<path fill=\"none\" stroke=\"black\" d=\"M557.27,-998.5C565.8,-998.5 574.49,-998.5 582.55,-998.5\"/>\n<polygon fill=\"black\" stroke=\"black\" points=\"582.72,-1002 592.72,-998.5 582.72,-995 582.72,-1002\"/>\n</g>\n<!-- 137092580828800 -->\n<g id=\"node35\" class=\"node\">\n<title>137092580828800</title>\n<polygon fill=\"none\" stroke=\"black\" points=\"226,-553.5 226,-599.5 326,-599.5 326,-553.5 226,-553.5\"/>\n<text text-anchor=\"middle\" x=\"236\" y=\"-584.3\" font-family=\"Times,serif\" font-size=\"14.00\"> </text>\n<polyline fill=\"none\" stroke=\"black\" points=\"246,-576.5 246,-599.5 \"/>\n<text text-anchor=\"middle\" x=\"286\" y=\"-584.3\" font-family=\"Times,serif\" font-size=\"14.00\">data 0.4803</text>\n<polyline fill=\"none\" stroke=\"black\" points=\"226,-576.5 326,-576.5 \"/>\n<text text-anchor=\"middle\" x=\"276\" y=\"-561.3\" font-family=\"Times,serif\" font-size=\"14.00\">grad 0.0000</text>\n</g>\n<!-- 137092580970592* -->\n<g id=\"node84\" class=\"node\">\n<title>137092580970592*</title>\n<ellipse fill=\"none\" stroke=\"black\" cx=\"389\" cy=\"-543.5\" rx=\"27\" ry=\"18\"/>\n<text text-anchor=\"middle\" x=\"389\" y=\"-539.8\" font-family=\"Times,serif\" font-size=\"14.00\">*</text>\n</g>\n<!-- 137092580828800&#45;&gt;137092580970592* -->\n<g id=\"edge163\" class=\"edge\">\n<title>137092580828800&#45;&gt;137092580970592*</title>\n<path fill=\"none\" stroke=\"black\" d=\"M326.01,-561.93C335.63,-559.07 345.51,-556.13 354.49,-553.46\"/>\n<polygon fill=\"black\" stroke=\"black\" points=\"355.57,-556.79 364.16,-550.59 353.58,-550.08 355.57,-556.79\"/>\n</g>\n<!-- 137092580828848 -->\n<g id=\"node36\" class=\"node\">\n<title>137092580828848</title>\n<polygon fill=\"none\" stroke=\"black\" points=\"226,-1040.5 226,-1086.5 326,-1086.5 326,-1040.5 226,-1040.5\"/>\n<text text-anchor=\"middle\" x=\"236\" y=\"-1071.3\" font-family=\"Times,serif\" font-size=\"14.00\"> </text>\n<polyline fill=\"none\" stroke=\"black\" points=\"246,-1063.5 246,-1086.5 \"/>\n<text text-anchor=\"middle\" x=\"286\" y=\"-1071.3\" font-family=\"Times,serif\" font-size=\"14.00\">data 0.0487</text>\n<polyline fill=\"none\" stroke=\"black\" points=\"226,-1063.5 326,-1063.5 \"/>\n<text text-anchor=\"middle\" x=\"276\" y=\"-1048.3\" font-family=\"Times,serif\" font-size=\"14.00\">grad 0.0000</text>\n</g>\n<!-- 137092580969536* -->\n<g id=\"node62\" class=\"node\">\n<title>137092580969536*</title>\n<ellipse fill=\"none\" stroke=\"black\" cx=\"389\" cy=\"-1063.5\" rx=\"27\" ry=\"18\"/>\n<text text-anchor=\"middle\" x=\"389\" y=\"-1059.8\" font-family=\"Times,serif\" font-size=\"14.00\">*</text>\n</g>\n<!-- 137092580828848&#45;&gt;137092580969536* -->\n<g id=\"edge177\" class=\"edge\">\n<title>137092580828848&#45;&gt;137092580969536*</title>\n<path fill=\"none\" stroke=\"black\" d=\"M326.01,-1063.5C334.67,-1063.5 343.54,-1063.5 351.76,-1063.5\"/>\n<polygon fill=\"black\" stroke=\"black\" points=\"351.77,-1067 361.77,-1063.5 351.77,-1060 351.77,-1067\"/>\n</g>\n<!-- 137092580976352 -->\n<g id=\"node37\" class=\"node\">\n<title>137092580976352</title>\n<polygon fill=\"none\" stroke=\"black\" points=\"2302.5,-460.5 2302.5,-506.5 2402.5,-506.5 2402.5,-460.5 2302.5,-460.5\"/>\n<text text-anchor=\"middle\" x=\"2312.5\" y=\"-491.3\" font-family=\"Times,serif\" font-size=\"14.00\"> </text>\n<polyline fill=\"none\" stroke=\"black\" points=\"2322.5,-483.5 2322.5,-506.5 \"/>\n<text text-anchor=\"middle\" x=\"2362.5\" y=\"-491.3\" font-family=\"Times,serif\" font-size=\"14.00\">data 0.2827</text>\n<polyline fill=\"none\" stroke=\"black\" points=\"2302.5,-483.5 2402.5,-483.5 \"/>\n<text text-anchor=\"middle\" x=\"2352.5\" y=\"-468.3\" font-family=\"Times,serif\" font-size=\"14.00\">grad 0.0000</text>\n</g>\n<!-- 137092580976448tanh -->\n<g id=\"node40\" class=\"node\">\n<title>137092580976448tanh</title>\n<ellipse fill=\"none\" stroke=\"black\" cx=\"2468\" cy=\"-483.5\" rx=\"27\" ry=\"18\"/>\n<text text-anchor=\"middle\" x=\"2468\" y=\"-479.8\" font-family=\"Times,serif\" font-size=\"14.00\">tanh</text>\n</g>\n<!-- 137092580976352&#45;&gt;137092580976448tanh -->\n<g id=\"edge88\" class=\"edge\">\n<title>137092580976352&#45;&gt;137092580976448tanh</title>\n<path fill=\"none\" stroke=\"black\" d=\"M2402.62,-483.5C2412.1,-483.5 2421.86,-483.5 2430.83,-483.5\"/>\n<polygon fill=\"black\" stroke=\"black\" points=\"2430.93,-487 2440.93,-483.5 2430.93,-480 2430.93,-487\"/>\n</g>\n<!-- 137092580976352+&#45;&gt;137092580976352 -->\n<g id=\"edge14\" class=\"edge\">\n<title>137092580976352+&#45;&gt;137092580976352</title>\n<path fill=\"none\" stroke=\"black\" d=\"M2264.04,-483.5C2272.49,-483.5 2282.24,-483.5 2292.1,-483.5\"/>\n<polygon fill=\"black\" stroke=\"black\" points=\"2292.37,-487 2302.37,-483.5 2292.37,-480 2292.37,-487\"/>\n</g>\n<!-- 137092580976448 -->\n<g id=\"node39\" class=\"node\">\n<title>137092580976448</title>\n<polygon fill=\"none\" stroke=\"black\" points=\"2533.5,-460.5 2533.5,-506.5 2633.5,-506.5 2633.5,-460.5 2533.5,-460.5\"/>\n<text text-anchor=\"middle\" x=\"2543.5\" y=\"-491.3\" font-family=\"Times,serif\" font-size=\"14.00\"> </text>\n<polyline fill=\"none\" stroke=\"black\" points=\"2553.5,-483.5 2553.5,-506.5 \"/>\n<text text-anchor=\"middle\" x=\"2593.5\" y=\"-491.3\" font-family=\"Times,serif\" font-size=\"14.00\">data 0.2754</text>\n<polyline fill=\"none\" stroke=\"black\" points=\"2533.5,-483.5 2633.5,-483.5 \"/>\n<text text-anchor=\"middle\" x=\"2583.5\" y=\"-468.3\" font-family=\"Times,serif\" font-size=\"14.00\">grad 0.0000</text>\n</g>\n<!-- 137092580981920* -->\n<g id=\"node169\" class=\"node\">\n<title>137092580981920*</title>\n<ellipse fill=\"none\" stroke=\"black\" cx=\"2699\" cy=\"-483.5\" rx=\"27\" ry=\"18\"/>\n<text text-anchor=\"middle\" x=\"2699\" y=\"-479.8\" font-family=\"Times,serif\" font-size=\"14.00\">*</text>\n</g>\n<!-- 137092580976448&#45;&gt;137092580981920* -->\n<g id=\"edge200\" class=\"edge\">\n<title>137092580976448&#45;&gt;137092580981920*</title>\n<path fill=\"none\" stroke=\"black\" d=\"M2633.62,-483.5C2643.1,-483.5 2652.86,-483.5 2661.83,-483.5\"/>\n<polygon fill=\"black\" stroke=\"black\" points=\"2661.93,-487 2671.93,-483.5 2661.93,-480 2661.93,-487\"/>\n</g>\n<!-- 137092580976448tanh&#45;&gt;137092580976448 -->\n<g id=\"edge15\" class=\"edge\">\n<title>137092580976448tanh&#45;&gt;137092580976448</title>\n<path fill=\"none\" stroke=\"black\" d=\"M2495.04,-483.5C2503.49,-483.5 2513.24,-483.5 2523.1,-483.5\"/>\n<polygon fill=\"black\" stroke=\"black\" points=\"2523.37,-487 2533.37,-483.5 2523.37,-480 2523.37,-487\"/>\n</g>\n<!-- 137092580976736 -->\n<g id=\"node41\" class=\"node\">\n<title>137092580976736</title>\n<polygon fill=\"none\" stroke=\"black\" points=\"1376,-975.5 1376,-1021.5 1481,-1021.5 1481,-975.5 1376,-975.5\"/>\n<text text-anchor=\"middle\" x=\"1386\" y=\"-1006.3\" font-family=\"Times,serif\" font-size=\"14.00\"> </text>\n<polyline fill=\"none\" stroke=\"black\" points=\"1396,-998.5 1396,-1021.5 \"/>\n<text text-anchor=\"middle\" x=\"1438.5\" y=\"-1006.3\" font-family=\"Times,serif\" font-size=\"14.00\">data &#45;0.6722</text>\n<polyline fill=\"none\" stroke=\"black\" points=\"1376,-998.5 1481,-998.5 \"/>\n<text text-anchor=\"middle\" x=\"1428.5\" y=\"-983.3\" font-family=\"Times,serif\" font-size=\"14.00\">grad 0.0000</text>\n</g>\n<!-- 137092580976928+ -->\n<g id=\"node44\" class=\"node\">\n<title>137092580976928+</title>\n<ellipse fill=\"none\" stroke=\"black\" cx=\"1544\" cy=\"-998.5\" rx=\"27\" ry=\"18\"/>\n<text text-anchor=\"middle\" x=\"1544\" y=\"-994.8\" font-family=\"Times,serif\" font-size=\"14.00\">+</text>\n</g>\n<!-- 137092580976736&#45;&gt;137092580976928+ -->\n<g id=\"edge94\" class=\"edge\">\n<title>137092580976736&#45;&gt;137092580976928+</title>\n<path fill=\"none\" stroke=\"black\" d=\"M1481.27,-998.5C1489.8,-998.5 1498.49,-998.5 1506.55,-998.5\"/>\n<polygon fill=\"black\" stroke=\"black\" points=\"1506.72,-1002 1516.72,-998.5 1506.72,-995 1506.72,-1002\"/>\n</g>\n<!-- 137092580976736* -->\n<g id=\"node42\" class=\"node\">\n<title>137092580976736*</title>\n<ellipse fill=\"none\" stroke=\"black\" cx=\"1313\" cy=\"-998.5\" rx=\"27\" ry=\"18\"/>\n<text text-anchor=\"middle\" x=\"1313\" y=\"-994.8\" font-family=\"Times,serif\" font-size=\"14.00\">*</text>\n</g>\n<!-- 137092580976736*&#45;&gt;137092580976736 -->\n<g id=\"edge16\" class=\"edge\">\n<title>137092580976736*&#45;&gt;137092580976736</title>\n<path fill=\"none\" stroke=\"black\" d=\"M1340.04,-998.5C1347.74,-998.5 1356.53,-998.5 1365.49,-998.5\"/>\n<polygon fill=\"black\" stroke=\"black\" points=\"1365.63,-1002 1375.63,-998.5 1365.63,-995 1365.63,-1002\"/>\n</g>\n<!-- 137092580976928 -->\n<g id=\"node43\" class=\"node\">\n<title>137092580976928</title>\n<polygon fill=\"none\" stroke=\"black\" points=\"1607,-975.5 1607,-1021.5 1712,-1021.5 1712,-975.5 1607,-975.5\"/>\n<text text-anchor=\"middle\" x=\"1617\" y=\"-1006.3\" font-family=\"Times,serif\" font-size=\"14.00\"> </text>\n<polyline fill=\"none\" stroke=\"black\" points=\"1627,-998.5 1627,-1021.5 \"/>\n<text text-anchor=\"middle\" x=\"1669.5\" y=\"-1006.3\" font-family=\"Times,serif\" font-size=\"14.00\">data &#45;0.7275</text>\n<polyline fill=\"none\" stroke=\"black\" points=\"1607,-998.5 1712,-998.5 \"/>\n<text text-anchor=\"middle\" x=\"1659.5\" y=\"-983.3\" font-family=\"Times,serif\" font-size=\"14.00\">grad 0.0000</text>\n</g>\n<!-- 137092580977312+ -->\n<g id=\"node53\" class=\"node\">\n<title>137092580977312+</title>\n<ellipse fill=\"none\" stroke=\"black\" cx=\"1775\" cy=\"-868.5\" rx=\"27\" ry=\"18\"/>\n<text text-anchor=\"middle\" x=\"1775\" y=\"-864.8\" font-family=\"Times,serif\" font-size=\"14.00\">+</text>\n</g>\n<!-- 137092580976928&#45;&gt;137092580977312+ -->\n<g id=\"edge113\" class=\"edge\">\n<title>137092580976928&#45;&gt;137092580977312+</title>\n<path fill=\"none\" stroke=\"black\" d=\"M1701.79,-975.41C1705.43,-972.63 1708.9,-969.65 1712,-966.5 1733.82,-944.34 1731.21,-932.68 1748,-906.5 1750.84,-902.07 1753.94,-897.41 1756.97,-892.92\"/>\n<polygon fill=\"black\" stroke=\"black\" points=\"1759.89,-894.86 1762.65,-884.63 1754.11,-890.91 1759.89,-894.86\"/>\n</g>\n<!-- 137092580976928+&#45;&gt;137092580976928 -->\n<g id=\"edge17\" class=\"edge\">\n<title>137092580976928+&#45;&gt;137092580976928</title>\n<path fill=\"none\" stroke=\"black\" d=\"M1571.04,-998.5C1578.74,-998.5 1587.53,-998.5 1596.49,-998.5\"/>\n<polygon fill=\"black\" stroke=\"black\" points=\"1596.63,-1002 1606.63,-998.5 1596.63,-995 1596.63,-1002\"/>\n</g>\n<!-- 137092580977120 -->\n<g id=\"node45\" class=\"node\">\n<title>137092580977120</title>\n<polygon fill=\"none\" stroke=\"black\" points=\"1609.5,-845.5 1609.5,-891.5 1709.5,-891.5 1709.5,-845.5 1609.5,-845.5\"/>\n<text text-anchor=\"middle\" x=\"1619.5\" y=\"-876.3\" font-family=\"Times,serif\" font-size=\"14.00\"> </text>\n<polyline fill=\"none\" stroke=\"black\" points=\"1629.5,-868.5 1629.5,-891.5 \"/>\n<text text-anchor=\"middle\" x=\"1669.5\" y=\"-876.3\" font-family=\"Times,serif\" font-size=\"14.00\">data 0.4292</text>\n<polyline fill=\"none\" stroke=\"black\" points=\"1609.5,-868.5 1709.5,-868.5 \"/>\n<text text-anchor=\"middle\" x=\"1659.5\" y=\"-853.3\" font-family=\"Times,serif\" font-size=\"14.00\">grad 0.0000</text>\n</g>\n<!-- 137092580977120&#45;&gt;137092580977312+ -->\n<g id=\"edge74\" class=\"edge\">\n<title>137092580977120&#45;&gt;137092580977312+</title>\n<path fill=\"none\" stroke=\"black\" d=\"M1709.62,-868.5C1719.1,-868.5 1728.86,-868.5 1737.83,-868.5\"/>\n<polygon fill=\"black\" stroke=\"black\" points=\"1737.93,-872 1747.93,-868.5 1737.93,-865 1737.93,-872\"/>\n</g>\n<!-- 137092580977120* -->\n<g id=\"node46\" class=\"node\">\n<title>137092580977120*</title>\n<ellipse fill=\"none\" stroke=\"black\" cx=\"1544\" cy=\"-738.5\" rx=\"27\" ry=\"18\"/>\n<text text-anchor=\"middle\" x=\"1544\" y=\"-734.8\" font-family=\"Times,serif\" font-size=\"14.00\">*</text>\n</g>\n<!-- 137092580977120*&#45;&gt;137092580977120 -->\n<g id=\"edge18\" class=\"edge\">\n<title>137092580977120*&#45;&gt;137092580977120</title>\n<path fill=\"none\" stroke=\"black\" d=\"M1558.55,-754.01C1562.75,-759.11 1567.25,-764.91 1571,-770.5 1589.61,-798.25 1584.05,-812.21 1607,-836.5 1607.65,-837.19 1608.31,-837.86 1609,-838.53\"/>\n<polygon fill=\"black\" stroke=\"black\" points=\"1606.97,-841.41 1616.81,-845.34 1611.57,-836.13 1606.97,-841.41\"/>\n</g>\n<!-- 137092580829760 -->\n<g id=\"node47\" class=\"node\">\n<title>137092580829760</title>\n<polygon fill=\"none\" stroke=\"black\" points=\"685.5,-910.5 685.5,-956.5 785.5,-956.5 785.5,-910.5 685.5,-910.5\"/>\n<text text-anchor=\"middle\" x=\"695.5\" y=\"-941.3\" font-family=\"Times,serif\" font-size=\"14.00\"> </text>\n<polyline fill=\"none\" stroke=\"black\" points=\"705.5,-933.5 705.5,-956.5 \"/>\n<text text-anchor=\"middle\" x=\"745.5\" y=\"-941.3\" font-family=\"Times,serif\" font-size=\"14.00\">data 0.7081</text>\n<polyline fill=\"none\" stroke=\"black\" points=\"685.5,-933.5 785.5,-933.5 \"/>\n<text text-anchor=\"middle\" x=\"735.5\" y=\"-918.3\" font-family=\"Times,serif\" font-size=\"14.00\">grad 0.0000</text>\n</g>\n<!-- 137092580972512* -->\n<g id=\"node129\" class=\"node\">\n<title>137092580972512*</title>\n<ellipse fill=\"none\" stroke=\"black\" cx=\"851\" cy=\"-868.5\" rx=\"27\" ry=\"18\"/>\n<text text-anchor=\"middle\" x=\"851\" y=\"-864.8\" font-family=\"Times,serif\" font-size=\"14.00\">*</text>\n</g>\n<!-- 137092580829760&#45;&gt;137092580972512* -->\n<g id=\"edge144\" class=\"edge\">\n<title>137092580829760&#45;&gt;137092580972512*</title>\n<path fill=\"none\" stroke=\"black\" d=\"M776.84,-910.4C791.43,-902.04 807.62,-892.77 821.05,-885.08\"/>\n<polygon fill=\"black\" stroke=\"black\" points=\"822.91,-888.05 829.85,-880.04 819.43,-881.97 822.91,-888.05\"/>\n</g>\n<!-- 137092580969056 -->\n<g id=\"node48\" class=\"node\">\n<title>137092580969056</title>\n<polygon fill=\"none\" stroke=\"black\" points=\"0,-1138.5 0,-1184.5 100,-1184.5 100,-1138.5 0,-1138.5\"/>\n<text text-anchor=\"middle\" x=\"10\" y=\"-1169.3\" font-family=\"Times,serif\" font-size=\"14.00\"> </text>\n<polyline fill=\"none\" stroke=\"black\" points=\"20,-1161.5 20,-1184.5 \"/>\n<text text-anchor=\"middle\" x=\"60\" y=\"-1169.3\" font-family=\"Times,serif\" font-size=\"14.00\">data 2.0000</text>\n<polyline fill=\"none\" stroke=\"black\" points=\"0,-1161.5 100,-1161.5 \"/>\n<text text-anchor=\"middle\" x=\"50\" y=\"-1146.3\" font-family=\"Times,serif\" font-size=\"14.00\">grad 0.0000</text>\n</g>\n<!-- 137092580969104* -->\n<g id=\"node51\" class=\"node\">\n<title>137092580969104*</title>\n<ellipse fill=\"none\" stroke=\"black\" cx=\"163\" cy=\"-1128.5\" rx=\"27\" ry=\"18\"/>\n<text text-anchor=\"middle\" x=\"163\" y=\"-1124.8\" font-family=\"Times,serif\" font-size=\"14.00\">*</text>\n</g>\n<!-- 137092580969056&#45;&gt;137092580969104* -->\n<g id=\"edge147\" class=\"edge\">\n<title>137092580969056&#45;&gt;137092580969104*</title>\n<path fill=\"none\" stroke=\"black\" d=\"M100.01,-1146.93C109.63,-1144.07 119.51,-1141.13 128.49,-1138.46\"/>\n<polygon fill=\"black\" stroke=\"black\" points=\"129.57,-1141.79 138.16,-1135.59 127.58,-1135.08 129.57,-1141.79\"/>\n</g>\n<!-- 137092580829808 -->\n<g id=\"node49\" class=\"node\">\n<title>137092580829808</title>\n<polygon fill=\"none\" stroke=\"black\" points=\"914,-650.5 914,-696.5 1019,-696.5 1019,-650.5 914,-650.5\"/>\n<text text-anchor=\"middle\" x=\"924\" y=\"-681.3\" font-family=\"Times,serif\" font-size=\"14.00\"> </text>\n<polyline fill=\"none\" stroke=\"black\" points=\"934,-673.5 934,-696.5 \"/>\n<text text-anchor=\"middle\" x=\"976.5\" y=\"-681.3\" font-family=\"Times,serif\" font-size=\"14.00\">data &#45;0.1487</text>\n<polyline fill=\"none\" stroke=\"black\" points=\"914,-673.5 1019,-673.5 \"/>\n<text text-anchor=\"middle\" x=\"966.5\" y=\"-658.3\" font-family=\"Times,serif\" font-size=\"14.00\">grad 0.0000</text>\n</g>\n<!-- 137092580972944* -->\n<g id=\"node145\" class=\"node\">\n<title>137092580972944*</title>\n<ellipse fill=\"none\" stroke=\"black\" cx=\"1082\" cy=\"-738.5\" rx=\"27\" ry=\"18\"/>\n<text text-anchor=\"middle\" x=\"1082\" y=\"-734.8\" font-family=\"Times,serif\" font-size=\"14.00\">*</text>\n</g>\n<!-- 137092580829808&#45;&gt;137092580972944* -->\n<g id=\"edge201\" class=\"edge\">\n<title>137092580829808&#45;&gt;137092580972944*</title>\n<path fill=\"none\" stroke=\"black\" d=\"M1007.84,-696.6C1022.43,-704.96 1038.62,-714.23 1052.05,-721.92\"/>\n<polygon fill=\"black\" stroke=\"black\" points=\"1050.43,-725.03 1060.85,-726.96 1053.91,-718.95 1050.43,-725.03\"/>\n</g>\n<!-- 137092580969104 -->\n<g id=\"node50\" class=\"node\">\n<title>137092580969104</title>\n<polygon fill=\"none\" stroke=\"black\" points=\"226,-1105.5 226,-1151.5 326,-1151.5 326,-1105.5 226,-1105.5\"/>\n<text text-anchor=\"middle\" x=\"236\" y=\"-1136.3\" font-family=\"Times,serif\" font-size=\"14.00\"> </text>\n<polyline fill=\"none\" stroke=\"black\" points=\"246,-1128.5 246,-1151.5 \"/>\n<text text-anchor=\"middle\" x=\"286\" y=\"-1136.3\" font-family=\"Times,serif\" font-size=\"14.00\">data 0.4881</text>\n<polyline fill=\"none\" stroke=\"black\" points=\"226,-1128.5 326,-1128.5 \"/>\n<text text-anchor=\"middle\" x=\"276\" y=\"-1113.3\" font-family=\"Times,serif\" font-size=\"14.00\">grad 0.0000</text>\n</g>\n<!-- 137092580969104&#45;&gt;137092580969296+ -->\n<g id=\"edge136\" class=\"edge\">\n<title>137092580969104&#45;&gt;137092580969296+</title>\n<path fill=\"none\" stroke=\"black\" d=\"M326.01,-1128.5C334.67,-1128.5 343.54,-1128.5 351.76,-1128.5\"/>\n<polygon fill=\"black\" stroke=\"black\" points=\"351.77,-1132 361.77,-1128.5 351.77,-1125 351.77,-1132\"/>\n</g>\n<!-- 137092580969104*&#45;&gt;137092580969104 -->\n<g id=\"edge19\" class=\"edge\">\n<title>137092580969104*&#45;&gt;137092580969104</title>\n<path fill=\"none\" stroke=\"black\" d=\"M190.02,-1128.5C197.75,-1128.5 206.56,-1128.5 215.5,-1128.5\"/>\n<polygon fill=\"black\" stroke=\"black\" points=\"215.6,-1132 225.6,-1128.5 215.6,-1125 215.6,-1132\"/>\n</g>\n<!-- 137092580977312 -->\n<g id=\"node52\" class=\"node\">\n<title>137092580977312</title>\n<polygon fill=\"none\" stroke=\"black\" points=\"1838,-845.5 1838,-891.5 1943,-891.5 1943,-845.5 1838,-845.5\"/>\n<text text-anchor=\"middle\" x=\"1848\" y=\"-876.3\" font-family=\"Times,serif\" font-size=\"14.00\"> </text>\n<polyline fill=\"none\" stroke=\"black\" points=\"1858,-868.5 1858,-891.5 \"/>\n<text text-anchor=\"middle\" x=\"1900.5\" y=\"-876.3\" font-family=\"Times,serif\" font-size=\"14.00\">data &#45;0.2983</text>\n<polyline fill=\"none\" stroke=\"black\" points=\"1838,-868.5 1943,-868.5 \"/>\n<text text-anchor=\"middle\" x=\"1890.5\" y=\"-853.3\" font-family=\"Times,serif\" font-size=\"14.00\">grad 0.0000</text>\n</g>\n<!-- 137092580977696+ -->\n<g id=\"node60\" class=\"node\">\n<title>137092580977696+</title>\n<ellipse fill=\"none\" stroke=\"black\" cx=\"2006\" cy=\"-803.5\" rx=\"27\" ry=\"18\"/>\n<text text-anchor=\"middle\" x=\"2006\" y=\"-799.8\" font-family=\"Times,serif\" font-size=\"14.00\">+</text>\n</g>\n<!-- 137092580977312&#45;&gt;137092580977696+ -->\n<g id=\"edge195\" class=\"edge\">\n<title>137092580977312&#45;&gt;137092580977696+</title>\n<path fill=\"none\" stroke=\"black\" d=\"M1931.84,-845.4C1946.43,-837.04 1962.62,-827.77 1976.05,-820.08\"/>\n<polygon fill=\"black\" stroke=\"black\" points=\"1977.91,-823.05 1984.85,-815.04 1974.43,-816.97 1977.91,-823.05\"/>\n</g>\n<!-- 137092580977312+&#45;&gt;137092580977312 -->\n<g id=\"edge20\" class=\"edge\">\n<title>137092580977312+&#45;&gt;137092580977312</title>\n<path fill=\"none\" stroke=\"black\" d=\"M1802.04,-868.5C1809.74,-868.5 1818.53,-868.5 1827.49,-868.5\"/>\n<polygon fill=\"black\" stroke=\"black\" points=\"1827.63,-872 1837.63,-868.5 1827.63,-865 1827.63,-872\"/>\n</g>\n<!-- 137092580969296 -->\n<g id=\"node54\" class=\"node\">\n<title>137092580969296</title>\n<polygon fill=\"none\" stroke=\"black\" points=\"454.5,-1105.5 454.5,-1151.5 554.5,-1151.5 554.5,-1105.5 454.5,-1105.5\"/>\n<text text-anchor=\"middle\" x=\"464.5\" y=\"-1136.3\" font-family=\"Times,serif\" font-size=\"14.00\"> </text>\n<polyline fill=\"none\" stroke=\"black\" points=\"474.5,-1128.5 474.5,-1151.5 \"/>\n<text text-anchor=\"middle\" x=\"514.5\" y=\"-1136.3\" font-family=\"Times,serif\" font-size=\"14.00\">data 1.4747</text>\n<polyline fill=\"none\" stroke=\"black\" points=\"454.5,-1128.5 554.5,-1128.5 \"/>\n<text text-anchor=\"middle\" x=\"504.5\" y=\"-1113.3\" font-family=\"Times,serif\" font-size=\"14.00\">grad 0.0000</text>\n</g>\n<!-- 137092580969728+ -->\n<g id=\"node66\" class=\"node\">\n<title>137092580969728+</title>\n<ellipse fill=\"none\" stroke=\"black\" cx=\"620\" cy=\"-1063.5\" rx=\"27\" ry=\"18\"/>\n<text text-anchor=\"middle\" x=\"620\" y=\"-1059.8\" font-family=\"Times,serif\" font-size=\"14.00\">+</text>\n</g>\n<!-- 137092580969296&#45;&gt;137092580969728+ -->\n<g id=\"edge123\" class=\"edge\">\n<title>137092580969296&#45;&gt;137092580969728+</title>\n<path fill=\"none\" stroke=\"black\" d=\"M545.84,-1105.4C560.43,-1097.04 576.62,-1087.77 590.05,-1080.08\"/>\n<polygon fill=\"black\" stroke=\"black\" points=\"591.91,-1083.05 598.85,-1075.04 588.43,-1076.97 591.91,-1083.05\"/>\n</g>\n<!-- 137092580969296+&#45;&gt;137092580969296 -->\n<g id=\"edge21\" class=\"edge\">\n<title>137092580969296+&#45;&gt;137092580969296</title>\n<path fill=\"none\" stroke=\"black\" d=\"M416.04,-1128.5C424.49,-1128.5 434.24,-1128.5 444.1,-1128.5\"/>\n<polygon fill=\"black\" stroke=\"black\" points=\"444.37,-1132 454.37,-1128.5 444.37,-1125 444.37,-1132\"/>\n</g>\n<!-- 137092580977504 -->\n<g id=\"node56\" class=\"node\">\n<title>137092580977504</title>\n<polygon fill=\"none\" stroke=\"black\" points=\"1840.5,-780.5 1840.5,-826.5 1940.5,-826.5 1940.5,-780.5 1840.5,-780.5\"/>\n<text text-anchor=\"middle\" x=\"1850.5\" y=\"-811.3\" font-family=\"Times,serif\" font-size=\"14.00\"> </text>\n<polyline fill=\"none\" stroke=\"black\" points=\"1860.5,-803.5 1860.5,-826.5 \"/>\n<text text-anchor=\"middle\" x=\"1900.5\" y=\"-811.3\" font-family=\"Times,serif\" font-size=\"14.00\">data 0.0245</text>\n<polyline fill=\"none\" stroke=\"black\" points=\"1840.5,-803.5 1940.5,-803.5 \"/>\n<text text-anchor=\"middle\" x=\"1890.5\" y=\"-788.3\" font-family=\"Times,serif\" font-size=\"14.00\">grad 0.0000</text>\n</g>\n<!-- 137092580977504&#45;&gt;137092580977696+ -->\n<g id=\"edge146\" class=\"edge\">\n<title>137092580977504&#45;&gt;137092580977696+</title>\n<path fill=\"none\" stroke=\"black\" d=\"M1940.62,-803.5C1950.1,-803.5 1959.86,-803.5 1968.83,-803.5\"/>\n<polygon fill=\"black\" stroke=\"black\" points=\"1968.93,-807 1978.93,-803.5 1968.93,-800 1968.93,-807\"/>\n</g>\n<!-- 137092580977504* -->\n<g id=\"node57\" class=\"node\">\n<title>137092580977504*</title>\n<ellipse fill=\"none\" stroke=\"black\" cx=\"1775\" cy=\"-803.5\" rx=\"27\" ry=\"18\"/>\n<text text-anchor=\"middle\" x=\"1775\" y=\"-799.8\" font-family=\"Times,serif\" font-size=\"14.00\">*</text>\n</g>\n<!-- 137092580977504*&#45;&gt;137092580977504 -->\n<g id=\"edge22\" class=\"edge\">\n<title>137092580977504*&#45;&gt;137092580977504</title>\n<path fill=\"none\" stroke=\"black\" d=\"M1802.04,-803.5C1810.49,-803.5 1820.24,-803.5 1830.1,-803.5\"/>\n<polygon fill=\"black\" stroke=\"black\" points=\"1830.37,-807 1840.37,-803.5 1830.37,-800 1830.37,-807\"/>\n</g>\n<!-- 137092580969488 -->\n<g id=\"node58\" class=\"node\">\n<title>137092580969488</title>\n<polygon fill=\"none\" stroke=\"black\" points=\"226,-975.5 226,-1021.5 326,-1021.5 326,-975.5 226,-975.5\"/>\n<text text-anchor=\"middle\" x=\"236\" y=\"-1006.3\" font-family=\"Times,serif\" font-size=\"14.00\"> </text>\n<polyline fill=\"none\" stroke=\"black\" points=\"246,-998.5 246,-1021.5 \"/>\n<text text-anchor=\"middle\" x=\"286\" y=\"-1006.3\" font-family=\"Times,serif\" font-size=\"14.00\">data 3.0000</text>\n<polyline fill=\"none\" stroke=\"black\" points=\"226,-998.5 326,-998.5 \"/>\n<text text-anchor=\"middle\" x=\"276\" y=\"-983.3\" font-family=\"Times,serif\" font-size=\"14.00\">grad 0.0000</text>\n</g>\n<!-- 137092580969488&#45;&gt;137092580969536* -->\n<g id=\"edge101\" class=\"edge\">\n<title>137092580969488&#45;&gt;137092580969536*</title>\n<path fill=\"none\" stroke=\"black\" d=\"M316.45,-1021.6C330.49,-1029.82 346.03,-1038.92 359.03,-1046.53\"/>\n<polygon fill=\"black\" stroke=\"black\" points=\"357.59,-1049.75 367.99,-1051.78 361.13,-1043.71 357.59,-1049.75\"/>\n</g>\n<!-- 137092580977696 -->\n<g id=\"node59\" class=\"node\">\n<title>137092580977696</title>\n<polygon fill=\"none\" stroke=\"black\" points=\"2069,-780.5 2069,-826.5 2174,-826.5 2174,-780.5 2069,-780.5\"/>\n<text text-anchor=\"middle\" x=\"2079\" y=\"-811.3\" font-family=\"Times,serif\" font-size=\"14.00\"> </text>\n<polyline fill=\"none\" stroke=\"black\" points=\"2089,-803.5 2089,-826.5 \"/>\n<text text-anchor=\"middle\" x=\"2131.5\" y=\"-811.3\" font-family=\"Times,serif\" font-size=\"14.00\">data &#45;0.2738</text>\n<polyline fill=\"none\" stroke=\"black\" points=\"2069,-803.5 2174,-803.5 \"/>\n<text text-anchor=\"middle\" x=\"2121.5\" y=\"-788.3\" font-family=\"Times,serif\" font-size=\"14.00\">grad 0.0000</text>\n</g>\n<!-- 137092580978080+ -->\n<g id=\"node68\" class=\"node\">\n<title>137092580978080+</title>\n<ellipse fill=\"none\" stroke=\"black\" cx=\"2237\" cy=\"-613.5\" rx=\"27\" ry=\"18\"/>\n<text text-anchor=\"middle\" x=\"2237\" y=\"-609.8\" font-family=\"Times,serif\" font-size=\"14.00\">+</text>\n</g>\n<!-- 137092580977696&#45;&gt;137092580978080+ -->\n<g id=\"edge178\" class=\"edge\">\n<title>137092580977696&#45;&gt;137092580978080+</title>\n<path fill=\"none\" stroke=\"black\" d=\"M2165.36,-780.09C2168.51,-777.44 2171.44,-774.57 2174,-771.5 2206.16,-732.88 2222.99,-675.6 2230.64,-641.65\"/>\n<polygon fill=\"black\" stroke=\"black\" points=\"2234.14,-642.02 2232.81,-631.51 2227.29,-640.56 2234.14,-642.02\"/>\n</g>\n<!-- 137092580977696+&#45;&gt;137092580977696 -->\n<g id=\"edge23\" class=\"edge\">\n<title>137092580977696+&#45;&gt;137092580977696</title>\n<path fill=\"none\" stroke=\"black\" d=\"M2033.04,-803.5C2040.74,-803.5 2049.53,-803.5 2058.49,-803.5\"/>\n<polygon fill=\"black\" stroke=\"black\" points=\"2058.63,-807 2068.63,-803.5 2058.63,-800 2058.63,-807\"/>\n</g>\n<!-- 137092580969536 -->\n<g id=\"node61\" class=\"node\">\n<title>137092580969536</title>\n<polygon fill=\"none\" stroke=\"black\" points=\"454.5,-1040.5 454.5,-1086.5 554.5,-1086.5 554.5,-1040.5 454.5,-1040.5\"/>\n<text text-anchor=\"middle\" x=\"464.5\" y=\"-1071.3\" font-family=\"Times,serif\" font-size=\"14.00\"> </text>\n<polyline fill=\"none\" stroke=\"black\" points=\"474.5,-1063.5 474.5,-1086.5 \"/>\n<text text-anchor=\"middle\" x=\"514.5\" y=\"-1071.3\" font-family=\"Times,serif\" font-size=\"14.00\">data 0.1461</text>\n<polyline fill=\"none\" stroke=\"black\" points=\"454.5,-1063.5 554.5,-1063.5 \"/>\n<text text-anchor=\"middle\" x=\"504.5\" y=\"-1048.3\" font-family=\"Times,serif\" font-size=\"14.00\">grad 0.0000</text>\n</g>\n<!-- 137092580969536&#45;&gt;137092580969728+ -->\n<g id=\"edge176\" class=\"edge\">\n<title>137092580969536&#45;&gt;137092580969728+</title>\n<path fill=\"none\" stroke=\"black\" d=\"M554.62,-1063.5C564.1,-1063.5 573.86,-1063.5 582.83,-1063.5\"/>\n<polygon fill=\"black\" stroke=\"black\" points=\"582.93,-1067 592.93,-1063.5 582.93,-1060 582.93,-1067\"/>\n</g>\n<!-- 137092580969536*&#45;&gt;137092580969536 -->\n<g id=\"edge24\" class=\"edge\">\n<title>137092580969536*&#45;&gt;137092580969536</title>\n<path fill=\"none\" stroke=\"black\" d=\"M416.04,-1063.5C424.49,-1063.5 434.24,-1063.5 444.1,-1063.5\"/>\n<polygon fill=\"black\" stroke=\"black\" points=\"444.37,-1067 454.37,-1063.5 444.37,-1060 444.37,-1067\"/>\n</g>\n<!-- 137092580977888 -->\n<g id=\"node63\" class=\"node\">\n<title>137092580977888</title>\n<polygon fill=\"none\" stroke=\"black\" points=\"2069,-585.5 2069,-631.5 2174,-631.5 2174,-585.5 2069,-585.5\"/>\n<text text-anchor=\"middle\" x=\"2079\" y=\"-616.3\" font-family=\"Times,serif\" font-size=\"14.00\"> </text>\n<polyline fill=\"none\" stroke=\"black\" points=\"2089,-608.5 2089,-631.5 \"/>\n<text text-anchor=\"middle\" x=\"2131.5\" y=\"-616.3\" font-family=\"Times,serif\" font-size=\"14.00\">data &#45;0.5467</text>\n<polyline fill=\"none\" stroke=\"black\" points=\"2069,-608.5 2174,-608.5 \"/>\n<text text-anchor=\"middle\" x=\"2121.5\" y=\"-593.3\" font-family=\"Times,serif\" font-size=\"14.00\">grad 0.0000</text>\n</g>\n<!-- 137092580977888&#45;&gt;137092580978080+ -->\n<g id=\"edge169\" class=\"edge\">\n<title>137092580977888&#45;&gt;137092580978080+</title>\n<path fill=\"none\" stroke=\"black\" d=\"M2174.27,-610.78C2182.89,-611.16 2191.66,-611.55 2199.78,-611.9\"/>\n<polygon fill=\"black\" stroke=\"black\" points=\"2199.88,-615.41 2210.02,-612.36 2200.18,-608.42 2199.88,-615.41\"/>\n</g>\n<!-- 137092580977888*&#45;&gt;137092580977888 -->\n<g id=\"edge25\" class=\"edge\">\n<title>137092580977888*&#45;&gt;137092580977888</title>\n<path fill=\"none\" stroke=\"black\" d=\"M2033.04,-608.5C2040.74,-608.5 2049.53,-608.5 2058.49,-608.5\"/>\n<polygon fill=\"black\" stroke=\"black\" points=\"2058.63,-612 2068.63,-608.5 2058.63,-605 2058.63,-612\"/>\n</g>\n<!-- 137092580969728 -->\n<g id=\"node65\" class=\"node\">\n<title>137092580969728</title>\n<polygon fill=\"none\" stroke=\"black\" points=\"685.5,-1040.5 685.5,-1086.5 785.5,-1086.5 785.5,-1040.5 685.5,-1040.5\"/>\n<text text-anchor=\"middle\" x=\"695.5\" y=\"-1071.3\" font-family=\"Times,serif\" font-size=\"14.00\"> </text>\n<polyline fill=\"none\" stroke=\"black\" points=\"705.5,-1063.5 705.5,-1086.5 \"/>\n<text text-anchor=\"middle\" x=\"745.5\" y=\"-1071.3\" font-family=\"Times,serif\" font-size=\"14.00\">data 1.6208</text>\n<polyline fill=\"none\" stroke=\"black\" points=\"685.5,-1063.5 785.5,-1063.5 \"/>\n<text text-anchor=\"middle\" x=\"735.5\" y=\"-1048.3\" font-family=\"Times,serif\" font-size=\"14.00\">grad 0.0000</text>\n</g>\n<!-- 137092580970160+ -->\n<g id=\"node75\" class=\"node\">\n<title>137092580970160+</title>\n<ellipse fill=\"none\" stroke=\"black\" cx=\"851\" cy=\"-998.5\" rx=\"27\" ry=\"18\"/>\n<text text-anchor=\"middle\" x=\"851\" y=\"-994.8\" font-family=\"Times,serif\" font-size=\"14.00\">+</text>\n</g>\n<!-- 137092580969728&#45;&gt;137092580970160+ -->\n<g id=\"edge112\" class=\"edge\">\n<title>137092580969728&#45;&gt;137092580970160+</title>\n<path fill=\"none\" stroke=\"black\" d=\"M776.84,-1040.4C791.43,-1032.04 807.62,-1022.77 821.05,-1015.08\"/>\n<polygon fill=\"black\" stroke=\"black\" points=\"822.91,-1018.05 829.85,-1010.04 819.43,-1011.97 822.91,-1018.05\"/>\n</g>\n<!-- 137092580969728+&#45;&gt;137092580969728 -->\n<g id=\"edge26\" class=\"edge\">\n<title>137092580969728+&#45;&gt;137092580969728</title>\n<path fill=\"none\" stroke=\"black\" d=\"M647.04,-1063.5C655.49,-1063.5 665.24,-1063.5 675.1,-1063.5\"/>\n<polygon fill=\"black\" stroke=\"black\" points=\"675.37,-1067 685.37,-1063.5 675.37,-1060 675.37,-1067\"/>\n</g>\n<!-- 137092580978080 -->\n<g id=\"node67\" class=\"node\">\n<title>137092580978080</title>\n<polygon fill=\"none\" stroke=\"black\" points=\"2300,-590.5 2300,-636.5 2405,-636.5 2405,-590.5 2300,-590.5\"/>\n<text text-anchor=\"middle\" x=\"2310\" y=\"-621.3\" font-family=\"Times,serif\" font-size=\"14.00\"> </text>\n<polyline fill=\"none\" stroke=\"black\" points=\"2320,-613.5 2320,-636.5 \"/>\n<text text-anchor=\"middle\" x=\"2362.5\" y=\"-621.3\" font-family=\"Times,serif\" font-size=\"14.00\">data &#45;0.8205</text>\n<polyline fill=\"none\" stroke=\"black\" points=\"2300,-613.5 2405,-613.5 \"/>\n<text text-anchor=\"middle\" x=\"2352.5\" y=\"-598.3\" font-family=\"Times,serif\" font-size=\"14.00\">grad 0.0000</text>\n</g>\n<!-- 137092580978176tanh -->\n<g id=\"node73\" class=\"node\">\n<title>137092580978176tanh</title>\n<ellipse fill=\"none\" stroke=\"black\" cx=\"2468\" cy=\"-613.5\" rx=\"27\" ry=\"18\"/>\n<text text-anchor=\"middle\" x=\"2468\" y=\"-609.8\" font-family=\"Times,serif\" font-size=\"14.00\">tanh</text>\n</g>\n<!-- 137092580978080&#45;&gt;137092580978176tanh -->\n<g id=\"edge150\" class=\"edge\">\n<title>137092580978080&#45;&gt;137092580978176tanh</title>\n<path fill=\"none\" stroke=\"black\" d=\"M2405.27,-613.5C2413.8,-613.5 2422.49,-613.5 2430.55,-613.5\"/>\n<polygon fill=\"black\" stroke=\"black\" points=\"2430.72,-617 2440.72,-613.5 2430.72,-610 2430.72,-617\"/>\n</g>\n<!-- 137092580978080+&#45;&gt;137092580978080 -->\n<g id=\"edge27\" class=\"edge\">\n<title>137092580978080+&#45;&gt;137092580978080</title>\n<path fill=\"none\" stroke=\"black\" d=\"M2264.04,-613.5C2271.74,-613.5 2280.53,-613.5 2289.49,-613.5\"/>\n<polygon fill=\"black\" stroke=\"black\" points=\"2289.63,-617 2299.63,-613.5 2289.63,-610 2289.63,-617\"/>\n</g>\n<!-- 137092580969920 -->\n<g id=\"node69\" class=\"node\">\n<title>137092580969920</title>\n<polygon fill=\"none\" stroke=\"black\" points=\"452,-910.5 452,-956.5 557,-956.5 557,-910.5 452,-910.5\"/>\n<text text-anchor=\"middle\" x=\"462\" y=\"-941.3\" font-family=\"Times,serif\" font-size=\"14.00\"> </text>\n<polyline fill=\"none\" stroke=\"black\" points=\"472,-933.5 472,-956.5 \"/>\n<text text-anchor=\"middle\" x=\"514.5\" y=\"-941.3\" font-family=\"Times,serif\" font-size=\"14.00\">data &#45;1.0000</text>\n<polyline fill=\"none\" stroke=\"black\" points=\"452,-933.5 557,-933.5 \"/>\n<text text-anchor=\"middle\" x=\"504.5\" y=\"-918.3\" font-family=\"Times,serif\" font-size=\"14.00\">grad 0.0000</text>\n</g>\n<!-- 137092580969920&#45;&gt;137092580969968* -->\n<g id=\"edge97\" class=\"edge\">\n<title>137092580969920&#45;&gt;137092580969968*</title>\n<path fill=\"none\" stroke=\"black\" d=\"M545.84,-956.6C560.43,-964.96 576.62,-974.23 590.05,-981.92\"/>\n<polygon fill=\"black\" stroke=\"black\" points=\"588.43,-985.03 598.85,-986.96 591.91,-978.95 588.43,-985.03\"/>\n</g>\n<!-- 137092580969968 -->\n<g id=\"node70\" class=\"node\">\n<title>137092580969968</title>\n<polygon fill=\"none\" stroke=\"black\" points=\"685.5,-975.5 685.5,-1021.5 785.5,-1021.5 785.5,-975.5 685.5,-975.5\"/>\n<text text-anchor=\"middle\" x=\"695.5\" y=\"-1006.3\" font-family=\"Times,serif\" font-size=\"14.00\"> </text>\n<polyline fill=\"none\" stroke=\"black\" points=\"705.5,-998.5 705.5,-1021.5 \"/>\n<text text-anchor=\"middle\" x=\"745.5\" y=\"-1006.3\" font-family=\"Times,serif\" font-size=\"14.00\">data 0.0530</text>\n<polyline fill=\"none\" stroke=\"black\" points=\"685.5,-998.5 785.5,-998.5 \"/>\n<text text-anchor=\"middle\" x=\"735.5\" y=\"-983.3\" font-family=\"Times,serif\" font-size=\"14.00\">grad 0.0000</text>\n</g>\n<!-- 137092580969968&#45;&gt;137092580970160+ -->\n<g id=\"edge89\" class=\"edge\">\n<title>137092580969968&#45;&gt;137092580970160+</title>\n<path fill=\"none\" stroke=\"black\" d=\"M785.62,-998.5C795.1,-998.5 804.86,-998.5 813.83,-998.5\"/>\n<polygon fill=\"black\" stroke=\"black\" points=\"813.93,-1002 823.93,-998.5 813.93,-995 813.93,-1002\"/>\n</g>\n<!-- 137092580969968*&#45;&gt;137092580969968 -->\n<g id=\"edge28\" class=\"edge\">\n<title>137092580969968*&#45;&gt;137092580969968</title>\n<path fill=\"none\" stroke=\"black\" d=\"M647.04,-998.5C655.49,-998.5 665.24,-998.5 675.1,-998.5\"/>\n<polygon fill=\"black\" stroke=\"black\" points=\"675.37,-1002 685.37,-998.5 675.37,-995 675.37,-1002\"/>\n</g>\n<!-- 137092580978176 -->\n<g id=\"node72\" class=\"node\">\n<title>137092580978176</title>\n<polygon fill=\"none\" stroke=\"black\" points=\"2531,-590.5 2531,-636.5 2636,-636.5 2636,-590.5 2531,-590.5\"/>\n<text text-anchor=\"middle\" x=\"2541\" y=\"-621.3\" font-family=\"Times,serif\" font-size=\"14.00\"> </text>\n<polyline fill=\"none\" stroke=\"black\" points=\"2551,-613.5 2551,-636.5 \"/>\n<text text-anchor=\"middle\" x=\"2593.5\" y=\"-621.3\" font-family=\"Times,serif\" font-size=\"14.00\">data &#45;0.6754</text>\n<polyline fill=\"none\" stroke=\"black\" points=\"2531,-613.5 2636,-613.5 \"/>\n<text text-anchor=\"middle\" x=\"2583.5\" y=\"-598.3\" font-family=\"Times,serif\" font-size=\"14.00\">grad 0.0000</text>\n</g>\n<!-- 137092580982304* -->\n<g id=\"node185\" class=\"node\">\n<title>137092580982304*</title>\n<ellipse fill=\"none\" stroke=\"black\" cx=\"2699\" cy=\"-548.5\" rx=\"27\" ry=\"18\"/>\n<text text-anchor=\"middle\" x=\"2699\" y=\"-544.8\" font-family=\"Times,serif\" font-size=\"14.00\">*</text>\n</g>\n<!-- 137092580978176&#45;&gt;137092580982304* -->\n<g id=\"edge130\" class=\"edge\">\n<title>137092580978176&#45;&gt;137092580982304*</title>\n<path fill=\"none\" stroke=\"black\" d=\"M2624.84,-590.4C2639.43,-582.04 2655.62,-572.77 2669.05,-565.08\"/>\n<polygon fill=\"black\" stroke=\"black\" points=\"2670.91,-568.05 2677.85,-560.04 2667.43,-561.97 2670.91,-568.05\"/>\n</g>\n<!-- 137092580978176tanh&#45;&gt;137092580978176 -->\n<g id=\"edge29\" class=\"edge\">\n<title>137092580978176tanh&#45;&gt;137092580978176</title>\n<path fill=\"none\" stroke=\"black\" d=\"M2495.04,-613.5C2502.74,-613.5 2511.53,-613.5 2520.49,-613.5\"/>\n<polygon fill=\"black\" stroke=\"black\" points=\"2520.63,-617 2530.63,-613.5 2520.63,-610 2520.63,-617\"/>\n</g>\n<!-- 137092580970160 -->\n<g id=\"node74\" class=\"node\">\n<title>137092580970160</title>\n<polygon fill=\"none\" stroke=\"black\" points=\"916.5,-963.5 916.5,-1009.5 1016.5,-1009.5 1016.5,-963.5 916.5,-963.5\"/>\n<text text-anchor=\"middle\" x=\"926.5\" y=\"-994.3\" font-family=\"Times,serif\" font-size=\"14.00\"> </text>\n<polyline fill=\"none\" stroke=\"black\" points=\"936.5,-986.5 936.5,-1009.5 \"/>\n<text text-anchor=\"middle\" x=\"976.5\" y=\"-994.3\" font-family=\"Times,serif\" font-size=\"14.00\">data 1.6738</text>\n<polyline fill=\"none\" stroke=\"black\" points=\"916.5,-986.5 1016.5,-986.5 \"/>\n<text text-anchor=\"middle\" x=\"966.5\" y=\"-971.3\" font-family=\"Times,serif\" font-size=\"14.00\">grad 0.0000</text>\n</g>\n<!-- 137092580970256tanh -->\n<g id=\"node77\" class=\"node\">\n<title>137092580970256tanh</title>\n<ellipse fill=\"none\" stroke=\"black\" cx=\"1082\" cy=\"-973.5\" rx=\"27\" ry=\"18\"/>\n<text text-anchor=\"middle\" x=\"1082\" y=\"-969.8\" font-family=\"Times,serif\" font-size=\"14.00\">tanh</text>\n</g>\n<!-- 137092580970160&#45;&gt;137092580970256tanh -->\n<g id=\"edge80\" class=\"edge\">\n<title>137092580970160&#45;&gt;137092580970256tanh</title>\n<path fill=\"none\" stroke=\"black\" d=\"M1016.62,-980.87C1026.18,-979.78 1036.04,-978.65 1045.07,-977.62\"/>\n<polygon fill=\"black\" stroke=\"black\" points=\"1045.7,-981.07 1055.24,-976.45 1044.9,-974.11 1045.7,-981.07\"/>\n</g>\n<!-- 137092580970160+&#45;&gt;137092580970160 -->\n<g id=\"edge30\" class=\"edge\">\n<title>137092580970160+&#45;&gt;137092580970160</title>\n<path fill=\"none\" stroke=\"black\" d=\"M877.75,-995.78C886.29,-994.87 896.17,-993.83 906.17,-992.77\"/>\n<polygon fill=\"black\" stroke=\"black\" points=\"906.57,-996.25 916.15,-991.72 905.84,-989.29 906.57,-996.25\"/>\n</g>\n<!-- 137092580970256 -->\n<g id=\"node76\" class=\"node\">\n<title>137092580970256</title>\n<polygon fill=\"none\" stroke=\"black\" points=\"1147.5,-926.5 1147.5,-972.5 1247.5,-972.5 1247.5,-926.5 1147.5,-926.5\"/>\n<text text-anchor=\"middle\" x=\"1157.5\" y=\"-957.3\" font-family=\"Times,serif\" font-size=\"14.00\"> </text>\n<polyline fill=\"none\" stroke=\"black\" points=\"1167.5,-949.5 1167.5,-972.5 \"/>\n<text text-anchor=\"middle\" x=\"1207.5\" y=\"-957.3\" font-family=\"Times,serif\" font-size=\"14.00\">data 0.9320</text>\n<polyline fill=\"none\" stroke=\"black\" points=\"1147.5,-949.5 1247.5,-949.5 \"/>\n<text text-anchor=\"middle\" x=\"1197.5\" y=\"-934.3\" font-family=\"Times,serif\" font-size=\"14.00\">grad 0.0000</text>\n</g>\n<!-- 137092580970256&#45;&gt;137092580975008* -->\n<g id=\"edge103\" class=\"edge\">\n<title>137092580970256&#45;&gt;137092580975008*</title>\n<path fill=\"none\" stroke=\"black\" d=\"M1209.59,-926.32C1220.33,-903.61 1236.87,-867.93 1250,-836.5 1269.68,-789.36 1290.36,-733.54 1302.16,-700.97\"/>\n<polygon fill=\"black\" stroke=\"black\" points=\"1305.57,-701.85 1305.67,-691.25 1298.98,-699.47 1305.57,-701.85\"/>\n</g>\n<!-- 137092580970256&#45;&gt;137092580976736* -->\n<g id=\"edge199\" class=\"edge\">\n<title>137092580970256&#45;&gt;137092580976736*</title>\n<path fill=\"none\" stroke=\"black\" d=\"M1247.62,-970.71C1258.79,-975.53 1270.36,-980.52 1280.56,-984.93\"/>\n<polygon fill=\"black\" stroke=\"black\" points=\"1279.29,-988.19 1289.86,-988.94 1282.07,-981.76 1279.29,-988.19\"/>\n</g>\n<!-- 137092580978464* -->\n<g id=\"node79\" class=\"node\">\n<title>137092580978464*</title>\n<ellipse fill=\"none\" stroke=\"black\" cx=\"1313\" cy=\"-1111.5\" rx=\"27\" ry=\"18\"/>\n<text text-anchor=\"middle\" x=\"1313\" y=\"-1107.8\" font-family=\"Times,serif\" font-size=\"14.00\">*</text>\n</g>\n<!-- 137092580970256&#45;&gt;137092580978464* -->\n<g id=\"edge189\" class=\"edge\">\n<title>137092580970256&#45;&gt;137092580978464*</title>\n<path fill=\"none\" stroke=\"black\" d=\"M1239.33,-972.51C1243.19,-975.58 1246.83,-978.92 1250,-982.5 1276.69,-1012.66 1294.44,-1056.35 1303.87,-1084.34\"/>\n<polygon fill=\"black\" stroke=\"black\" points=\"1300.55,-1085.45 1306.97,-1093.88 1307.21,-1083.29 1300.55,-1085.45\"/>\n</g>\n<!-- 137092580980192* -->\n<g id=\"node115\" class=\"node\">\n<title>137092580980192*</title>\n<ellipse fill=\"none\" stroke=\"black\" cx=\"1313\" cy=\"-446.5\" rx=\"27\" ry=\"18\"/>\n<text text-anchor=\"middle\" x=\"1313\" y=\"-442.8\" font-family=\"Times,serif\" font-size=\"14.00\">*</text>\n</g>\n<!-- 137092580970256&#45;&gt;137092580980192* -->\n<g id=\"edge141\" class=\"edge\">\n<title>137092580970256&#45;&gt;137092580980192*</title>\n<path fill=\"none\" stroke=\"black\" d=\"M1211.39,-926.45C1223.3,-904.13 1240.52,-868.99 1250,-836.5 1282.06,-726.63 1267.17,-694.4 1286,-581.5 1292.2,-544.3 1300.66,-501.58 1306.22,-474.34\"/>\n<polygon fill=\"black\" stroke=\"black\" points=\"1309.68,-474.85 1308.27,-464.36 1302.83,-473.45 1309.68,-474.85\"/>\n</g>\n<!-- 137092580970256tanh&#45;&gt;137092580970256 -->\n<g id=\"edge31\" class=\"edge\">\n<title>137092580970256tanh&#45;&gt;137092580970256</title>\n<path fill=\"none\" stroke=\"black\" d=\"M1107.91,-968.23C1116.71,-966.37 1127.02,-964.19 1137.44,-961.99\"/>\n<polygon fill=\"black\" stroke=\"black\" points=\"1138.36,-965.37 1147.41,-959.88 1136.91,-958.52 1138.36,-965.37\"/>\n</g>\n<!-- 137092580978464 -->\n<g id=\"node78\" class=\"node\">\n<title>137092580978464</title>\n<polygon fill=\"none\" stroke=\"black\" points=\"1378.5,-1105.5 1378.5,-1151.5 1478.5,-1151.5 1478.5,-1105.5 1378.5,-1105.5\"/>\n<text text-anchor=\"middle\" x=\"1388.5\" y=\"-1136.3\" font-family=\"Times,serif\" font-size=\"14.00\"> </text>\n<polyline fill=\"none\" stroke=\"black\" points=\"1398.5,-1128.5 1398.5,-1151.5 \"/>\n<text text-anchor=\"middle\" x=\"1438.5\" y=\"-1136.3\" font-family=\"Times,serif\" font-size=\"14.00\">data 0.2222</text>\n<polyline fill=\"none\" stroke=\"black\" points=\"1378.5,-1128.5 1478.5,-1128.5 \"/>\n<text text-anchor=\"middle\" x=\"1428.5\" y=\"-1113.3\" font-family=\"Times,serif\" font-size=\"14.00\">grad 0.0000</text>\n</g>\n<!-- 137092580978656+ -->\n<g id=\"node81\" class=\"node\">\n<title>137092580978656+</title>\n<ellipse fill=\"none\" stroke=\"black\" cx=\"1544\" cy=\"-1128.5\" rx=\"27\" ry=\"18\"/>\n<text text-anchor=\"middle\" x=\"1544\" y=\"-1124.8\" font-family=\"Times,serif\" font-size=\"14.00\">+</text>\n</g>\n<!-- 137092580978464&#45;&gt;137092580978656+ -->\n<g id=\"edge160\" class=\"edge\">\n<title>137092580978464&#45;&gt;137092580978656+</title>\n<path fill=\"none\" stroke=\"black\" d=\"M1478.62,-1128.5C1488.1,-1128.5 1497.86,-1128.5 1506.83,-1128.5\"/>\n<polygon fill=\"black\" stroke=\"black\" points=\"1506.93,-1132 1516.93,-1128.5 1506.93,-1125 1506.93,-1132\"/>\n</g>\n<!-- 137092580978464*&#45;&gt;137092580978464 -->\n<g id=\"edge32\" class=\"edge\">\n<title>137092580978464*&#45;&gt;137092580978464</title>\n<path fill=\"none\" stroke=\"black\" d=\"M1339.47,-1115.32C1348.1,-1116.61 1358.13,-1118.11 1368.26,-1119.63\"/>\n<polygon fill=\"black\" stroke=\"black\" points=\"1367.98,-1123.12 1378.39,-1121.14 1369.02,-1116.2 1367.98,-1123.12\"/>\n</g>\n<!-- 137092580978656 -->\n<g id=\"node80\" class=\"node\">\n<title>137092580978656</title>\n<polygon fill=\"none\" stroke=\"black\" points=\"1609.5,-1105.5 1609.5,-1151.5 1709.5,-1151.5 1709.5,-1105.5 1609.5,-1105.5\"/>\n<text text-anchor=\"middle\" x=\"1619.5\" y=\"-1136.3\" font-family=\"Times,serif\" font-size=\"14.00\"> </text>\n<polyline fill=\"none\" stroke=\"black\" points=\"1629.5,-1128.5 1629.5,-1151.5 \"/>\n<text text-anchor=\"middle\" x=\"1669.5\" y=\"-1136.3\" font-family=\"Times,serif\" font-size=\"14.00\">data 0.3425</text>\n<polyline fill=\"none\" stroke=\"black\" points=\"1609.5,-1128.5 1709.5,-1128.5 \"/>\n<text text-anchor=\"middle\" x=\"1659.5\" y=\"-1113.3\" font-family=\"Times,serif\" font-size=\"14.00\">grad 0.0000</text>\n</g>\n<!-- 137092580979040+ -->\n<g id=\"node91\" class=\"node\">\n<title>137092580979040+</title>\n<ellipse fill=\"none\" stroke=\"black\" cx=\"1775\" cy=\"-998.5\" rx=\"27\" ry=\"18\"/>\n<text text-anchor=\"middle\" x=\"1775\" y=\"-994.8\" font-family=\"Times,serif\" font-size=\"14.00\">+</text>\n</g>\n<!-- 137092580978656&#45;&gt;137092580979040+ -->\n<g id=\"edge182\" class=\"edge\">\n<title>137092580978656&#45;&gt;137092580979040+</title>\n<path fill=\"none\" stroke=\"black\" d=\"M1701.72,-1105.33C1705.37,-1102.57 1708.86,-1099.61 1712,-1096.5 1733.2,-1075.48 1750.64,-1045.93 1761.57,-1024.78\"/>\n<polygon fill=\"black\" stroke=\"black\" points=\"1764.76,-1026.23 1766.12,-1015.72 1758.5,-1023.08 1764.76,-1026.23\"/>\n</g>\n<!-- 137092580978656+&#45;&gt;137092580978656 -->\n<g id=\"edge33\" class=\"edge\">\n<title>137092580978656+&#45;&gt;137092580978656</title>\n<path fill=\"none\" stroke=\"black\" d=\"M1571.04,-1128.5C1579.49,-1128.5 1589.24,-1128.5 1599.1,-1128.5\"/>\n<polygon fill=\"black\" stroke=\"black\" points=\"1599.37,-1132 1609.37,-1128.5 1599.37,-1125 1599.37,-1132\"/>\n</g>\n<!-- 137092580970544 -->\n<g id=\"node82\" class=\"node\">\n<title>137092580970544</title>\n<polygon fill=\"none\" stroke=\"black\" points=\"226,-488.5 226,-534.5 326,-534.5 326,-488.5 226,-488.5\"/>\n<text text-anchor=\"middle\" x=\"236\" y=\"-519.3\" font-family=\"Times,serif\" font-size=\"14.00\"> </text>\n<polyline fill=\"none\" stroke=\"black\" points=\"246,-511.5 246,-534.5 \"/>\n<text text-anchor=\"middle\" x=\"286\" y=\"-519.3\" font-family=\"Times,serif\" font-size=\"14.00\">data 2.0000</text>\n<polyline fill=\"none\" stroke=\"black\" points=\"226,-511.5 326,-511.5 \"/>\n<text text-anchor=\"middle\" x=\"276\" y=\"-496.3\" font-family=\"Times,serif\" font-size=\"14.00\">grad 0.0000</text>\n</g>\n<!-- 137092580970544&#45;&gt;137092580970592* -->\n<g id=\"edge166\" class=\"edge\">\n<title>137092580970544&#45;&gt;137092580970592*</title>\n<path fill=\"none\" stroke=\"black\" d=\"M326.01,-525.63C335.55,-528.38 345.34,-531.2 354.25,-533.77\"/>\n<polygon fill=\"black\" stroke=\"black\" points=\"353.29,-537.14 363.87,-536.54 355.23,-530.41 353.29,-537.14\"/>\n</g>\n<!-- 137092580970592 -->\n<g id=\"node83\" class=\"node\">\n<title>137092580970592</title>\n<polygon fill=\"none\" stroke=\"black\" points=\"454.5,-520.5 454.5,-566.5 554.5,-566.5 554.5,-520.5 454.5,-520.5\"/>\n<text text-anchor=\"middle\" x=\"464.5\" y=\"-551.3\" font-family=\"Times,serif\" font-size=\"14.00\"> </text>\n<polyline fill=\"none\" stroke=\"black\" points=\"474.5,-543.5 474.5,-566.5 \"/>\n<text text-anchor=\"middle\" x=\"514.5\" y=\"-551.3\" font-family=\"Times,serif\" font-size=\"14.00\">data 0.9607</text>\n<polyline fill=\"none\" stroke=\"black\" points=\"454.5,-543.5 554.5,-543.5 \"/>\n<text text-anchor=\"middle\" x=\"504.5\" y=\"-528.3\" font-family=\"Times,serif\" font-size=\"14.00\">grad 0.0000</text>\n</g>\n<!-- 137092580970592&#45;&gt;137092580970784+ -->\n<g id=\"edge148\" class=\"edge\">\n<title>137092580970592&#45;&gt;137092580970784+</title>\n<path fill=\"none\" stroke=\"black\" d=\"M554.62,-543.5C564.1,-543.5 573.86,-543.5 582.83,-543.5\"/>\n<polygon fill=\"black\" stroke=\"black\" points=\"582.93,-547 592.93,-543.5 582.93,-540 582.93,-547\"/>\n</g>\n<!-- 137092580970592*&#45;&gt;137092580970592 -->\n<g id=\"edge34\" class=\"edge\">\n<title>137092580970592*&#45;&gt;137092580970592</title>\n<path fill=\"none\" stroke=\"black\" d=\"M416.04,-543.5C424.49,-543.5 434.24,-543.5 444.1,-543.5\"/>\n<polygon fill=\"black\" stroke=\"black\" points=\"444.37,-547 454.37,-543.5 444.37,-540 444.37,-547\"/>\n</g>\n<!-- 137092580823136 -->\n<g id=\"node85\" class=\"node\">\n<title>137092580823136</title>\n<polygon fill=\"none\" stroke=\"black\" points=\"0,-1073.5 0,-1119.5 100,-1119.5 100,-1073.5 0,-1073.5\"/>\n<text text-anchor=\"middle\" x=\"10\" y=\"-1104.3\" font-family=\"Times,serif\" font-size=\"14.00\"> </text>\n<polyline fill=\"none\" stroke=\"black\" points=\"20,-1096.5 20,-1119.5 \"/>\n<text text-anchor=\"middle\" x=\"60\" y=\"-1104.3\" font-family=\"Times,serif\" font-size=\"14.00\">data 0.2440</text>\n<polyline fill=\"none\" stroke=\"black\" points=\"0,-1096.5 100,-1096.5 \"/>\n<text text-anchor=\"middle\" x=\"50\" y=\"-1081.3\" font-family=\"Times,serif\" font-size=\"14.00\">grad 0.0000</text>\n</g>\n<!-- 137092580823136&#45;&gt;137092580969104* -->\n<g id=\"edge209\" class=\"edge\">\n<title>137092580823136&#45;&gt;137092580969104*</title>\n<path fill=\"none\" stroke=\"black\" d=\"M100.01,-1110.63C109.55,-1113.38 119.34,-1116.2 128.25,-1118.77\"/>\n<polygon fill=\"black\" stroke=\"black\" points=\"127.29,-1122.14 137.87,-1121.54 129.23,-1115.41 127.29,-1122.14\"/>\n</g>\n<!-- 137092580978848 -->\n<g id=\"node86\" class=\"node\">\n<title>137092580978848</title>\n<polygon fill=\"none\" stroke=\"black\" points=\"1607,-910.5 1607,-956.5 1712,-956.5 1712,-910.5 1607,-910.5\"/>\n<text text-anchor=\"middle\" x=\"1617\" y=\"-941.3\" font-family=\"Times,serif\" font-size=\"14.00\"> </text>\n<polyline fill=\"none\" stroke=\"black\" points=\"1627,-933.5 1627,-956.5 \"/>\n<text text-anchor=\"middle\" x=\"1669.5\" y=\"-941.3\" font-family=\"Times,serif\" font-size=\"14.00\">data &#45;0.0728</text>\n<polyline fill=\"none\" stroke=\"black\" points=\"1607,-933.5 1712,-933.5 \"/>\n<text text-anchor=\"middle\" x=\"1659.5\" y=\"-918.3\" font-family=\"Times,serif\" font-size=\"14.00\">grad 0.0000</text>\n</g>\n<!-- 137092580978848&#45;&gt;137092580979040+ -->\n<g id=\"edge120\" class=\"edge\">\n<title>137092580978848&#45;&gt;137092580979040+</title>\n<path fill=\"none\" stroke=\"black\" d=\"M1700.84,-956.6C1715.43,-964.96 1731.62,-974.23 1745.05,-981.92\"/>\n<polygon fill=\"black\" stroke=\"black\" points=\"1743.43,-985.03 1753.85,-986.96 1746.91,-978.95 1743.43,-985.03\"/>\n</g>\n<!-- 137092580978848* -->\n<g id=\"node87\" class=\"node\">\n<title>137092580978848*</title>\n<ellipse fill=\"none\" stroke=\"black\" cx=\"1544\" cy=\"-868.5\" rx=\"27\" ry=\"18\"/>\n<text text-anchor=\"middle\" x=\"1544\" y=\"-864.8\" font-family=\"Times,serif\" font-size=\"14.00\">*</text>\n</g>\n<!-- 137092580978848*&#45;&gt;137092580978848 -->\n<g id=\"edge35\" class=\"edge\">\n<title>137092580978848*&#45;&gt;137092580978848</title>\n<path fill=\"none\" stroke=\"black\" d=\"M1565.03,-879.97C1577.27,-886.98 1593.49,-896.27 1608.99,-905.15\"/>\n<polygon fill=\"black\" stroke=\"black\" points=\"1607.57,-908.37 1617.99,-910.3 1611.05,-902.29 1607.57,-908.37\"/>\n</g>\n<!-- 137092580970784 -->\n<g id=\"node88\" class=\"node\">\n<title>137092580970784</title>\n<polygon fill=\"none\" stroke=\"black\" points=\"685.5,-520.5 685.5,-566.5 785.5,-566.5 785.5,-520.5 685.5,-520.5\"/>\n<text text-anchor=\"middle\" x=\"695.5\" y=\"-551.3\" font-family=\"Times,serif\" font-size=\"14.00\"> </text>\n<polyline fill=\"none\" stroke=\"black\" points=\"705.5,-543.5 705.5,-566.5 \"/>\n<text text-anchor=\"middle\" x=\"745.5\" y=\"-551.3\" font-family=\"Times,serif\" font-size=\"14.00\">data 1.4875</text>\n<polyline fill=\"none\" stroke=\"black\" points=\"685.5,-543.5 785.5,-543.5 \"/>\n<text text-anchor=\"middle\" x=\"735.5\" y=\"-528.3\" font-family=\"Times,serif\" font-size=\"14.00\">grad 0.0000</text>\n</g>\n<!-- 137092580971216+ -->\n<g id=\"node98\" class=\"node\">\n<title>137092580971216+</title>\n<ellipse fill=\"none\" stroke=\"black\" cx=\"851\" cy=\"-543.5\" rx=\"27\" ry=\"18\"/>\n<text text-anchor=\"middle\" x=\"851\" y=\"-539.8\" font-family=\"Times,serif\" font-size=\"14.00\">+</text>\n</g>\n<!-- 137092580970784&#45;&gt;137092580971216+ -->\n<g id=\"edge134\" class=\"edge\">\n<title>137092580970784&#45;&gt;137092580971216+</title>\n<path fill=\"none\" stroke=\"black\" d=\"M785.62,-543.5C795.1,-543.5 804.86,-543.5 813.83,-543.5\"/>\n<polygon fill=\"black\" stroke=\"black\" points=\"813.93,-547 823.93,-543.5 813.93,-540 813.93,-547\"/>\n</g>\n<!-- 137092580970784+&#45;&gt;137092580970784 -->\n<g id=\"edge36\" class=\"edge\">\n<title>137092580970784+&#45;&gt;137092580970784</title>\n<path fill=\"none\" stroke=\"black\" d=\"M647.04,-543.5C655.49,-543.5 665.24,-543.5 675.1,-543.5\"/>\n<polygon fill=\"black\" stroke=\"black\" points=\"675.37,-547 685.37,-543.5 675.37,-540 675.37,-547\"/>\n</g>\n<!-- 137092580979040 -->\n<g id=\"node90\" class=\"node\">\n<title>137092580979040</title>\n<polygon fill=\"none\" stroke=\"black\" points=\"1840.5,-975.5 1840.5,-1021.5 1940.5,-1021.5 1940.5,-975.5 1840.5,-975.5\"/>\n<text text-anchor=\"middle\" x=\"1850.5\" y=\"-1006.3\" font-family=\"Times,serif\" font-size=\"14.00\"> </text>\n<polyline fill=\"none\" stroke=\"black\" points=\"1860.5,-998.5 1860.5,-1021.5 \"/>\n<text text-anchor=\"middle\" x=\"1900.5\" y=\"-1006.3\" font-family=\"Times,serif\" font-size=\"14.00\">data 0.2696</text>\n<polyline fill=\"none\" stroke=\"black\" points=\"1840.5,-998.5 1940.5,-998.5 \"/>\n<text text-anchor=\"middle\" x=\"1890.5\" y=\"-983.3\" font-family=\"Times,serif\" font-size=\"14.00\">grad 0.0000</text>\n</g>\n<!-- 137092580979424+ -->\n<g id=\"node100\" class=\"node\">\n<title>137092580979424+</title>\n<ellipse fill=\"none\" stroke=\"black\" cx=\"2006\" cy=\"-933.5\" rx=\"27\" ry=\"18\"/>\n<text text-anchor=\"middle\" x=\"2006\" y=\"-929.8\" font-family=\"Times,serif\" font-size=\"14.00\">+</text>\n</g>\n<!-- 137092580979040&#45;&gt;137092580979424+ -->\n<g id=\"edge152\" class=\"edge\">\n<title>137092580979040&#45;&gt;137092580979424+</title>\n<path fill=\"none\" stroke=\"black\" d=\"M1931.84,-975.4C1946.43,-967.04 1962.62,-957.77 1976.05,-950.08\"/>\n<polygon fill=\"black\" stroke=\"black\" points=\"1977.91,-953.05 1984.85,-945.04 1974.43,-946.97 1977.91,-953.05\"/>\n</g>\n<!-- 137092580979040+&#45;&gt;137092580979040 -->\n<g id=\"edge37\" class=\"edge\">\n<title>137092580979040+&#45;&gt;137092580979040</title>\n<path fill=\"none\" stroke=\"black\" d=\"M1802.04,-998.5C1810.49,-998.5 1820.24,-998.5 1830.1,-998.5\"/>\n<polygon fill=\"black\" stroke=\"black\" points=\"1830.37,-1002 1840.37,-998.5 1830.37,-995 1830.37,-1002\"/>\n</g>\n<!-- 137092580970976 -->\n<g id=\"node92\" class=\"node\">\n<title>137092580970976</title>\n<polygon fill=\"none\" stroke=\"black\" points=\"454.5,-390.5 454.5,-436.5 554.5,-436.5 554.5,-390.5 454.5,-390.5\"/>\n<text text-anchor=\"middle\" x=\"464.5\" y=\"-421.3\" font-family=\"Times,serif\" font-size=\"14.00\"> </text>\n<polyline fill=\"none\" stroke=\"black\" points=\"474.5,-413.5 474.5,-436.5 \"/>\n<text text-anchor=\"middle\" x=\"514.5\" y=\"-421.3\" font-family=\"Times,serif\" font-size=\"14.00\">data 3.0000</text>\n<polyline fill=\"none\" stroke=\"black\" points=\"454.5,-413.5 554.5,-413.5 \"/>\n<text text-anchor=\"middle\" x=\"504.5\" y=\"-398.3\" font-family=\"Times,serif\" font-size=\"14.00\">grad 0.0000</text>\n</g>\n<!-- 137092580970976&#45;&gt;137092580971024* -->\n<g id=\"edge106\" class=\"edge\">\n<title>137092580970976&#45;&gt;137092580971024*</title>\n<path fill=\"none\" stroke=\"black\" d=\"M545.84,-436.6C560.43,-444.96 576.62,-454.23 590.05,-461.92\"/>\n<polygon fill=\"black\" stroke=\"black\" points=\"588.43,-465.03 598.85,-466.96 591.91,-458.95 588.43,-465.03\"/>\n</g>\n<!-- 137092580971024 -->\n<g id=\"node93\" class=\"node\">\n<title>137092580971024</title>\n<polygon fill=\"none\" stroke=\"black\" points=\"683,-455.5 683,-501.5 788,-501.5 788,-455.5 683,-455.5\"/>\n<text text-anchor=\"middle\" x=\"693\" y=\"-486.3\" font-family=\"Times,serif\" font-size=\"14.00\"> </text>\n<polyline fill=\"none\" stroke=\"black\" points=\"703,-478.5 703,-501.5 \"/>\n<text text-anchor=\"middle\" x=\"745.5\" y=\"-486.3\" font-family=\"Times,serif\" font-size=\"14.00\">data &#45;2.9120</text>\n<polyline fill=\"none\" stroke=\"black\" points=\"683,-478.5 788,-478.5 \"/>\n<text text-anchor=\"middle\" x=\"735.5\" y=\"-463.3\" font-family=\"Times,serif\" font-size=\"14.00\">grad 0.0000</text>\n</g>\n<!-- 137092580971024&#45;&gt;137092580971216+ -->\n<g id=\"edge139\" class=\"edge\">\n<title>137092580971024&#45;&gt;137092580971216+</title>\n<path fill=\"none\" stroke=\"black\" d=\"M776.84,-501.6C791.43,-509.96 807.62,-519.23 821.05,-526.92\"/>\n<polygon fill=\"black\" stroke=\"black\" points=\"819.43,-530.03 829.85,-531.96 822.91,-523.95 819.43,-530.03\"/>\n</g>\n<!-- 137092580971024*&#45;&gt;137092580971024 -->\n<g id=\"edge38\" class=\"edge\">\n<title>137092580971024*&#45;&gt;137092580971024</title>\n<path fill=\"none\" stroke=\"black\" d=\"M647.04,-478.5C654.74,-478.5 663.53,-478.5 672.49,-478.5\"/>\n<polygon fill=\"black\" stroke=\"black\" points=\"672.63,-482 682.63,-478.5 672.63,-475 672.63,-482\"/>\n</g>\n<!-- 137092580979232 -->\n<g id=\"node95\" class=\"node\">\n<title>137092580979232</title>\n<polygon fill=\"none\" stroke=\"black\" points=\"1838,-910.5 1838,-956.5 1943,-956.5 1943,-910.5 1838,-910.5\"/>\n<text text-anchor=\"middle\" x=\"1848\" y=\"-941.3\" font-family=\"Times,serif\" font-size=\"14.00\"> </text>\n<polyline fill=\"none\" stroke=\"black\" points=\"1858,-933.5 1858,-956.5 \"/>\n<text text-anchor=\"middle\" x=\"1900.5\" y=\"-941.3\" font-family=\"Times,serif\" font-size=\"14.00\">data &#45;0.5167</text>\n<polyline fill=\"none\" stroke=\"black\" points=\"1838,-933.5 1943,-933.5 \"/>\n<text text-anchor=\"middle\" x=\"1890.5\" y=\"-918.3\" font-family=\"Times,serif\" font-size=\"14.00\">grad 0.0000</text>\n</g>\n<!-- 137092580979232&#45;&gt;137092580979424+ -->\n<g id=\"edge135\" class=\"edge\">\n<title>137092580979232&#45;&gt;137092580979424+</title>\n<path fill=\"none\" stroke=\"black\" d=\"M1943.27,-933.5C1951.8,-933.5 1960.49,-933.5 1968.55,-933.5\"/>\n<polygon fill=\"black\" stroke=\"black\" points=\"1968.72,-937 1978.72,-933.5 1968.72,-930 1968.72,-937\"/>\n</g>\n<!-- 137092580979232* -->\n<g id=\"node96\" class=\"node\">\n<title>137092580979232*</title>\n<ellipse fill=\"none\" stroke=\"black\" cx=\"1775\" cy=\"-933.5\" rx=\"27\" ry=\"18\"/>\n<text text-anchor=\"middle\" x=\"1775\" y=\"-929.8\" font-family=\"Times,serif\" font-size=\"14.00\">*</text>\n</g>\n<!-- 137092580979232*&#45;&gt;137092580979232 -->\n<g id=\"edge39\" class=\"edge\">\n<title>137092580979232*&#45;&gt;137092580979232</title>\n<path fill=\"none\" stroke=\"black\" d=\"M1802.04,-933.5C1809.74,-933.5 1818.53,-933.5 1827.49,-933.5\"/>\n<polygon fill=\"black\" stroke=\"black\" points=\"1827.63,-937 1837.63,-933.5 1827.63,-930 1827.63,-937\"/>\n</g>\n<!-- 137092580971216 -->\n<g id=\"node97\" class=\"node\">\n<title>137092580971216</title>\n<polygon fill=\"none\" stroke=\"black\" points=\"914,-520.5 914,-566.5 1019,-566.5 1019,-520.5 914,-520.5\"/>\n<text text-anchor=\"middle\" x=\"924\" y=\"-551.3\" font-family=\"Times,serif\" font-size=\"14.00\"> </text>\n<polyline fill=\"none\" stroke=\"black\" points=\"934,-543.5 934,-566.5 \"/>\n<text text-anchor=\"middle\" x=\"976.5\" y=\"-551.3\" font-family=\"Times,serif\" font-size=\"14.00\">data &#45;1.4246</text>\n<polyline fill=\"none\" stroke=\"black\" points=\"914,-543.5 1019,-543.5 \"/>\n<text text-anchor=\"middle\" x=\"966.5\" y=\"-528.3\" font-family=\"Times,serif\" font-size=\"14.00\">grad 0.0000</text>\n</g>\n<!-- 137092580971648+ -->\n<g id=\"node109\" class=\"node\">\n<title>137092580971648+</title>\n<ellipse fill=\"none\" stroke=\"black\" cx=\"1082\" cy=\"-608.5\" rx=\"27\" ry=\"18\"/>\n<text text-anchor=\"middle\" x=\"1082\" y=\"-604.8\" font-family=\"Times,serif\" font-size=\"14.00\">+</text>\n</g>\n<!-- 137092580971216&#45;&gt;137092580971648+ -->\n<g id=\"edge174\" class=\"edge\">\n<title>137092580971216&#45;&gt;137092580971648+</title>\n<path fill=\"none\" stroke=\"black\" d=\"M1007.84,-566.6C1022.43,-574.96 1038.62,-584.23 1052.05,-591.92\"/>\n<polygon fill=\"black\" stroke=\"black\" points=\"1050.43,-595.03 1060.85,-596.96 1053.91,-588.95 1050.43,-595.03\"/>\n</g>\n<!-- 137092580971216+&#45;&gt;137092580971216 -->\n<g id=\"edge40\" class=\"edge\">\n<title>137092580971216+&#45;&gt;137092580971216</title>\n<path fill=\"none\" stroke=\"black\" d=\"M878.04,-543.5C885.74,-543.5 894.53,-543.5 903.49,-543.5\"/>\n<polygon fill=\"black\" stroke=\"black\" points=\"903.63,-547 913.63,-543.5 903.63,-540 903.63,-547\"/>\n</g>\n<!-- 137092580979424 -->\n<g id=\"node99\" class=\"node\">\n<title>137092580979424</title>\n<polygon fill=\"none\" stroke=\"black\" points=\"2069,-878.5 2069,-924.5 2174,-924.5 2174,-878.5 2069,-878.5\"/>\n<text text-anchor=\"middle\" x=\"2079\" y=\"-909.3\" font-family=\"Times,serif\" font-size=\"14.00\"> </text>\n<polyline fill=\"none\" stroke=\"black\" points=\"2089,-901.5 2089,-924.5 \"/>\n<text text-anchor=\"middle\" x=\"2131.5\" y=\"-909.3\" font-family=\"Times,serif\" font-size=\"14.00\">data &#45;0.2470</text>\n<polyline fill=\"none\" stroke=\"black\" points=\"2069,-901.5 2174,-901.5 \"/>\n<text text-anchor=\"middle\" x=\"2121.5\" y=\"-886.3\" font-family=\"Times,serif\" font-size=\"14.00\">grad 0.0000</text>\n</g>\n<!-- 137092580979808+ -->\n<g id=\"node107\" class=\"node\">\n<title>137092580979808+</title>\n<ellipse fill=\"none\" stroke=\"black\" cx=\"2237\" cy=\"-743.5\" rx=\"27\" ry=\"18\"/>\n<text text-anchor=\"middle\" x=\"2237\" y=\"-739.8\" font-family=\"Times,serif\" font-size=\"14.00\">+</text>\n</g>\n<!-- 137092580979424&#45;&gt;137092580979808+ -->\n<g id=\"edge115\" class=\"edge\">\n<title>137092580979424&#45;&gt;137092580979808+</title>\n<path fill=\"none\" stroke=\"black\" d=\"M2141.56,-878.39C2151.49,-866.13 2163.67,-850.7 2174,-836.5 2190.38,-813.98 2207.88,-787.48 2220.1,-768.54\"/>\n<polygon fill=\"black\" stroke=\"black\" points=\"2223.19,-770.21 2225.64,-759.9 2217.3,-766.43 2223.19,-770.21\"/>\n</g>\n<!-- 137092580979424+&#45;&gt;137092580979424 -->\n<g id=\"edge41\" class=\"edge\">\n<title>137092580979424+&#45;&gt;137092580979424</title>\n<path fill=\"none\" stroke=\"black\" d=\"M2031.07,-926.71C2039.37,-924.37 2049.08,-921.64 2058.98,-918.84\"/>\n<polygon fill=\"black\" stroke=\"black\" points=\"2060.23,-922.13 2068.91,-916.05 2058.33,-915.39 2060.23,-922.13\"/>\n</g>\n<!-- 137092580971408 -->\n<g id=\"node101\" class=\"node\">\n<title>137092580971408</title>\n<polygon fill=\"none\" stroke=\"black\" points=\"683,-585.5 683,-631.5 788,-631.5 788,-585.5 683,-585.5\"/>\n<text text-anchor=\"middle\" x=\"693\" y=\"-616.3\" font-family=\"Times,serif\" font-size=\"14.00\"> </text>\n<polyline fill=\"none\" stroke=\"black\" points=\"703,-608.5 703,-631.5 \"/>\n<text text-anchor=\"middle\" x=\"745.5\" y=\"-616.3\" font-family=\"Times,serif\" font-size=\"14.00\">data &#45;1.0000</text>\n<polyline fill=\"none\" stroke=\"black\" points=\"683,-608.5 788,-608.5 \"/>\n<text text-anchor=\"middle\" x=\"735.5\" y=\"-593.3\" font-family=\"Times,serif\" font-size=\"14.00\">grad 0.0000</text>\n</g>\n<!-- 137092580971408&#45;&gt;137092580971456* -->\n<g id=\"edge110\" class=\"edge\">\n<title>137092580971408&#45;&gt;137092580971456*</title>\n<path fill=\"none\" stroke=\"black\" d=\"M788.27,-608.5C796.8,-608.5 805.49,-608.5 813.55,-608.5\"/>\n<polygon fill=\"black\" stroke=\"black\" points=\"813.72,-612 823.72,-608.5 813.72,-605 813.72,-612\"/>\n</g>\n<!-- 137092580979616 -->\n<g id=\"node102\" class=\"node\">\n<title>137092580979616</title>\n<polygon fill=\"none\" stroke=\"black\" points=\"2071.5,-650.5 2071.5,-696.5 2171.5,-696.5 2171.5,-650.5 2071.5,-650.5\"/>\n<text text-anchor=\"middle\" x=\"2081.5\" y=\"-681.3\" font-family=\"Times,serif\" font-size=\"14.00\"> </text>\n<polyline fill=\"none\" stroke=\"black\" points=\"2091.5,-673.5 2091.5,-696.5 \"/>\n<text text-anchor=\"middle\" x=\"2131.5\" y=\"-681.3\" font-family=\"Times,serif\" font-size=\"14.00\">data 0.5808</text>\n<polyline fill=\"none\" stroke=\"black\" points=\"2071.5,-673.5 2171.5,-673.5 \"/>\n<text text-anchor=\"middle\" x=\"2121.5\" y=\"-658.3\" font-family=\"Times,serif\" font-size=\"14.00\">grad 0.0000</text>\n</g>\n<!-- 137092580979616&#45;&gt;137092580979808+ -->\n<g id=\"edge75\" class=\"edge\">\n<title>137092580979616&#45;&gt;137092580979808+</title>\n<path fill=\"none\" stroke=\"black\" d=\"M2159.98,-696.61C2175.7,-706.31 2193.66,-717.39 2208.17,-726.34\"/>\n<polygon fill=\"black\" stroke=\"black\" points=\"2206.37,-729.34 2216.72,-731.61 2210.04,-723.38 2206.37,-729.34\"/>\n</g>\n<!-- 137092580979616*&#45;&gt;137092580979616 -->\n<g id=\"edge42\" class=\"edge\">\n<title>137092580979616*&#45;&gt;137092580979616</title>\n<path fill=\"none\" stroke=\"black\" d=\"M2033.04,-673.5C2041.49,-673.5 2051.24,-673.5 2061.1,-673.5\"/>\n<polygon fill=\"black\" stroke=\"black\" points=\"2061.37,-677 2071.37,-673.5 2061.37,-670 2061.37,-677\"/>\n</g>\n<!-- 137092580971456 -->\n<g id=\"node104\" class=\"node\">\n<title>137092580971456</title>\n<polygon fill=\"none\" stroke=\"black\" points=\"916.5,-585.5 916.5,-631.5 1016.5,-631.5 1016.5,-585.5 916.5,-585.5\"/>\n<text text-anchor=\"middle\" x=\"926.5\" y=\"-616.3\" font-family=\"Times,serif\" font-size=\"14.00\"> </text>\n<polyline fill=\"none\" stroke=\"black\" points=\"936.5,-608.5 936.5,-631.5 \"/>\n<text text-anchor=\"middle\" x=\"976.5\" y=\"-616.3\" font-family=\"Times,serif\" font-size=\"14.00\">data 0.7372</text>\n<polyline fill=\"none\" stroke=\"black\" points=\"916.5,-608.5 1016.5,-608.5 \"/>\n<text text-anchor=\"middle\" x=\"966.5\" y=\"-593.3\" font-family=\"Times,serif\" font-size=\"14.00\">grad 0.0000</text>\n</g>\n<!-- 137092580971456&#45;&gt;137092580971648+ -->\n<g id=\"edge143\" class=\"edge\">\n<title>137092580971456&#45;&gt;137092580971648+</title>\n<path fill=\"none\" stroke=\"black\" d=\"M1016.62,-608.5C1026.1,-608.5 1035.86,-608.5 1044.83,-608.5\"/>\n<polygon fill=\"black\" stroke=\"black\" points=\"1044.93,-612 1054.93,-608.5 1044.93,-605 1044.93,-612\"/>\n</g>\n<!-- 137092580971456*&#45;&gt;137092580971456 -->\n<g id=\"edge43\" class=\"edge\">\n<title>137092580971456*&#45;&gt;137092580971456</title>\n<path fill=\"none\" stroke=\"black\" d=\"M878.04,-608.5C886.49,-608.5 896.24,-608.5 906.1,-608.5\"/>\n<polygon fill=\"black\" stroke=\"black\" points=\"906.37,-612 916.37,-608.5 906.37,-605 906.37,-612\"/>\n</g>\n<!-- 137092580979808 -->\n<g id=\"node106\" class=\"node\">\n<title>137092580979808</title>\n<polygon fill=\"none\" stroke=\"black\" points=\"2302.5,-720.5 2302.5,-766.5 2402.5,-766.5 2402.5,-720.5 2302.5,-720.5\"/>\n<text text-anchor=\"middle\" x=\"2312.5\" y=\"-751.3\" font-family=\"Times,serif\" font-size=\"14.00\"> </text>\n<polyline fill=\"none\" stroke=\"black\" points=\"2322.5,-743.5 2322.5,-766.5 \"/>\n<text text-anchor=\"middle\" x=\"2362.5\" y=\"-751.3\" font-family=\"Times,serif\" font-size=\"14.00\">data 0.3338</text>\n<polyline fill=\"none\" stroke=\"black\" points=\"2302.5,-743.5 2402.5,-743.5 \"/>\n<text text-anchor=\"middle\" x=\"2352.5\" y=\"-728.3\" font-family=\"Times,serif\" font-size=\"14.00\">grad 0.0000</text>\n</g>\n<!-- 137092580979904tanh -->\n<g id=\"node111\" class=\"node\">\n<title>137092580979904tanh</title>\n<ellipse fill=\"none\" stroke=\"black\" cx=\"2468\" cy=\"-743.5\" rx=\"27\" ry=\"18\"/>\n<text text-anchor=\"middle\" x=\"2468\" y=\"-739.8\" font-family=\"Times,serif\" font-size=\"14.00\">tanh</text>\n</g>\n<!-- 137092580979808&#45;&gt;137092580979904tanh -->\n<g id=\"edge87\" class=\"edge\">\n<title>137092580979808&#45;&gt;137092580979904tanh</title>\n<path fill=\"none\" stroke=\"black\" d=\"M2402.62,-743.5C2412.1,-743.5 2421.86,-743.5 2430.83,-743.5\"/>\n<polygon fill=\"black\" stroke=\"black\" points=\"2430.93,-747 2440.93,-743.5 2430.93,-740 2430.93,-747\"/>\n</g>\n<!-- 137092580979808+&#45;&gt;137092580979808 -->\n<g id=\"edge44\" class=\"edge\">\n<title>137092580979808+&#45;&gt;137092580979808</title>\n<path fill=\"none\" stroke=\"black\" d=\"M2264.04,-743.5C2272.49,-743.5 2282.24,-743.5 2292.1,-743.5\"/>\n<polygon fill=\"black\" stroke=\"black\" points=\"2292.37,-747 2302.37,-743.5 2292.37,-740 2292.37,-747\"/>\n</g>\n<!-- 137092580971648 -->\n<g id=\"node108\" class=\"node\">\n<title>137092580971648</title>\n<polygon fill=\"none\" stroke=\"black\" points=\"1145,-585.5 1145,-631.5 1250,-631.5 1250,-585.5 1145,-585.5\"/>\n<text text-anchor=\"middle\" x=\"1155\" y=\"-616.3\" font-family=\"Times,serif\" font-size=\"14.00\"> </text>\n<polyline fill=\"none\" stroke=\"black\" points=\"1165,-608.5 1165,-631.5 \"/>\n<text text-anchor=\"middle\" x=\"1207.5\" y=\"-616.3\" font-family=\"Times,serif\" font-size=\"14.00\">data &#45;0.6874</text>\n<polyline fill=\"none\" stroke=\"black\" points=\"1145,-608.5 1250,-608.5 \"/>\n<text text-anchor=\"middle\" x=\"1197.5\" y=\"-593.3\" font-family=\"Times,serif\" font-size=\"14.00\">grad 0.0000</text>\n</g>\n<!-- 137092580971744tanh -->\n<g id=\"node113\" class=\"node\">\n<title>137092580971744tanh</title>\n<ellipse fill=\"none\" stroke=\"black\" cx=\"1313\" cy=\"-608.5\" rx=\"27\" ry=\"18\"/>\n<text text-anchor=\"middle\" x=\"1313\" y=\"-604.8\" font-family=\"Times,serif\" font-size=\"14.00\">tanh</text>\n</g>\n<!-- 137092580971648&#45;&gt;137092580971744tanh -->\n<g id=\"edge116\" class=\"edge\">\n<title>137092580971648&#45;&gt;137092580971744tanh</title>\n<path fill=\"none\" stroke=\"black\" d=\"M1250.27,-608.5C1258.8,-608.5 1267.49,-608.5 1275.55,-608.5\"/>\n<polygon fill=\"black\" stroke=\"black\" points=\"1275.72,-612 1285.72,-608.5 1275.72,-605 1275.72,-612\"/>\n</g>\n<!-- 137092580971648+&#45;&gt;137092580971648 -->\n<g id=\"edge45\" class=\"edge\">\n<title>137092580971648+&#45;&gt;137092580971648</title>\n<path fill=\"none\" stroke=\"black\" d=\"M1109.04,-608.5C1116.74,-608.5 1125.53,-608.5 1134.49,-608.5\"/>\n<polygon fill=\"black\" stroke=\"black\" points=\"1134.63,-612 1144.63,-608.5 1134.63,-605 1134.63,-612\"/>\n</g>\n<!-- 137092580979904 -->\n<g id=\"node110\" class=\"node\">\n<title>137092580979904</title>\n<polygon fill=\"none\" stroke=\"black\" points=\"2533.5,-720.5 2533.5,-766.5 2633.5,-766.5 2633.5,-720.5 2533.5,-720.5\"/>\n<text text-anchor=\"middle\" x=\"2543.5\" y=\"-751.3\" font-family=\"Times,serif\" font-size=\"14.00\"> </text>\n<polyline fill=\"none\" stroke=\"black\" points=\"2553.5,-743.5 2553.5,-766.5 \"/>\n<text text-anchor=\"middle\" x=\"2593.5\" y=\"-751.3\" font-family=\"Times,serif\" font-size=\"14.00\">data 0.3219</text>\n<polyline fill=\"none\" stroke=\"black\" points=\"2533.5,-743.5 2633.5,-743.5 \"/>\n<text text-anchor=\"middle\" x=\"2583.5\" y=\"-728.3\" font-family=\"Times,serif\" font-size=\"14.00\">grad 0.0000</text>\n</g>\n<!-- 137092580982688* -->\n<g id=\"node199\" class=\"node\">\n<title>137092580982688*</title>\n<ellipse fill=\"none\" stroke=\"black\" cx=\"2699\" cy=\"-678.5\" rx=\"27\" ry=\"18\"/>\n<text text-anchor=\"middle\" x=\"2699\" y=\"-674.8\" font-family=\"Times,serif\" font-size=\"14.00\">*</text>\n</g>\n<!-- 137092580979904&#45;&gt;137092580982688* -->\n<g id=\"edge179\" class=\"edge\">\n<title>137092580979904&#45;&gt;137092580982688*</title>\n<path fill=\"none\" stroke=\"black\" d=\"M2624.84,-720.4C2639.43,-712.04 2655.62,-702.77 2669.05,-695.08\"/>\n<polygon fill=\"black\" stroke=\"black\" points=\"2670.91,-698.05 2677.85,-690.04 2667.43,-691.97 2670.91,-698.05\"/>\n</g>\n<!-- 137092580979904tanh&#45;&gt;137092580979904 -->\n<g id=\"edge46\" class=\"edge\">\n<title>137092580979904tanh&#45;&gt;137092580979904</title>\n<path fill=\"none\" stroke=\"black\" d=\"M2495.04,-743.5C2503.49,-743.5 2513.24,-743.5 2523.1,-743.5\"/>\n<polygon fill=\"black\" stroke=\"black\" points=\"2523.37,-747 2533.37,-743.5 2523.37,-740 2523.37,-747\"/>\n</g>\n<!-- 137092580971744 -->\n<g id=\"node112\" class=\"node\">\n<title>137092580971744</title>\n<polygon fill=\"none\" stroke=\"black\" points=\"1376,-585.5 1376,-631.5 1481,-631.5 1481,-585.5 1376,-585.5\"/>\n<text text-anchor=\"middle\" x=\"1386\" y=\"-616.3\" font-family=\"Times,serif\" font-size=\"14.00\"> </text>\n<polyline fill=\"none\" stroke=\"black\" points=\"1396,-608.5 1396,-631.5 \"/>\n<text text-anchor=\"middle\" x=\"1438.5\" y=\"-616.3\" font-family=\"Times,serif\" font-size=\"14.00\">data &#45;0.5963</text>\n<polyline fill=\"none\" stroke=\"black\" points=\"1376,-608.5 1481,-608.5 \"/>\n<text text-anchor=\"middle\" x=\"1428.5\" y=\"-593.3\" font-family=\"Times,serif\" font-size=\"14.00\">grad 0.0000</text>\n</g>\n<!-- 137092580971744&#45;&gt;137092580975392* -->\n<g id=\"edge185\" class=\"edge\">\n<title>137092580971744&#45;&gt;137092580975392*</title>\n<path fill=\"none\" stroke=\"black\" d=\"M1470.79,-585.41C1474.43,-582.63 1477.9,-579.65 1481,-576.5 1502.82,-554.34 1500.21,-542.68 1517,-516.5 1519.84,-512.07 1522.94,-507.41 1525.97,-502.92\"/>\n<polygon fill=\"black\" stroke=\"black\" points=\"1528.89,-504.86 1531.65,-494.63 1523.11,-500.91 1528.89,-504.86\"/>\n</g>\n<!-- 137092580971744&#45;&gt;137092580977120* -->\n<g id=\"edge124\" class=\"edge\">\n<title>137092580971744&#45;&gt;137092580977120*</title>\n<path fill=\"none\" stroke=\"black\" d=\"M1469.38,-631.51C1473.5,-634.62 1477.47,-637.97 1481,-641.5 1501.95,-662.47 1519.43,-691.69 1530.43,-712.57\"/>\n<polygon fill=\"black\" stroke=\"black\" points=\"1527.34,-714.22 1535.02,-721.52 1533.57,-711.02 1527.34,-714.22\"/>\n</g>\n<!-- 137092580971744&#45;&gt;137092580978848* -->\n<g id=\"edge79\" class=\"edge\">\n<title>137092580971744&#45;&gt;137092580978848*</title>\n<path fill=\"none\" stroke=\"black\" d=\"M1472.52,-631.84C1475.71,-634.77 1478.61,-637.99 1481,-641.5 1527.64,-710.03 1487.49,-747.04 1517,-824.5 1519.45,-830.92 1522.79,-837.48 1526.27,-843.51\"/>\n<polygon fill=\"black\" stroke=\"black\" points=\"1523.53,-845.75 1531.73,-852.46 1529.5,-842.1 1523.53,-845.75\"/>\n</g>\n<!-- 137092580980576* -->\n<g id=\"node126\" class=\"node\">\n<title>137092580980576*</title>\n<ellipse fill=\"none\" stroke=\"black\" cx=\"1544\" cy=\"-413.5\" rx=\"27\" ry=\"18\"/>\n<text text-anchor=\"middle\" x=\"1544\" y=\"-409.8\" font-family=\"Times,serif\" font-size=\"14.00\">*</text>\n</g>\n<!-- 137092580971744&#45;&gt;137092580980576* -->\n<g id=\"edge207\" class=\"edge\">\n<title>137092580971744&#45;&gt;137092580980576*</title>\n<path fill=\"none\" stroke=\"black\" d=\"M1472.68,-585.35C1475.76,-582.64 1478.59,-579.69 1481,-576.5 1515.88,-530.39 1492.36,-503.8 1517,-451.5 1519.14,-446.95 1521.81,-442.34 1524.6,-437.97\"/>\n<polygon fill=\"black\" stroke=\"black\" points=\"1527.66,-439.69 1530.4,-429.46 1521.88,-435.75 1527.66,-439.69\"/>\n</g>\n<!-- 137092580971744tanh&#45;&gt;137092580971744 -->\n<g id=\"edge47\" class=\"edge\">\n<title>137092580971744tanh&#45;&gt;137092580971744</title>\n<path fill=\"none\" stroke=\"black\" d=\"M1340.04,-608.5C1347.74,-608.5 1356.53,-608.5 1365.49,-608.5\"/>\n<polygon fill=\"black\" stroke=\"black\" points=\"1365.63,-612 1375.63,-608.5 1365.63,-605 1365.63,-612\"/>\n</g>\n<!-- 137092580980192 -->\n<g id=\"node114\" class=\"node\">\n<title>137092580980192</title>\n<polygon fill=\"none\" stroke=\"black\" points=\"1376,-325.5 1376,-371.5 1481,-371.5 1481,-325.5 1376,-325.5\"/>\n<text text-anchor=\"middle\" x=\"1386\" y=\"-356.3\" font-family=\"Times,serif\" font-size=\"14.00\"> </text>\n<polyline fill=\"none\" stroke=\"black\" points=\"1396,-348.5 1396,-371.5 \"/>\n<text text-anchor=\"middle\" x=\"1438.5\" y=\"-356.3\" font-family=\"Times,serif\" font-size=\"14.00\">data &#45;0.7251</text>\n<polyline fill=\"none\" stroke=\"black\" points=\"1376,-348.5 1481,-348.5 \"/>\n<text text-anchor=\"middle\" x=\"1428.5\" y=\"-333.3\" font-family=\"Times,serif\" font-size=\"14.00\">grad 0.0000</text>\n</g>\n<!-- 137092580980384+ -->\n<g id=\"node122\" class=\"node\">\n<title>137092580980384+</title>\n<ellipse fill=\"none\" stroke=\"black\" cx=\"1544\" cy=\"-348.5\" rx=\"27\" ry=\"18\"/>\n<text text-anchor=\"middle\" x=\"1544\" y=\"-344.8\" font-family=\"Times,serif\" font-size=\"14.00\">+</text>\n</g>\n<!-- 137092580980192&#45;&gt;137092580980384+ -->\n<g id=\"edge93\" class=\"edge\">\n<title>137092580980192&#45;&gt;137092580980384+</title>\n<path fill=\"none\" stroke=\"black\" d=\"M1481.27,-348.5C1489.8,-348.5 1498.49,-348.5 1506.55,-348.5\"/>\n<polygon fill=\"black\" stroke=\"black\" points=\"1506.72,-352 1516.72,-348.5 1506.72,-345 1506.72,-352\"/>\n</g>\n<!-- 137092580980192*&#45;&gt;137092580980192 -->\n<g id=\"edge48\" class=\"edge\">\n<title>137092580980192*&#45;&gt;137092580980192</title>\n<path fill=\"none\" stroke=\"black\" d=\"M1326.86,-431.04C1338.8,-417.2 1357.47,-396.78 1376,-381.5 1377.54,-380.23 1379.12,-378.98 1380.75,-377.73\"/>\n<polygon fill=\"black\" stroke=\"black\" points=\"1383.06,-380.37 1389.08,-371.65 1378.94,-374.72 1383.06,-380.37\"/>\n</g>\n<!-- 137092580824576 -->\n<g id=\"node116\" class=\"node\">\n<title>137092580824576</title>\n<polygon fill=\"none\" stroke=\"black\" points=\"2533.5,-655.5 2533.5,-701.5 2633.5,-701.5 2633.5,-655.5 2533.5,-655.5\"/>\n<text text-anchor=\"middle\" x=\"2543.5\" y=\"-686.3\" font-family=\"Times,serif\" font-size=\"14.00\"> </text>\n<polyline fill=\"none\" stroke=\"black\" points=\"2553.5,-678.5 2553.5,-701.5 \"/>\n<text text-anchor=\"middle\" x=\"2593.5\" y=\"-686.3\" font-family=\"Times,serif\" font-size=\"14.00\">data 0.7063</text>\n<polyline fill=\"none\" stroke=\"black\" points=\"2533.5,-678.5 2633.5,-678.5 \"/>\n<text text-anchor=\"middle\" x=\"2583.5\" y=\"-663.3\" font-family=\"Times,serif\" font-size=\"14.00\">grad 0.0000</text>\n</g>\n<!-- 137092580824576&#45;&gt;137092580982688* -->\n<g id=\"edge170\" class=\"edge\">\n<title>137092580824576&#45;&gt;137092580982688*</title>\n<path fill=\"none\" stroke=\"black\" d=\"M2633.62,-678.5C2643.1,-678.5 2652.86,-678.5 2661.83,-678.5\"/>\n<polygon fill=\"black\" stroke=\"black\" points=\"2661.93,-682 2671.93,-678.5 2661.93,-675 2661.93,-682\"/>\n</g>\n<!-- 137092580972032 -->\n<g id=\"node117\" class=\"node\">\n<title>137092580972032</title>\n<polygon fill=\"none\" stroke=\"black\" points=\"454.5,-683.5 454.5,-729.5 554.5,-729.5 554.5,-683.5 454.5,-683.5\"/>\n<text text-anchor=\"middle\" x=\"464.5\" y=\"-714.3\" font-family=\"Times,serif\" font-size=\"14.00\"> </text>\n<polyline fill=\"none\" stroke=\"black\" points=\"474.5,-706.5 474.5,-729.5 \"/>\n<text text-anchor=\"middle\" x=\"514.5\" y=\"-714.3\" font-family=\"Times,serif\" font-size=\"14.00\">data 2.0000</text>\n<polyline fill=\"none\" stroke=\"black\" points=\"454.5,-706.5 554.5,-706.5 \"/>\n<text text-anchor=\"middle\" x=\"504.5\" y=\"-691.3\" font-family=\"Times,serif\" font-size=\"14.00\">grad 0.0000</text>\n</g>\n<!-- 137092580972032&#45;&gt;137092580972080* -->\n<g id=\"edge126\" class=\"edge\">\n<title>137092580972032&#45;&gt;137092580972080*</title>\n<path fill=\"none\" stroke=\"black\" d=\"M554.62,-720.35C564.83,-723.23 575.37,-726.2 584.9,-728.89\"/>\n<polygon fill=\"black\" stroke=\"black\" points=\"584.19,-732.32 594.77,-731.67 586.09,-725.59 584.19,-732.32\"/>\n</g>\n<!-- 137092580972080 -->\n<g id=\"node118\" class=\"node\">\n<title>137092580972080</title>\n<polygon fill=\"none\" stroke=\"black\" points=\"683,-715.5 683,-761.5 788,-761.5 788,-715.5 683,-715.5\"/>\n<text text-anchor=\"middle\" x=\"693\" y=\"-746.3\" font-family=\"Times,serif\" font-size=\"14.00\"> </text>\n<polyline fill=\"none\" stroke=\"black\" points=\"703,-738.5 703,-761.5 \"/>\n<text text-anchor=\"middle\" x=\"745.5\" y=\"-746.3\" font-family=\"Times,serif\" font-size=\"14.00\">data &#45;1.8701</text>\n<polyline fill=\"none\" stroke=\"black\" points=\"683,-738.5 788,-738.5 \"/>\n<text text-anchor=\"middle\" x=\"735.5\" y=\"-723.3\" font-family=\"Times,serif\" font-size=\"14.00\">grad 0.0000</text>\n</g>\n<!-- 137092580972080&#45;&gt;137092580972272+ -->\n<g id=\"edge191\" class=\"edge\">\n<title>137092580972080&#45;&gt;137092580972272+</title>\n<path fill=\"none\" stroke=\"black\" d=\"M776.84,-761.6C791.43,-769.96 807.62,-779.23 821.05,-786.92\"/>\n<polygon fill=\"black\" stroke=\"black\" points=\"819.43,-790.03 829.85,-791.96 822.91,-783.95 819.43,-790.03\"/>\n</g>\n<!-- 137092580972080*&#45;&gt;137092580972080 -->\n<g id=\"edge49\" class=\"edge\">\n<title>137092580972080*&#45;&gt;137092580972080</title>\n<path fill=\"none\" stroke=\"black\" d=\"M647.04,-738.5C654.74,-738.5 663.53,-738.5 672.49,-738.5\"/>\n<polygon fill=\"black\" stroke=\"black\" points=\"672.63,-742 682.63,-738.5 672.63,-735 672.63,-742\"/>\n</g>\n<!-- 137092580824624 -->\n<g id=\"node120\" class=\"node\">\n<title>137092580824624</title>\n<polygon fill=\"none\" stroke=\"black\" points=\"2762,-395.5 2762,-441.5 2867,-441.5 2867,-395.5 2762,-395.5\"/>\n<text text-anchor=\"middle\" x=\"2772\" y=\"-426.3\" font-family=\"Times,serif\" font-size=\"14.00\"> </text>\n<polyline fill=\"none\" stroke=\"black\" points=\"2782,-418.5 2782,-441.5 \"/>\n<text text-anchor=\"middle\" x=\"2824.5\" y=\"-426.3\" font-family=\"Times,serif\" font-size=\"14.00\">data &#45;0.1638</text>\n<polyline fill=\"none\" stroke=\"black\" points=\"2762,-418.5 2867,-418.5 \"/>\n<text text-anchor=\"middle\" x=\"2814.5\" y=\"-403.3\" font-family=\"Times,serif\" font-size=\"14.00\">grad 0.0000</text>\n</g>\n<!-- 137092580982112+ -->\n<g id=\"node176\" class=\"node\">\n<title>137092580982112+</title>\n<ellipse fill=\"none\" stroke=\"black\" cx=\"2955.5\" cy=\"-483.5\" rx=\"27\" ry=\"18\"/>\n<text text-anchor=\"middle\" x=\"2955.5\" y=\"-479.8\" font-family=\"Times,serif\" font-size=\"14.00\">+</text>\n</g>\n<!-- 137092580824624&#45;&gt;137092580982112+ -->\n<g id=\"edge186\" class=\"edge\">\n<title>137092580824624&#45;&gt;137092580982112+</title>\n<path fill=\"none\" stroke=\"black\" d=\"M2864.9,-441.6C2884.52,-450.77 2906.48,-461.04 2923.75,-469.12\"/>\n<polygon fill=\"black\" stroke=\"black\" points=\"2922.27,-472.29 2932.81,-473.36 2925.24,-465.95 2922.27,-472.29\"/>\n</g>\n<!-- 137092580980384 -->\n<g id=\"node121\" class=\"node\">\n<title>137092580980384</title>\n<polygon fill=\"none\" stroke=\"black\" points=\"1607,-325.5 1607,-371.5 1712,-371.5 1712,-325.5 1607,-325.5\"/>\n<text text-anchor=\"middle\" x=\"1617\" y=\"-356.3\" font-family=\"Times,serif\" font-size=\"14.00\"> </text>\n<polyline fill=\"none\" stroke=\"black\" points=\"1627,-348.5 1627,-371.5 \"/>\n<text text-anchor=\"middle\" x=\"1669.5\" y=\"-356.3\" font-family=\"Times,serif\" font-size=\"14.00\">data &#45;1.4980</text>\n<polyline fill=\"none\" stroke=\"black\" points=\"1607,-348.5 1712,-348.5 \"/>\n<text text-anchor=\"middle\" x=\"1659.5\" y=\"-333.3\" font-family=\"Times,serif\" font-size=\"14.00\">grad 0.0000</text>\n</g>\n<!-- 137092580980768+ -->\n<g id=\"node133\" class=\"node\">\n<title>137092580980768+</title>\n<ellipse fill=\"none\" stroke=\"black\" cx=\"1775\" cy=\"-413.5\" rx=\"27\" ry=\"18\"/>\n<text text-anchor=\"middle\" x=\"1775\" y=\"-409.8\" font-family=\"Times,serif\" font-size=\"14.00\">+</text>\n</g>\n<!-- 137092580980384&#45;&gt;137092580980768+ -->\n<g id=\"edge114\" class=\"edge\">\n<title>137092580980384&#45;&gt;137092580980768+</title>\n<path fill=\"none\" stroke=\"black\" d=\"M1700.84,-371.6C1715.43,-379.96 1731.62,-389.23 1745.05,-396.92\"/>\n<polygon fill=\"black\" stroke=\"black\" points=\"1743.43,-400.03 1753.85,-401.96 1746.91,-393.95 1743.43,-400.03\"/>\n</g>\n<!-- 137092580980384+&#45;&gt;137092580980384 -->\n<g id=\"edge50\" class=\"edge\">\n<title>137092580980384+&#45;&gt;137092580980384</title>\n<path fill=\"none\" stroke=\"black\" d=\"M1571.04,-348.5C1578.74,-348.5 1587.53,-348.5 1596.49,-348.5\"/>\n<polygon fill=\"black\" stroke=\"black\" points=\"1596.63,-352 1606.63,-348.5 1596.63,-345 1596.63,-352\"/>\n</g>\n<!-- 137092580972272 -->\n<g id=\"node123\" class=\"node\">\n<title>137092580972272</title>\n<polygon fill=\"none\" stroke=\"black\" points=\"914,-780.5 914,-826.5 1019,-826.5 1019,-780.5 914,-780.5\"/>\n<text text-anchor=\"middle\" x=\"924\" y=\"-811.3\" font-family=\"Times,serif\" font-size=\"14.00\"> </text>\n<polyline fill=\"none\" stroke=\"black\" points=\"934,-803.5 934,-826.5 \"/>\n<text text-anchor=\"middle\" x=\"976.5\" y=\"-811.3\" font-family=\"Times,serif\" font-size=\"14.00\">data &#45;1.4271</text>\n<polyline fill=\"none\" stroke=\"black\" points=\"914,-803.5 1019,-803.5 \"/>\n<text text-anchor=\"middle\" x=\"966.5\" y=\"-788.3\" font-family=\"Times,serif\" font-size=\"14.00\">grad 0.0000</text>\n</g>\n<!-- 137092580972704+ -->\n<g id=\"node137\" class=\"node\">\n<title>137092580972704+</title>\n<ellipse fill=\"none\" stroke=\"black\" cx=\"1082\" cy=\"-803.5\" rx=\"27\" ry=\"18\"/>\n<text text-anchor=\"middle\" x=\"1082\" y=\"-799.8\" font-family=\"Times,serif\" font-size=\"14.00\">+</text>\n</g>\n<!-- 137092580972272&#45;&gt;137092580972704+ -->\n<g id=\"edge145\" class=\"edge\">\n<title>137092580972272&#45;&gt;137092580972704+</title>\n<path fill=\"none\" stroke=\"black\" d=\"M1019.27,-803.5C1027.8,-803.5 1036.49,-803.5 1044.55,-803.5\"/>\n<polygon fill=\"black\" stroke=\"black\" points=\"1044.72,-807 1054.72,-803.5 1044.72,-800 1044.72,-807\"/>\n</g>\n<!-- 137092580972272+&#45;&gt;137092580972272 -->\n<g id=\"edge51\" class=\"edge\">\n<title>137092580972272+&#45;&gt;137092580972272</title>\n<path fill=\"none\" stroke=\"black\" d=\"M878.04,-803.5C885.74,-803.5 894.53,-803.5 903.49,-803.5\"/>\n<polygon fill=\"black\" stroke=\"black\" points=\"903.63,-807 913.63,-803.5 903.63,-800 903.63,-807\"/>\n</g>\n<!-- 137092580980576 -->\n<g id=\"node125\" class=\"node\">\n<title>137092580980576</title>\n<polygon fill=\"none\" stroke=\"black\" points=\"1609.5,-390.5 1609.5,-436.5 1709.5,-436.5 1709.5,-390.5 1609.5,-390.5\"/>\n<text text-anchor=\"middle\" x=\"1619.5\" y=\"-421.3\" font-family=\"Times,serif\" font-size=\"14.00\"> </text>\n<polyline fill=\"none\" stroke=\"black\" points=\"1629.5,-413.5 1629.5,-436.5 \"/>\n<text text-anchor=\"middle\" x=\"1669.5\" y=\"-421.3\" font-family=\"Times,serif\" font-size=\"14.00\">data 0.4944</text>\n<polyline fill=\"none\" stroke=\"black\" points=\"1609.5,-413.5 1709.5,-413.5 \"/>\n<text text-anchor=\"middle\" x=\"1659.5\" y=\"-398.3\" font-family=\"Times,serif\" font-size=\"14.00\">grad 0.0000</text>\n</g>\n<!-- 137092580980576&#45;&gt;137092580980768+ -->\n<g id=\"edge210\" class=\"edge\">\n<title>137092580980576&#45;&gt;137092580980768+</title>\n<path fill=\"none\" stroke=\"black\" d=\"M1709.62,-413.5C1719.1,-413.5 1728.86,-413.5 1737.83,-413.5\"/>\n<polygon fill=\"black\" stroke=\"black\" points=\"1737.93,-417 1747.93,-413.5 1737.93,-410 1737.93,-417\"/>\n</g>\n<!-- 137092580980576*&#45;&gt;137092580980576 -->\n<g id=\"edge52\" class=\"edge\">\n<title>137092580980576*&#45;&gt;137092580980576</title>\n<path fill=\"none\" stroke=\"black\" d=\"M1571.04,-413.5C1579.49,-413.5 1589.24,-413.5 1599.1,-413.5\"/>\n<polygon fill=\"black\" stroke=\"black\" points=\"1599.37,-417 1609.37,-413.5 1599.37,-410 1599.37,-417\"/>\n</g>\n<!-- 137092580972464 -->\n<g id=\"node127\" class=\"node\">\n<title>137092580972464</title>\n<polygon fill=\"none\" stroke=\"black\" points=\"685.5,-845.5 685.5,-891.5 785.5,-891.5 785.5,-845.5 685.5,-845.5\"/>\n<text text-anchor=\"middle\" x=\"695.5\" y=\"-876.3\" font-family=\"Times,serif\" font-size=\"14.00\"> </text>\n<polyline fill=\"none\" stroke=\"black\" points=\"705.5,-868.5 705.5,-891.5 \"/>\n<text text-anchor=\"middle\" x=\"745.5\" y=\"-876.3\" font-family=\"Times,serif\" font-size=\"14.00\">data 3.0000</text>\n<polyline fill=\"none\" stroke=\"black\" points=\"685.5,-868.5 785.5,-868.5 \"/>\n<text text-anchor=\"middle\" x=\"735.5\" y=\"-853.3\" font-family=\"Times,serif\" font-size=\"14.00\">grad 0.0000</text>\n</g>\n<!-- 137092580972464&#45;&gt;137092580972512* -->\n<g id=\"edge118\" class=\"edge\">\n<title>137092580972464&#45;&gt;137092580972512*</title>\n<path fill=\"none\" stroke=\"black\" d=\"M785.62,-868.5C795.1,-868.5 804.86,-868.5 813.83,-868.5\"/>\n<polygon fill=\"black\" stroke=\"black\" points=\"813.93,-872 823.93,-868.5 813.93,-865 813.93,-872\"/>\n</g>\n<!-- 137092580972512 -->\n<g id=\"node128\" class=\"node\">\n<title>137092580972512</title>\n<polygon fill=\"none\" stroke=\"black\" points=\"916.5,-845.5 916.5,-891.5 1016.5,-891.5 1016.5,-845.5 916.5,-845.5\"/>\n<text text-anchor=\"middle\" x=\"926.5\" y=\"-876.3\" font-family=\"Times,serif\" font-size=\"14.00\"> </text>\n<polyline fill=\"none\" stroke=\"black\" points=\"936.5,-868.5 936.5,-891.5 \"/>\n<text text-anchor=\"middle\" x=\"976.5\" y=\"-876.3\" font-family=\"Times,serif\" font-size=\"14.00\">data 2.1243</text>\n<polyline fill=\"none\" stroke=\"black\" points=\"916.5,-868.5 1016.5,-868.5 \"/>\n<text text-anchor=\"middle\" x=\"966.5\" y=\"-853.3\" font-family=\"Times,serif\" font-size=\"14.00\">grad 0.0000</text>\n</g>\n<!-- 137092580972512&#45;&gt;137092580972704+ -->\n<g id=\"edge107\" class=\"edge\">\n<title>137092580972512&#45;&gt;137092580972704+</title>\n<path fill=\"none\" stroke=\"black\" d=\"M1007.84,-845.4C1022.43,-837.04 1038.62,-827.77 1052.05,-820.08\"/>\n<polygon fill=\"black\" stroke=\"black\" points=\"1053.91,-823.05 1060.85,-815.04 1050.43,-816.97 1053.91,-823.05\"/>\n</g>\n<!-- 137092580972512*&#45;&gt;137092580972512 -->\n<g id=\"edge53\" class=\"edge\">\n<title>137092580972512*&#45;&gt;137092580972512</title>\n<path fill=\"none\" stroke=\"black\" d=\"M878.04,-868.5C886.49,-868.5 896.24,-868.5 906.1,-868.5\"/>\n<polygon fill=\"black\" stroke=\"black\" points=\"906.37,-872 916.37,-868.5 906.37,-865 906.37,-872\"/>\n</g>\n<!-- 137092580825056 -->\n<g id=\"node130\" class=\"node\">\n<title>137092580825056</title>\n<polygon fill=\"none\" stroke=\"black\" points=\"2533.5,-330.5 2533.5,-376.5 2633.5,-376.5 2633.5,-330.5 2533.5,-330.5\"/>\n<text text-anchor=\"middle\" x=\"2543.5\" y=\"-361.3\" font-family=\"Times,serif\" font-size=\"14.00\"> </text>\n<polyline fill=\"none\" stroke=\"black\" points=\"2553.5,-353.5 2553.5,-376.5 \"/>\n<text text-anchor=\"middle\" x=\"2593.5\" y=\"-361.3\" font-family=\"Times,serif\" font-size=\"14.00\">data 0.6219</text>\n<polyline fill=\"none\" stroke=\"black\" points=\"2533.5,-353.5 2633.5,-353.5 \"/>\n<text text-anchor=\"middle\" x=\"2583.5\" y=\"-338.3\" font-family=\"Times,serif\" font-size=\"14.00\">grad 0.0000</text>\n</g>\n<!-- 137092580825056&#45;&gt;137092581015904* -->\n<g id=\"edge173\" class=\"edge\">\n<title>137092580825056&#45;&gt;137092581015904*</title>\n<path fill=\"none\" stroke=\"black\" d=\"M2633.62,-353.5C2643.1,-353.5 2652.86,-353.5 2661.83,-353.5\"/>\n<polygon fill=\"black\" stroke=\"black\" points=\"2661.93,-357 2671.93,-353.5 2661.93,-350 2661.93,-357\"/>\n</g>\n<!-- 137092580825104 -->\n<g id=\"node131\" class=\"node\">\n<title>137092580825104</title>\n<polygon fill=\"none\" stroke=\"black\" points=\"2531,-525.5 2531,-571.5 2636,-571.5 2636,-525.5 2531,-525.5\"/>\n<text text-anchor=\"middle\" x=\"2541\" y=\"-556.3\" font-family=\"Times,serif\" font-size=\"14.00\"> </text>\n<polyline fill=\"none\" stroke=\"black\" points=\"2551,-548.5 2551,-571.5 \"/>\n<text text-anchor=\"middle\" x=\"2593.5\" y=\"-556.3\" font-family=\"Times,serif\" font-size=\"14.00\">data &#45;0.2720</text>\n<polyline fill=\"none\" stroke=\"black\" points=\"2531,-548.5 2636,-548.5 \"/>\n<text text-anchor=\"middle\" x=\"2583.5\" y=\"-533.3\" font-family=\"Times,serif\" font-size=\"14.00\">grad 0.0000</text>\n</g>\n<!-- 137092580825104&#45;&gt;137092580982304* -->\n<g id=\"edge164\" class=\"edge\">\n<title>137092580825104&#45;&gt;137092580982304*</title>\n<path fill=\"none\" stroke=\"black\" d=\"M2636.27,-548.5C2644.8,-548.5 2653.49,-548.5 2661.55,-548.5\"/>\n<polygon fill=\"black\" stroke=\"black\" points=\"2661.72,-552 2671.72,-548.5 2661.72,-545 2661.72,-552\"/>\n</g>\n<!-- 137092580980768 -->\n<g id=\"node132\" class=\"node\">\n<title>137092580980768</title>\n<polygon fill=\"none\" stroke=\"black\" points=\"1838,-390.5 1838,-436.5 1943,-436.5 1943,-390.5 1838,-390.5\"/>\n<text text-anchor=\"middle\" x=\"1848\" y=\"-421.3\" font-family=\"Times,serif\" font-size=\"14.00\"> </text>\n<polyline fill=\"none\" stroke=\"black\" points=\"1858,-413.5 1858,-436.5 \"/>\n<text text-anchor=\"middle\" x=\"1900.5\" y=\"-421.3\" font-family=\"Times,serif\" font-size=\"14.00\">data &#45;1.0036</text>\n<polyline fill=\"none\" stroke=\"black\" points=\"1838,-413.5 1943,-413.5 \"/>\n<text text-anchor=\"middle\" x=\"1890.5\" y=\"-398.3\" font-family=\"Times,serif\" font-size=\"14.00\">grad 0.0000</text>\n</g>\n<!-- 137092580981152+ -->\n<g id=\"node147\" class=\"node\">\n<title>137092580981152+</title>\n<ellipse fill=\"none\" stroke=\"black\" cx=\"2006\" cy=\"-418.5\" rx=\"27\" ry=\"18\"/>\n<text text-anchor=\"middle\" x=\"2006\" y=\"-414.8\" font-family=\"Times,serif\" font-size=\"14.00\">+</text>\n</g>\n<!-- 137092580980768&#45;&gt;137092580981152+ -->\n<g id=\"edge98\" class=\"edge\">\n<title>137092580980768&#45;&gt;137092580981152+</title>\n<path fill=\"none\" stroke=\"black\" d=\"M1943.27,-415.78C1951.89,-416.16 1960.66,-416.55 1968.78,-416.9\"/>\n<polygon fill=\"black\" stroke=\"black\" points=\"1968.88,-420.41 1979.02,-417.36 1969.18,-413.42 1968.88,-420.41\"/>\n</g>\n<!-- 137092580980768+&#45;&gt;137092580980768 -->\n<g id=\"edge54\" class=\"edge\">\n<title>137092580980768+&#45;&gt;137092580980768</title>\n<path fill=\"none\" stroke=\"black\" d=\"M1802.04,-413.5C1809.74,-413.5 1818.53,-413.5 1827.49,-413.5\"/>\n<polygon fill=\"black\" stroke=\"black\" points=\"1827.63,-417 1837.63,-413.5 1827.63,-410 1827.63,-417\"/>\n</g>\n<!-- 137092580825152 -->\n<g id=\"node134\" class=\"node\">\n<title>137092580825152</title>\n<polygon fill=\"none\" stroke=\"black\" points=\"1376,-260.5 1376,-306.5 1481,-306.5 1481,-260.5 1376,-260.5\"/>\n<text text-anchor=\"middle\" x=\"1386\" y=\"-291.3\" font-family=\"Times,serif\" font-size=\"14.00\"> </text>\n<polyline fill=\"none\" stroke=\"black\" points=\"1396,-283.5 1396,-306.5 \"/>\n<text text-anchor=\"middle\" x=\"1438.5\" y=\"-291.3\" font-family=\"Times,serif\" font-size=\"14.00\">data &#45;0.7729</text>\n<polyline fill=\"none\" stroke=\"black\" points=\"1376,-283.5 1481,-283.5 \"/>\n<text text-anchor=\"middle\" x=\"1428.5\" y=\"-268.3\" font-family=\"Times,serif\" font-size=\"14.00\">grad 0.0000</text>\n</g>\n<!-- 137092580825152&#45;&gt;137092580980384+ -->\n<g id=\"edge196\" class=\"edge\">\n<title>137092580825152&#45;&gt;137092580980384+</title>\n<path fill=\"none\" stroke=\"black\" d=\"M1469.84,-306.6C1484.43,-314.96 1500.62,-324.23 1514.05,-331.92\"/>\n<polygon fill=\"black\" stroke=\"black\" points=\"1512.43,-335.03 1522.85,-336.96 1515.91,-328.95 1512.43,-335.03\"/>\n</g>\n<!-- 137092580825200 -->\n<g id=\"node135\" class=\"node\">\n<title>137092580825200</title>\n<polygon fill=\"none\" stroke=\"black\" points=\"1838,-195.5 1838,-241.5 1943,-241.5 1943,-195.5 1838,-195.5\"/>\n<text text-anchor=\"middle\" x=\"1848\" y=\"-226.3\" font-family=\"Times,serif\" font-size=\"14.00\"> </text>\n<polyline fill=\"none\" stroke=\"black\" points=\"1858,-218.5 1858,-241.5 \"/>\n<text text-anchor=\"middle\" x=\"1900.5\" y=\"-226.3\" font-family=\"Times,serif\" font-size=\"14.00\">data &#45;0.8088</text>\n<polyline fill=\"none\" stroke=\"black\" points=\"1838,-218.5 1943,-218.5 \"/>\n<text text-anchor=\"middle\" x=\"1890.5\" y=\"-203.3\" font-family=\"Times,serif\" font-size=\"14.00\">grad 0.0000</text>\n</g>\n<!-- 137092580825200&#45;&gt;137092580981344* -->\n<g id=\"edge85\" class=\"edge\">\n<title>137092580825200&#45;&gt;137092580981344*</title>\n<path fill=\"none\" stroke=\"black\" d=\"M1928.98,-241.61C1944.7,-251.31 1962.66,-262.39 1977.17,-271.34\"/>\n<polygon fill=\"black\" stroke=\"black\" points=\"1975.37,-274.34 1985.72,-276.61 1979.04,-268.38 1975.37,-274.34\"/>\n</g>\n<!-- 137092580972704 -->\n<g id=\"node136\" class=\"node\">\n<title>137092580972704</title>\n<polygon fill=\"none\" stroke=\"black\" points=\"1147.5,-780.5 1147.5,-826.5 1247.5,-826.5 1247.5,-780.5 1147.5,-780.5\"/>\n<text text-anchor=\"middle\" x=\"1157.5\" y=\"-811.3\" font-family=\"Times,serif\" font-size=\"14.00\"> </text>\n<polyline fill=\"none\" stroke=\"black\" points=\"1167.5,-803.5 1167.5,-826.5 \"/>\n<text text-anchor=\"middle\" x=\"1207.5\" y=\"-811.3\" font-family=\"Times,serif\" font-size=\"14.00\">data 0.6973</text>\n<polyline fill=\"none\" stroke=\"black\" points=\"1147.5,-803.5 1247.5,-803.5 \"/>\n<text text-anchor=\"middle\" x=\"1197.5\" y=\"-788.3\" font-family=\"Times,serif\" font-size=\"14.00\">grad 0.0000</text>\n</g>\n<!-- 137092580973136+ -->\n<g id=\"node150\" class=\"node\">\n<title>137092580973136+</title>\n<ellipse fill=\"none\" stroke=\"black\" cx=\"1313\" cy=\"-803.5\" rx=\"27\" ry=\"18\"/>\n<text text-anchor=\"middle\" x=\"1313\" y=\"-799.8\" font-family=\"Times,serif\" font-size=\"14.00\">+</text>\n</g>\n<!-- 137092580972704&#45;&gt;137092580973136+ -->\n<g id=\"edge100\" class=\"edge\">\n<title>137092580972704&#45;&gt;137092580973136+</title>\n<path fill=\"none\" stroke=\"black\" d=\"M1247.62,-803.5C1257.1,-803.5 1266.86,-803.5 1275.83,-803.5\"/>\n<polygon fill=\"black\" stroke=\"black\" points=\"1275.93,-807 1285.93,-803.5 1275.93,-800 1275.93,-807\"/>\n</g>\n<!-- 137092580972704+&#45;&gt;137092580972704 -->\n<g id=\"edge55\" class=\"edge\">\n<title>137092580972704+&#45;&gt;137092580972704</title>\n<path fill=\"none\" stroke=\"black\" d=\"M1109.04,-803.5C1117.49,-803.5 1127.24,-803.5 1137.1,-803.5\"/>\n<polygon fill=\"black\" stroke=\"black\" points=\"1137.37,-807 1147.37,-803.5 1137.37,-800 1137.37,-807\"/>\n</g>\n<!-- 137092580825248 -->\n<g id=\"node138\" class=\"node\">\n<title>137092580825248</title>\n<polygon fill=\"none\" stroke=\"black\" points=\"1607,-585.5 1607,-631.5 1712,-631.5 1712,-585.5 1607,-585.5\"/>\n<text text-anchor=\"middle\" x=\"1617\" y=\"-616.3\" font-family=\"Times,serif\" font-size=\"14.00\"> </text>\n<polyline fill=\"none\" stroke=\"black\" points=\"1627,-608.5 1627,-631.5 \"/>\n<text text-anchor=\"middle\" x=\"1669.5\" y=\"-616.3\" font-family=\"Times,serif\" font-size=\"14.00\">data &#45;0.3857</text>\n<polyline fill=\"none\" stroke=\"black\" points=\"1607,-608.5 1712,-608.5 \"/>\n<text text-anchor=\"middle\" x=\"1659.5\" y=\"-593.3\" font-family=\"Times,serif\" font-size=\"14.00\">grad 0.0000</text>\n</g>\n<!-- 137092580980960* -->\n<g id=\"node140\" class=\"node\">\n<title>137092580980960*</title>\n<ellipse fill=\"none\" stroke=\"black\" cx=\"1775\" cy=\"-608.5\" rx=\"27\" ry=\"18\"/>\n<text text-anchor=\"middle\" x=\"1775\" y=\"-604.8\" font-family=\"Times,serif\" font-size=\"14.00\">*</text>\n</g>\n<!-- 137092580825248&#45;&gt;137092580980960* -->\n<g id=\"edge188\" class=\"edge\">\n<title>137092580825248&#45;&gt;137092580980960*</title>\n<path fill=\"none\" stroke=\"black\" d=\"M1712.27,-608.5C1720.8,-608.5 1729.49,-608.5 1737.55,-608.5\"/>\n<polygon fill=\"black\" stroke=\"black\" points=\"1737.72,-612 1747.72,-608.5 1737.72,-605 1737.72,-612\"/>\n</g>\n<!-- 137092580980960 -->\n<g id=\"node139\" class=\"node\">\n<title>137092580980960</title>\n<polygon fill=\"none\" stroke=\"black\" points=\"1838,-520.5 1838,-566.5 1943,-566.5 1943,-520.5 1838,-520.5\"/>\n<text text-anchor=\"middle\" x=\"1848\" y=\"-551.3\" font-family=\"Times,serif\" font-size=\"14.00\"> </text>\n<polyline fill=\"none\" stroke=\"black\" points=\"1858,-543.5 1858,-566.5 \"/>\n<text text-anchor=\"middle\" x=\"1900.5\" y=\"-551.3\" font-family=\"Times,serif\" font-size=\"14.00\">data &#45;0.2657</text>\n<polyline fill=\"none\" stroke=\"black\" points=\"1838,-543.5 1943,-543.5 \"/>\n<text text-anchor=\"middle\" x=\"1890.5\" y=\"-528.3\" font-family=\"Times,serif\" font-size=\"14.00\">grad 0.0000</text>\n</g>\n<!-- 137092580980960&#45;&gt;137092580981152+ -->\n<g id=\"edge193\" class=\"edge\">\n<title>137092580980960&#45;&gt;137092580981152+</title>\n<path fill=\"none\" stroke=\"black\" d=\"M1932.38,-520.45C1936.14,-517.64 1939.75,-514.65 1943,-511.5 1963.34,-491.8 1980.63,-464.35 1991.74,-444.38\"/>\n<polygon fill=\"black\" stroke=\"black\" points=\"1994.86,-445.98 1996.55,-435.52 1988.71,-442.64 1994.86,-445.98\"/>\n</g>\n<!-- 137092580980960*&#45;&gt;137092580980960 -->\n<g id=\"edge56\" class=\"edge\">\n<title>137092580980960*&#45;&gt;137092580980960</title>\n<path fill=\"none\" stroke=\"black\" d=\"M1796.03,-597.03C1808.27,-590.02 1824.49,-580.73 1839.99,-571.85\"/>\n<polygon fill=\"black\" stroke=\"black\" points=\"1842.05,-574.71 1848.99,-566.7 1838.57,-568.63 1842.05,-574.71\"/>\n</g>\n<!-- 137092580825344 -->\n<g id=\"node141\" class=\"node\">\n<title>137092580825344</title>\n<polygon fill=\"none\" stroke=\"black\" points=\"1376,-390.5 1376,-436.5 1481,-436.5 1481,-390.5 1376,-390.5\"/>\n<text text-anchor=\"middle\" x=\"1386\" y=\"-421.3\" font-family=\"Times,serif\" font-size=\"14.00\"> </text>\n<polyline fill=\"none\" stroke=\"black\" points=\"1396,-413.5 1396,-436.5 \"/>\n<text text-anchor=\"middle\" x=\"1438.5\" y=\"-421.3\" font-family=\"Times,serif\" font-size=\"14.00\">data &#45;0.8291</text>\n<polyline fill=\"none\" stroke=\"black\" points=\"1376,-413.5 1481,-413.5 \"/>\n<text text-anchor=\"middle\" x=\"1428.5\" y=\"-398.3\" font-family=\"Times,serif\" font-size=\"14.00\">grad 0.0000</text>\n</g>\n<!-- 137092580825344&#45;&gt;137092580980576* -->\n<g id=\"edge104\" class=\"edge\">\n<title>137092580825344&#45;&gt;137092580980576*</title>\n<path fill=\"none\" stroke=\"black\" d=\"M1481.27,-413.5C1489.8,-413.5 1498.49,-413.5 1506.55,-413.5\"/>\n<polygon fill=\"black\" stroke=\"black\" points=\"1506.72,-417 1516.72,-413.5 1506.72,-410 1506.72,-417\"/>\n</g>\n<!-- 137092580972896 -->\n<g id=\"node142\" class=\"node\">\n<title>137092580972896</title>\n<polygon fill=\"none\" stroke=\"black\" points=\"914,-715.5 914,-761.5 1019,-761.5 1019,-715.5 914,-715.5\"/>\n<text text-anchor=\"middle\" x=\"924\" y=\"-746.3\" font-family=\"Times,serif\" font-size=\"14.00\"> </text>\n<polyline fill=\"none\" stroke=\"black\" points=\"934,-738.5 934,-761.5 \"/>\n<text text-anchor=\"middle\" x=\"976.5\" y=\"-746.3\" font-family=\"Times,serif\" font-size=\"14.00\">data &#45;1.0000</text>\n<polyline fill=\"none\" stroke=\"black\" points=\"914,-738.5 1019,-738.5 \"/>\n<text text-anchor=\"middle\" x=\"966.5\" y=\"-723.3\" font-family=\"Times,serif\" font-size=\"14.00\">grad 0.0000</text>\n</g>\n<!-- 137092580972896&#45;&gt;137092580972944* -->\n<g id=\"edge83\" class=\"edge\">\n<title>137092580972896&#45;&gt;137092580972944*</title>\n<path fill=\"none\" stroke=\"black\" d=\"M1019.27,-738.5C1027.8,-738.5 1036.49,-738.5 1044.55,-738.5\"/>\n<polygon fill=\"black\" stroke=\"black\" points=\"1044.72,-742 1054.72,-738.5 1044.72,-735 1044.72,-742\"/>\n</g>\n<!-- 137092580825440 -->\n<g id=\"node143\" class=\"node\">\n<title>137092580825440</title>\n<polygon fill=\"none\" stroke=\"black\" points=\"2531,-395.5 2531,-441.5 2636,-441.5 2636,-395.5 2531,-395.5\"/>\n<text text-anchor=\"middle\" x=\"2541\" y=\"-426.3\" font-family=\"Times,serif\" font-size=\"14.00\"> </text>\n<polyline fill=\"none\" stroke=\"black\" points=\"2551,-418.5 2551,-441.5 \"/>\n<text text-anchor=\"middle\" x=\"2593.5\" y=\"-426.3\" font-family=\"Times,serif\" font-size=\"14.00\">data &#45;0.5281</text>\n<polyline fill=\"none\" stroke=\"black\" points=\"2531,-418.5 2636,-418.5 \"/>\n<text text-anchor=\"middle\" x=\"2583.5\" y=\"-403.3\" font-family=\"Times,serif\" font-size=\"14.00\">grad 0.0000</text>\n</g>\n<!-- 137092580825440&#45;&gt;137092580981920* -->\n<g id=\"edge208\" class=\"edge\">\n<title>137092580825440&#45;&gt;137092580981920*</title>\n<path fill=\"none\" stroke=\"black\" d=\"M2624.84,-441.6C2639.43,-449.96 2655.62,-459.23 2669.05,-466.92\"/>\n<polygon fill=\"black\" stroke=\"black\" points=\"2667.43,-470.03 2677.85,-471.96 2670.91,-463.95 2667.43,-470.03\"/>\n</g>\n<!-- 137092580972944 -->\n<g id=\"node144\" class=\"node\">\n<title>137092580972944</title>\n<polygon fill=\"none\" stroke=\"black\" points=\"1147.5,-715.5 1147.5,-761.5 1247.5,-761.5 1247.5,-715.5 1147.5,-715.5\"/>\n<text text-anchor=\"middle\" x=\"1157.5\" y=\"-746.3\" font-family=\"Times,serif\" font-size=\"14.00\"> </text>\n<polyline fill=\"none\" stroke=\"black\" points=\"1167.5,-738.5 1167.5,-761.5 \"/>\n<text text-anchor=\"middle\" x=\"1207.5\" y=\"-746.3\" font-family=\"Times,serif\" font-size=\"14.00\">data 0.1487</text>\n<polyline fill=\"none\" stroke=\"black\" points=\"1147.5,-738.5 1247.5,-738.5 \"/>\n<text text-anchor=\"middle\" x=\"1197.5\" y=\"-723.3\" font-family=\"Times,serif\" font-size=\"14.00\">grad 0.0000</text>\n</g>\n<!-- 137092580972944&#45;&gt;137092580973136+ -->\n<g id=\"edge151\" class=\"edge\">\n<title>137092580972944&#45;&gt;137092580973136+</title>\n<path fill=\"none\" stroke=\"black\" d=\"M1238.84,-761.6C1253.43,-769.96 1269.62,-779.23 1283.05,-786.92\"/>\n<polygon fill=\"black\" stroke=\"black\" points=\"1281.43,-790.03 1291.85,-791.96 1284.91,-783.95 1281.43,-790.03\"/>\n</g>\n<!-- 137092580972944*&#45;&gt;137092580972944 -->\n<g id=\"edge57\" class=\"edge\">\n<title>137092580972944*&#45;&gt;137092580972944</title>\n<path fill=\"none\" stroke=\"black\" d=\"M1109.04,-738.5C1117.49,-738.5 1127.24,-738.5 1137.1,-738.5\"/>\n<polygon fill=\"black\" stroke=\"black\" points=\"1137.37,-742 1147.37,-738.5 1137.37,-735 1137.37,-742\"/>\n</g>\n<!-- 137092580981152 -->\n<g id=\"node146\" class=\"node\">\n<title>137092580981152</title>\n<polygon fill=\"none\" stroke=\"black\" points=\"2069,-395.5 2069,-441.5 2174,-441.5 2174,-395.5 2069,-395.5\"/>\n<text text-anchor=\"middle\" x=\"2079\" y=\"-426.3\" font-family=\"Times,serif\" font-size=\"14.00\"> </text>\n<polyline fill=\"none\" stroke=\"black\" points=\"2089,-418.5 2089,-441.5 \"/>\n<text text-anchor=\"middle\" x=\"2131.5\" y=\"-426.3\" font-family=\"Times,serif\" font-size=\"14.00\">data &#45;1.2693</text>\n<polyline fill=\"none\" stroke=\"black\" points=\"2069,-418.5 2174,-418.5 \"/>\n<text text-anchor=\"middle\" x=\"2121.5\" y=\"-403.3\" font-family=\"Times,serif\" font-size=\"14.00\">grad 0.0000</text>\n</g>\n<!-- 137092580981536+ -->\n<g id=\"node156\" class=\"node\">\n<title>137092580981536+</title>\n<ellipse fill=\"none\" stroke=\"black\" cx=\"2237\" cy=\"-288.5\" rx=\"27\" ry=\"18\"/>\n<text text-anchor=\"middle\" x=\"2237\" y=\"-284.8\" font-family=\"Times,serif\" font-size=\"14.00\">+</text>\n</g>\n<!-- 137092580981152&#45;&gt;137092580981536+ -->\n<g id=\"edge78\" class=\"edge\">\n<title>137092580981152&#45;&gt;137092580981536+</title>\n<path fill=\"none\" stroke=\"black\" d=\"M2163.72,-395.33C2167.37,-392.57 2170.86,-389.61 2174,-386.5 2195.2,-365.48 2212.64,-335.93 2223.57,-314.78\"/>\n<polygon fill=\"black\" stroke=\"black\" points=\"2226.76,-316.23 2228.12,-305.72 2220.5,-313.08 2226.76,-316.23\"/>\n</g>\n<!-- 137092580981152+&#45;&gt;137092580981152 -->\n<g id=\"edge58\" class=\"edge\">\n<title>137092580981152+&#45;&gt;137092580981152</title>\n<path fill=\"none\" stroke=\"black\" d=\"M2033.04,-418.5C2040.74,-418.5 2049.53,-418.5 2058.49,-418.5\"/>\n<polygon fill=\"black\" stroke=\"black\" points=\"2058.63,-422 2068.63,-418.5 2058.63,-415 2058.63,-422\"/>\n</g>\n<!-- 137092580825632 -->\n<g id=\"node148\" class=\"node\">\n<title>137092580825632</title>\n<polygon fill=\"none\" stroke=\"black\" points=\"1145,-423.5 1145,-469.5 1250,-469.5 1250,-423.5 1145,-423.5\"/>\n<text text-anchor=\"middle\" x=\"1155\" y=\"-454.3\" font-family=\"Times,serif\" font-size=\"14.00\"> </text>\n<polyline fill=\"none\" stroke=\"black\" points=\"1165,-446.5 1165,-469.5 \"/>\n<text text-anchor=\"middle\" x=\"1207.5\" y=\"-454.3\" font-family=\"Times,serif\" font-size=\"14.00\">data &#45;0.7780</text>\n<polyline fill=\"none\" stroke=\"black\" points=\"1145,-446.5 1250,-446.5 \"/>\n<text text-anchor=\"middle\" x=\"1197.5\" y=\"-431.3\" font-family=\"Times,serif\" font-size=\"14.00\">grad 0.0000</text>\n</g>\n<!-- 137092580825632&#45;&gt;137092580980192* -->\n<g id=\"edge205\" class=\"edge\">\n<title>137092580825632&#45;&gt;137092580980192*</title>\n<path fill=\"none\" stroke=\"black\" d=\"M1250.27,-446.5C1258.8,-446.5 1267.49,-446.5 1275.55,-446.5\"/>\n<polygon fill=\"black\" stroke=\"black\" points=\"1275.72,-450 1285.72,-446.5 1275.72,-443 1275.72,-450\"/>\n</g>\n<!-- 137092580973136 -->\n<g id=\"node149\" class=\"node\">\n<title>137092580973136</title>\n<polygon fill=\"none\" stroke=\"black\" points=\"1378.5,-780.5 1378.5,-826.5 1478.5,-826.5 1478.5,-780.5 1378.5,-780.5\"/>\n<text text-anchor=\"middle\" x=\"1388.5\" y=\"-811.3\" font-family=\"Times,serif\" font-size=\"14.00\"> </text>\n<polyline fill=\"none\" stroke=\"black\" points=\"1398.5,-803.5 1398.5,-826.5 \"/>\n<text text-anchor=\"middle\" x=\"1438.5\" y=\"-811.3\" font-family=\"Times,serif\" font-size=\"14.00\">data 0.8460</text>\n<polyline fill=\"none\" stroke=\"black\" points=\"1378.5,-803.5 1478.5,-803.5 \"/>\n<text text-anchor=\"middle\" x=\"1428.5\" y=\"-788.3\" font-family=\"Times,serif\" font-size=\"14.00\">grad 0.0000</text>\n</g>\n<!-- 137092580973232tanh -->\n<g id=\"node154\" class=\"node\">\n<title>137092580973232tanh</title>\n<ellipse fill=\"none\" stroke=\"black\" cx=\"1544\" cy=\"-797.5\" rx=\"27\" ry=\"18\"/>\n<text text-anchor=\"middle\" x=\"1544\" y=\"-793.8\" font-family=\"Times,serif\" font-size=\"14.00\">tanh</text>\n</g>\n<!-- 137092580973136&#45;&gt;137092580973232tanh -->\n<g id=\"edge132\" class=\"edge\">\n<title>137092580973136&#45;&gt;137092580973232tanh</title>\n<path fill=\"none\" stroke=\"black\" d=\"M1478.62,-800.9C1488.1,-800.4 1497.86,-799.89 1506.83,-799.41\"/>\n<polygon fill=\"black\" stroke=\"black\" points=\"1507.13,-802.9 1516.93,-798.88 1506.76,-795.91 1507.13,-802.9\"/>\n</g>\n<!-- 137092580973136+&#45;&gt;137092580973136 -->\n<g id=\"edge59\" class=\"edge\">\n<title>137092580973136+&#45;&gt;137092580973136</title>\n<path fill=\"none\" stroke=\"black\" d=\"M1340.04,-803.5C1348.49,-803.5 1358.24,-803.5 1368.1,-803.5\"/>\n<polygon fill=\"black\" stroke=\"black\" points=\"1368.37,-807 1378.37,-803.5 1368.37,-800 1368.37,-807\"/>\n</g>\n<!-- 137092580981344 -->\n<g id=\"node151\" class=\"node\">\n<title>137092580981344</title>\n<polygon fill=\"none\" stroke=\"black\" points=\"2071.5,-265.5 2071.5,-311.5 2171.5,-311.5 2171.5,-265.5 2071.5,-265.5\"/>\n<text text-anchor=\"middle\" x=\"2081.5\" y=\"-296.3\" font-family=\"Times,serif\" font-size=\"14.00\"> </text>\n<polyline fill=\"none\" stroke=\"black\" points=\"2091.5,-288.5 2091.5,-311.5 \"/>\n<text text-anchor=\"middle\" x=\"2131.5\" y=\"-296.3\" font-family=\"Times,serif\" font-size=\"14.00\">data 0.6259</text>\n<polyline fill=\"none\" stroke=\"black\" points=\"2071.5,-288.5 2171.5,-288.5 \"/>\n<text text-anchor=\"middle\" x=\"2121.5\" y=\"-273.3\" font-family=\"Times,serif\" font-size=\"14.00\">grad 0.0000</text>\n</g>\n<!-- 137092580981344&#45;&gt;137092580981536+ -->\n<g id=\"edge122\" class=\"edge\">\n<title>137092580981344&#45;&gt;137092580981536+</title>\n<path fill=\"none\" stroke=\"black\" d=\"M2171.62,-288.5C2181.1,-288.5 2190.86,-288.5 2199.83,-288.5\"/>\n<polygon fill=\"black\" stroke=\"black\" points=\"2199.93,-292 2209.93,-288.5 2199.93,-285 2199.93,-292\"/>\n</g>\n<!-- 137092580981344*&#45;&gt;137092580981344 -->\n<g id=\"edge60\" class=\"edge\">\n<title>137092580981344*&#45;&gt;137092580981344</title>\n<path fill=\"none\" stroke=\"black\" d=\"M2033.04,-288.5C2041.49,-288.5 2051.24,-288.5 2061.1,-288.5\"/>\n<polygon fill=\"black\" stroke=\"black\" points=\"2061.37,-292 2071.37,-288.5 2061.37,-285 2061.37,-292\"/>\n</g>\n<!-- 137092580973232 -->\n<g id=\"node153\" class=\"node\">\n<title>137092580973232</title>\n<polygon fill=\"none\" stroke=\"black\" points=\"1609.5,-715.5 1609.5,-761.5 1709.5,-761.5 1709.5,-715.5 1609.5,-715.5\"/>\n<text text-anchor=\"middle\" x=\"1619.5\" y=\"-746.3\" font-family=\"Times,serif\" font-size=\"14.00\"> </text>\n<polyline fill=\"none\" stroke=\"black\" points=\"1629.5,-738.5 1629.5,-761.5 \"/>\n<text text-anchor=\"middle\" x=\"1669.5\" y=\"-746.3\" font-family=\"Times,serif\" font-size=\"14.00\">data 0.6889</text>\n<polyline fill=\"none\" stroke=\"black\" points=\"1609.5,-738.5 1709.5,-738.5 \"/>\n<text text-anchor=\"middle\" x=\"1659.5\" y=\"-723.3\" font-family=\"Times,serif\" font-size=\"14.00\">grad 0.0000</text>\n</g>\n<!-- 137092580973232&#45;&gt;137092580975776* -->\n<g id=\"edge140\" class=\"edge\">\n<title>137092580973232&#45;&gt;137092580975776*</title>\n<path fill=\"none\" stroke=\"black\" d=\"M1709.62,-738.5C1719.1,-738.5 1728.86,-738.5 1737.83,-738.5\"/>\n<polygon fill=\"black\" stroke=\"black\" points=\"1737.93,-742 1747.93,-738.5 1737.93,-735 1737.93,-742\"/>\n</g>\n<!-- 137092580973232&#45;&gt;137092580977504* -->\n<g id=\"edge119\" class=\"edge\">\n<title>137092580973232&#45;&gt;137092580977504*</title>\n<path fill=\"none\" stroke=\"black\" d=\"M1700.84,-761.6C1715.43,-769.96 1731.62,-779.23 1745.05,-786.92\"/>\n<polygon fill=\"black\" stroke=\"black\" points=\"1743.43,-790.03 1753.85,-791.96 1746.91,-783.95 1743.43,-790.03\"/>\n</g>\n<!-- 137092580973232&#45;&gt;137092580979232* -->\n<g id=\"edge77\" class=\"edge\">\n<title>137092580973232&#45;&gt;137092580979232*</title>\n<path fill=\"none\" stroke=\"black\" d=\"M1702.7,-761.64C1706.15,-764.64 1709.33,-767.93 1712,-771.5 1746.35,-817.47 1723.49,-843.61 1748,-895.5 1750.15,-900.05 1752.81,-904.66 1755.61,-909.02\"/>\n<polygon fill=\"black\" stroke=\"black\" points=\"1752.89,-911.25 1761.41,-917.54 1758.67,-907.31 1752.89,-911.25\"/>\n</g>\n<!-- 137092580973232&#45;&gt;137092580980960* -->\n<g id=\"edge172\" class=\"edge\">\n<title>137092580973232&#45;&gt;137092580980960*</title>\n<path fill=\"none\" stroke=\"black\" d=\"M1701.72,-715.33C1705.37,-712.57 1708.86,-709.61 1712,-706.5 1733.2,-685.48 1750.64,-655.93 1761.57,-634.78\"/>\n<polygon fill=\"black\" stroke=\"black\" points=\"1764.76,-636.23 1766.12,-625.72 1758.5,-633.08 1764.76,-636.23\"/>\n</g>\n<!-- 137092580973232tanh&#45;&gt;137092580973232 -->\n<g id=\"edge61\" class=\"edge\">\n<title>137092580973232tanh&#45;&gt;137092580973232</title>\n<path fill=\"none\" stroke=\"black\" d=\"M1565.82,-786.68C1576.84,-780.95 1590.94,-773.62 1604.8,-766.42\"/>\n<polygon fill=\"black\" stroke=\"black\" points=\"1606.57,-769.44 1613.83,-761.72 1603.34,-763.23 1606.57,-769.44\"/>\n</g>\n<!-- 137092580981536 -->\n<g id=\"node155\" class=\"node\">\n<title>137092580981536</title>\n<polygon fill=\"none\" stroke=\"black\" points=\"2300,-265.5 2300,-311.5 2405,-311.5 2405,-265.5 2300,-265.5\"/>\n<text text-anchor=\"middle\" x=\"2310\" y=\"-296.3\" font-family=\"Times,serif\" font-size=\"14.00\"> </text>\n<polyline fill=\"none\" stroke=\"black\" points=\"2320,-288.5 2320,-311.5 \"/>\n<text text-anchor=\"middle\" x=\"2362.5\" y=\"-296.3\" font-family=\"Times,serif\" font-size=\"14.00\">data &#45;0.6434</text>\n<polyline fill=\"none\" stroke=\"black\" points=\"2300,-288.5 2405,-288.5 \"/>\n<text text-anchor=\"middle\" x=\"2352.5\" y=\"-273.3\" font-family=\"Times,serif\" font-size=\"14.00\">grad 0.0000</text>\n</g>\n<!-- 137092580981632tanh -->\n<g id=\"node160\" class=\"node\">\n<title>137092580981632tanh</title>\n<ellipse fill=\"none\" stroke=\"black\" cx=\"2468\" cy=\"-288.5\" rx=\"27\" ry=\"18\"/>\n<text text-anchor=\"middle\" x=\"2468\" y=\"-284.8\" font-family=\"Times,serif\" font-size=\"14.00\">tanh</text>\n</g>\n<!-- 137092580981536&#45;&gt;137092580981632tanh -->\n<g id=\"edge149\" class=\"edge\">\n<title>137092580981536&#45;&gt;137092580981632tanh</title>\n<path fill=\"none\" stroke=\"black\" d=\"M2405.27,-288.5C2413.8,-288.5 2422.49,-288.5 2430.55,-288.5\"/>\n<polygon fill=\"black\" stroke=\"black\" points=\"2430.72,-292 2440.72,-288.5 2430.72,-285 2430.72,-292\"/>\n</g>\n<!-- 137092580981536+&#45;&gt;137092580981536 -->\n<g id=\"edge62\" class=\"edge\">\n<title>137092580981536+&#45;&gt;137092580981536</title>\n<path fill=\"none\" stroke=\"black\" d=\"M2264.04,-288.5C2271.74,-288.5 2280.53,-288.5 2289.49,-288.5\"/>\n<polygon fill=\"black\" stroke=\"black\" points=\"2289.63,-292 2299.63,-288.5 2289.63,-285 2289.63,-292\"/>\n</g>\n<!-- 137092580825920 -->\n<g id=\"node157\" class=\"node\">\n<title>137092580825920</title>\n<polygon fill=\"none\" stroke=\"black\" points=\"1376,-715.5 1376,-761.5 1481,-761.5 1481,-715.5 1376,-715.5\"/>\n<text text-anchor=\"middle\" x=\"1386\" y=\"-746.3\" font-family=\"Times,serif\" font-size=\"14.00\"> </text>\n<polyline fill=\"none\" stroke=\"black\" points=\"1396,-738.5 1396,-761.5 \"/>\n<text text-anchor=\"middle\" x=\"1438.5\" y=\"-746.3\" font-family=\"Times,serif\" font-size=\"14.00\">data &#45;0.7197</text>\n<polyline fill=\"none\" stroke=\"black\" points=\"1376,-738.5 1481,-738.5 \"/>\n<text text-anchor=\"middle\" x=\"1428.5\" y=\"-723.3\" font-family=\"Times,serif\" font-size=\"14.00\">grad 0.0000</text>\n</g>\n<!-- 137092580825920&#45;&gt;137092580977120* -->\n<g id=\"edge165\" class=\"edge\">\n<title>137092580825920&#45;&gt;137092580977120*</title>\n<path fill=\"none\" stroke=\"black\" d=\"M1481.27,-738.5C1489.8,-738.5 1498.49,-738.5 1506.55,-738.5\"/>\n<polygon fill=\"black\" stroke=\"black\" points=\"1506.72,-742 1516.72,-738.5 1506.72,-735 1506.72,-742\"/>\n</g>\n<!-- 137092580825968 -->\n<g id=\"node158\" class=\"node\">\n<title>137092580825968</title>\n<polygon fill=\"none\" stroke=\"black\" points=\"1145,-991.5 1145,-1037.5 1250,-1037.5 1250,-991.5 1145,-991.5\"/>\n<text text-anchor=\"middle\" x=\"1155\" y=\"-1022.3\" font-family=\"Times,serif\" font-size=\"14.00\"> </text>\n<polyline fill=\"none\" stroke=\"black\" points=\"1165,-1014.5 1165,-1037.5 \"/>\n<text text-anchor=\"middle\" x=\"1207.5\" y=\"-1022.3\" font-family=\"Times,serif\" font-size=\"14.00\">data &#45;0.7212</text>\n<polyline fill=\"none\" stroke=\"black\" points=\"1145,-1014.5 1250,-1014.5 \"/>\n<text text-anchor=\"middle\" x=\"1197.5\" y=\"-999.3\" font-family=\"Times,serif\" font-size=\"14.00\">grad 0.0000</text>\n</g>\n<!-- 137092580825968&#45;&gt;137092580976736* -->\n<g id=\"edge102\" class=\"edge\">\n<title>137092580825968&#45;&gt;137092580976736*</title>\n<path fill=\"none\" stroke=\"black\" d=\"M1250.27,-1007.2C1259.07,-1005.96 1268.02,-1004.7 1276.29,-1003.53\"/>\n<polygon fill=\"black\" stroke=\"black\" points=\"1276.91,-1006.98 1286.32,-1002.12 1275.93,-1000.05 1276.91,-1006.98\"/>\n</g>\n<!-- 137092580981632 -->\n<g id=\"node159\" class=\"node\">\n<title>137092580981632</title>\n<polygon fill=\"none\" stroke=\"black\" points=\"2531,-265.5 2531,-311.5 2636,-311.5 2636,-265.5 2531,-265.5\"/>\n<text text-anchor=\"middle\" x=\"2541\" y=\"-296.3\" font-family=\"Times,serif\" font-size=\"14.00\"> </text>\n<polyline fill=\"none\" stroke=\"black\" points=\"2551,-288.5 2551,-311.5 \"/>\n<text text-anchor=\"middle\" x=\"2593.5\" y=\"-296.3\" font-family=\"Times,serif\" font-size=\"14.00\">data &#45;0.5672</text>\n<polyline fill=\"none\" stroke=\"black\" points=\"2531,-288.5 2636,-288.5 \"/>\n<text text-anchor=\"middle\" x=\"2583.5\" y=\"-273.3\" font-family=\"Times,serif\" font-size=\"14.00\">grad 0.0000</text>\n</g>\n<!-- 137092580981632&#45;&gt;137092581015904* -->\n<g id=\"edge108\" class=\"edge\">\n<title>137092580981632&#45;&gt;137092581015904*</title>\n<path fill=\"none\" stroke=\"black\" d=\"M2624.84,-311.6C2639.43,-319.96 2655.62,-329.23 2669.05,-336.92\"/>\n<polygon fill=\"black\" stroke=\"black\" points=\"2667.43,-340.03 2677.85,-341.96 2670.91,-333.95 2667.43,-340.03\"/>\n</g>\n<!-- 137092580981632tanh&#45;&gt;137092580981632 -->\n<g id=\"edge63\" class=\"edge\">\n<title>137092580981632tanh&#45;&gt;137092580981632</title>\n<path fill=\"none\" stroke=\"black\" d=\"M2495.04,-288.5C2502.74,-288.5 2511.53,-288.5 2520.49,-288.5\"/>\n<polygon fill=\"black\" stroke=\"black\" points=\"2520.63,-292 2530.63,-288.5 2520.63,-285 2520.63,-292\"/>\n</g>\n<!-- 137092580973520 -->\n<g id=\"node161\" class=\"node\">\n<title>137092580973520</title>\n<polygon fill=\"none\" stroke=\"black\" points=\"685.5,-163.5 685.5,-209.5 785.5,-209.5 785.5,-163.5 685.5,-163.5\"/>\n<text text-anchor=\"middle\" x=\"695.5\" y=\"-194.3\" font-family=\"Times,serif\" font-size=\"14.00\"> </text>\n<polyline fill=\"none\" stroke=\"black\" points=\"705.5,-186.5 705.5,-209.5 \"/>\n<text text-anchor=\"middle\" x=\"745.5\" y=\"-194.3\" font-family=\"Times,serif\" font-size=\"14.00\">data 2.0000</text>\n<polyline fill=\"none\" stroke=\"black\" points=\"685.5,-186.5 785.5,-186.5 \"/>\n<text text-anchor=\"middle\" x=\"735.5\" y=\"-171.3\" font-family=\"Times,serif\" font-size=\"14.00\">grad 0.0000</text>\n</g>\n<!-- 137092580973568* -->\n<g id=\"node164\" class=\"node\">\n<title>137092580973568*</title>\n<ellipse fill=\"none\" stroke=\"black\" cx=\"851\" cy=\"-153.5\" rx=\"27\" ry=\"18\"/>\n<text text-anchor=\"middle\" x=\"851\" y=\"-149.8\" font-family=\"Times,serif\" font-size=\"14.00\">*</text>\n</g>\n<!-- 137092580973520&#45;&gt;137092580973568* -->\n<g id=\"edge138\" class=\"edge\">\n<title>137092580973520&#45;&gt;137092580973568*</title>\n<path fill=\"none\" stroke=\"black\" d=\"M785.62,-172.22C796.03,-169.19 806.78,-166.07 816.45,-163.25\"/>\n<polygon fill=\"black\" stroke=\"black\" points=\"817.45,-166.61 826.07,-160.46 815.49,-159.89 817.45,-166.61\"/>\n</g>\n<!-- 137092580826064 -->\n<g id=\"node162\" class=\"node\">\n<title>137092580826064</title>\n<polygon fill=\"none\" stroke=\"black\" points=\"1609.5,-780.5 1609.5,-826.5 1709.5,-826.5 1709.5,-780.5 1609.5,-780.5\"/>\n<text text-anchor=\"middle\" x=\"1619.5\" y=\"-811.3\" font-family=\"Times,serif\" font-size=\"14.00\"> </text>\n<polyline fill=\"none\" stroke=\"black\" points=\"1629.5,-803.5 1629.5,-826.5 \"/>\n<text text-anchor=\"middle\" x=\"1669.5\" y=\"-811.3\" font-family=\"Times,serif\" font-size=\"14.00\">data 0.0356</text>\n<polyline fill=\"none\" stroke=\"black\" points=\"1609.5,-803.5 1709.5,-803.5 \"/>\n<text text-anchor=\"middle\" x=\"1659.5\" y=\"-788.3\" font-family=\"Times,serif\" font-size=\"14.00\">grad 0.0000</text>\n</g>\n<!-- 137092580826064&#45;&gt;137092580977504* -->\n<g id=\"edge125\" class=\"edge\">\n<title>137092580826064&#45;&gt;137092580977504*</title>\n<path fill=\"none\" stroke=\"black\" d=\"M1709.62,-803.5C1719.1,-803.5 1728.86,-803.5 1737.83,-803.5\"/>\n<polygon fill=\"black\" stroke=\"black\" points=\"1737.93,-807 1747.93,-803.5 1737.93,-800 1737.93,-807\"/>\n</g>\n<!-- 137092580973568 -->\n<g id=\"node163\" class=\"node\">\n<title>137092580973568</title>\n<polygon fill=\"none\" stroke=\"black\" points=\"916.5,-130.5 916.5,-176.5 1016.5,-176.5 1016.5,-130.5 916.5,-130.5\"/>\n<text text-anchor=\"middle\" x=\"926.5\" y=\"-161.3\" font-family=\"Times,serif\" font-size=\"14.00\"> </text>\n<polyline fill=\"none\" stroke=\"black\" points=\"936.5,-153.5 936.5,-176.5 \"/>\n<text text-anchor=\"middle\" x=\"976.5\" y=\"-161.3\" font-family=\"Times,serif\" font-size=\"14.00\">data 0.3834</text>\n<polyline fill=\"none\" stroke=\"black\" points=\"916.5,-153.5 1016.5,-153.5 \"/>\n<text text-anchor=\"middle\" x=\"966.5\" y=\"-138.3\" font-family=\"Times,serif\" font-size=\"14.00\">grad 0.0000</text>\n</g>\n<!-- 137092580973760+ -->\n<g id=\"node171\" class=\"node\">\n<title>137092580973760+</title>\n<ellipse fill=\"none\" stroke=\"black\" cx=\"1082\" cy=\"-153.5\" rx=\"27\" ry=\"18\"/>\n<text text-anchor=\"middle\" x=\"1082\" y=\"-149.8\" font-family=\"Times,serif\" font-size=\"14.00\">+</text>\n</g>\n<!-- 137092580973568&#45;&gt;137092580973760+ -->\n<g id=\"edge127\" class=\"edge\">\n<title>137092580973568&#45;&gt;137092580973760+</title>\n<path fill=\"none\" stroke=\"black\" d=\"M1016.62,-153.5C1026.1,-153.5 1035.86,-153.5 1044.83,-153.5\"/>\n<polygon fill=\"black\" stroke=\"black\" points=\"1044.93,-157 1054.93,-153.5 1044.93,-150 1044.93,-157\"/>\n</g>\n<!-- 137092580973568*&#45;&gt;137092580973568 -->\n<g id=\"edge64\" class=\"edge\">\n<title>137092580973568*&#45;&gt;137092580973568</title>\n<path fill=\"none\" stroke=\"black\" d=\"M878.04,-153.5C886.49,-153.5 896.24,-153.5 906.1,-153.5\"/>\n<polygon fill=\"black\" stroke=\"black\" points=\"906.37,-157 916.37,-153.5 906.37,-150 906.37,-157\"/>\n</g>\n<!-- 137092580826112 -->\n<g id=\"node165\" class=\"node\">\n<title>137092580826112</title>\n<polygon fill=\"none\" stroke=\"black\" points=\"1378.5,-520.5 1378.5,-566.5 1478.5,-566.5 1478.5,-520.5 1378.5,-520.5\"/>\n<text text-anchor=\"middle\" x=\"1388.5\" y=\"-551.3\" font-family=\"Times,serif\" font-size=\"14.00\"> </text>\n<polyline fill=\"none\" stroke=\"black\" points=\"1398.5,-543.5 1398.5,-566.5 \"/>\n<text text-anchor=\"middle\" x=\"1438.5\" y=\"-551.3\" font-family=\"Times,serif\" font-size=\"14.00\">data 0.3507</text>\n<polyline fill=\"none\" stroke=\"black\" points=\"1378.5,-543.5 1478.5,-543.5 \"/>\n<text text-anchor=\"middle\" x=\"1428.5\" y=\"-528.3\" font-family=\"Times,serif\" font-size=\"14.00\">grad 0.0000</text>\n</g>\n<!-- 137092580826112&#45;&gt;137092580975200+ -->\n<g id=\"edge167\" class=\"edge\">\n<title>137092580826112&#45;&gt;137092580975200+</title>\n<path fill=\"none\" stroke=\"black\" d=\"M1478.62,-543.5C1488.1,-543.5 1497.86,-543.5 1506.83,-543.5\"/>\n<polygon fill=\"black\" stroke=\"black\" points=\"1506.93,-547 1516.93,-543.5 1506.93,-540 1506.93,-547\"/>\n</g>\n<!-- 137092580826160 -->\n<g id=\"node166\" class=\"node\">\n<title>137092580826160</title>\n<polygon fill=\"none\" stroke=\"black\" points=\"1376,-910.5 1376,-956.5 1481,-956.5 1481,-910.5 1376,-910.5\"/>\n<text text-anchor=\"middle\" x=\"1386\" y=\"-941.3\" font-family=\"Times,serif\" font-size=\"14.00\"> </text>\n<polyline fill=\"none\" stroke=\"black\" points=\"1396,-933.5 1396,-956.5 \"/>\n<text text-anchor=\"middle\" x=\"1438.5\" y=\"-941.3\" font-family=\"Times,serif\" font-size=\"14.00\">data &#45;0.0554</text>\n<polyline fill=\"none\" stroke=\"black\" points=\"1376,-933.5 1481,-933.5 \"/>\n<text text-anchor=\"middle\" x=\"1428.5\" y=\"-918.3\" font-family=\"Times,serif\" font-size=\"14.00\">grad 0.0000</text>\n</g>\n<!-- 137092580826160&#45;&gt;137092580976928+ -->\n<g id=\"edge206\" class=\"edge\">\n<title>137092580826160&#45;&gt;137092580976928+</title>\n<path fill=\"none\" stroke=\"black\" d=\"M1469.84,-956.6C1484.43,-964.96 1500.62,-974.23 1514.05,-981.92\"/>\n<polygon fill=\"black\" stroke=\"black\" points=\"1512.43,-985.03 1522.85,-986.96 1515.91,-978.95 1512.43,-985.03\"/>\n</g>\n<!-- 137092580826256 -->\n<g id=\"node167\" class=\"node\">\n<title>137092580826256</title>\n<polygon fill=\"none\" stroke=\"black\" points=\"1840.5,-585.5 1840.5,-631.5 1940.5,-631.5 1940.5,-585.5 1840.5,-585.5\"/>\n<text text-anchor=\"middle\" x=\"1850.5\" y=\"-616.3\" font-family=\"Times,serif\" font-size=\"14.00\"> </text>\n<polyline fill=\"none\" stroke=\"black\" points=\"1860.5,-608.5 1860.5,-631.5 \"/>\n<text text-anchor=\"middle\" x=\"1900.5\" y=\"-616.3\" font-family=\"Times,serif\" font-size=\"14.00\">data 0.7064</text>\n<polyline fill=\"none\" stroke=\"black\" points=\"1840.5,-608.5 1940.5,-608.5 \"/>\n<text text-anchor=\"middle\" x=\"1890.5\" y=\"-593.3\" font-family=\"Times,serif\" font-size=\"14.00\">grad 0.0000</text>\n</g>\n<!-- 137092580826256&#45;&gt;137092580977888* -->\n<g id=\"edge157\" class=\"edge\">\n<title>137092580826256&#45;&gt;137092580977888*</title>\n<path fill=\"none\" stroke=\"black\" d=\"M1940.62,-608.5C1950.1,-608.5 1959.86,-608.5 1968.83,-608.5\"/>\n<polygon fill=\"black\" stroke=\"black\" points=\"1968.93,-612 1978.93,-608.5 1968.93,-605 1968.93,-612\"/>\n</g>\n<!-- 137092580981920 -->\n<g id=\"node168\" class=\"node\">\n<title>137092580981920</title>\n<polygon fill=\"none\" stroke=\"black\" points=\"2762,-460.5 2762,-506.5 2867,-506.5 2867,-460.5 2762,-460.5\"/>\n<text text-anchor=\"middle\" x=\"2772\" y=\"-491.3\" font-family=\"Times,serif\" font-size=\"14.00\"> </text>\n<polyline fill=\"none\" stroke=\"black\" points=\"2782,-483.5 2782,-506.5 \"/>\n<text text-anchor=\"middle\" x=\"2824.5\" y=\"-491.3\" font-family=\"Times,serif\" font-size=\"14.00\">data &#45;0.1455</text>\n<polyline fill=\"none\" stroke=\"black\" points=\"2762,-483.5 2867,-483.5 \"/>\n<text text-anchor=\"middle\" x=\"2814.5\" y=\"-468.3\" font-family=\"Times,serif\" font-size=\"14.00\">grad 0.0000</text>\n</g>\n<!-- 137092580981920&#45;&gt;137092580982112+ -->\n<g id=\"edge159\" class=\"edge\">\n<title>137092580981920&#45;&gt;137092580982112+</title>\n<path fill=\"none\" stroke=\"black\" d=\"M2867.26,-483.5C2884.19,-483.5 2902.63,-483.5 2918.18,-483.5\"/>\n<polygon fill=\"black\" stroke=\"black\" points=\"2918.42,-487 2928.42,-483.5 2918.42,-480 2918.42,-487\"/>\n</g>\n<!-- 137092580981920*&#45;&gt;137092580981920 -->\n<g id=\"edge65\" class=\"edge\">\n<title>137092580981920*&#45;&gt;137092580981920</title>\n<path fill=\"none\" stroke=\"black\" d=\"M2726.04,-483.5C2733.74,-483.5 2742.53,-483.5 2751.49,-483.5\"/>\n<polygon fill=\"black\" stroke=\"black\" points=\"2751.63,-487 2761.63,-483.5 2751.63,-480 2751.63,-487\"/>\n</g>\n<!-- 137092580973760 -->\n<g id=\"node170\" class=\"node\">\n<title>137092580973760</title>\n<polygon fill=\"none\" stroke=\"black\" points=\"1147.5,-130.5 1147.5,-176.5 1247.5,-176.5 1247.5,-130.5 1147.5,-130.5\"/>\n<text text-anchor=\"middle\" x=\"1157.5\" y=\"-161.3\" font-family=\"Times,serif\" font-size=\"14.00\"> </text>\n<polyline fill=\"none\" stroke=\"black\" points=\"1167.5,-153.5 1167.5,-176.5 \"/>\n<text text-anchor=\"middle\" x=\"1207.5\" y=\"-161.3\" font-family=\"Times,serif\" font-size=\"14.00\">data 0.8943</text>\n<polyline fill=\"none\" stroke=\"black\" points=\"1147.5,-153.5 1247.5,-153.5 \"/>\n<text text-anchor=\"middle\" x=\"1197.5\" y=\"-138.3\" font-family=\"Times,serif\" font-size=\"14.00\">grad 0.0000</text>\n</g>\n<!-- 137092580974192+ -->\n<g id=\"node188\" class=\"node\">\n<title>137092580974192+</title>\n<ellipse fill=\"none\" stroke=\"black\" cx=\"1313\" cy=\"-153.5\" rx=\"27\" ry=\"18\"/>\n<text text-anchor=\"middle\" x=\"1313\" y=\"-149.8\" font-family=\"Times,serif\" font-size=\"14.00\">+</text>\n</g>\n<!-- 137092580973760&#45;&gt;137092580974192+ -->\n<g id=\"edge111\" class=\"edge\">\n<title>137092580973760&#45;&gt;137092580974192+</title>\n<path fill=\"none\" stroke=\"black\" d=\"M1247.62,-153.5C1257.1,-153.5 1266.86,-153.5 1275.83,-153.5\"/>\n<polygon fill=\"black\" stroke=\"black\" points=\"1275.93,-157 1285.93,-153.5 1275.93,-150 1275.93,-157\"/>\n</g>\n<!-- 137092580973760+&#45;&gt;137092580973760 -->\n<g id=\"edge66\" class=\"edge\">\n<title>137092580973760+&#45;&gt;137092580973760</title>\n<path fill=\"none\" stroke=\"black\" d=\"M1109.04,-153.5C1117.49,-153.5 1127.24,-153.5 1137.1,-153.5\"/>\n<polygon fill=\"black\" stroke=\"black\" points=\"1137.37,-157 1147.37,-153.5 1137.37,-150 1137.37,-157\"/>\n</g>\n<!-- 137092580826304 -->\n<g id=\"node172\" class=\"node\">\n<title>137092580826304</title>\n<polygon fill=\"none\" stroke=\"black\" points=\"1838,-260.5 1838,-306.5 1943,-306.5 1943,-260.5 1838,-260.5\"/>\n<text text-anchor=\"middle\" x=\"1848\" y=\"-291.3\" font-family=\"Times,serif\" font-size=\"14.00\"> </text>\n<polyline fill=\"none\" stroke=\"black\" points=\"1858,-283.5 1858,-306.5 \"/>\n<text text-anchor=\"middle\" x=\"1900.5\" y=\"-291.3\" font-family=\"Times,serif\" font-size=\"14.00\">data &#45;0.4690</text>\n<polyline fill=\"none\" stroke=\"black\" points=\"1838,-283.5 1943,-283.5 \"/>\n<text text-anchor=\"middle\" x=\"1890.5\" y=\"-268.3\" font-family=\"Times,serif\" font-size=\"14.00\">grad 0.0000</text>\n</g>\n<!-- 137092580826304&#45;&gt;137092580976160* -->\n<g id=\"edge190\" class=\"edge\">\n<title>137092580826304&#45;&gt;137092580976160*</title>\n<path fill=\"none\" stroke=\"black\" d=\"M1931.84,-306.6C1946.43,-314.96 1962.62,-324.23 1976.05,-331.92\"/>\n<polygon fill=\"black\" stroke=\"black\" points=\"1974.43,-335.03 1984.85,-336.96 1977.91,-328.95 1974.43,-335.03\"/>\n</g>\n<!-- 137092580826400 -->\n<g id=\"node173\" class=\"node\">\n<title>137092580826400</title>\n<polygon fill=\"none\" stroke=\"black\" points=\"1147.5,-1088.5 1147.5,-1134.5 1247.5,-1134.5 1247.5,-1088.5 1147.5,-1088.5\"/>\n<text text-anchor=\"middle\" x=\"1157.5\" y=\"-1119.3\" font-family=\"Times,serif\" font-size=\"14.00\"> </text>\n<polyline fill=\"none\" stroke=\"black\" points=\"1167.5,-1111.5 1167.5,-1134.5 \"/>\n<text text-anchor=\"middle\" x=\"1207.5\" y=\"-1119.3\" font-family=\"Times,serif\" font-size=\"14.00\">data 0.2384</text>\n<polyline fill=\"none\" stroke=\"black\" points=\"1147.5,-1111.5 1247.5,-1111.5 \"/>\n<text text-anchor=\"middle\" x=\"1197.5\" y=\"-1096.3\" font-family=\"Times,serif\" font-size=\"14.00\">grad 0.0000</text>\n</g>\n<!-- 137092580826400&#45;&gt;137092580978464* -->\n<g id=\"edge192\" class=\"edge\">\n<title>137092580826400&#45;&gt;137092580978464*</title>\n<path fill=\"none\" stroke=\"black\" d=\"M1247.62,-1111.5C1257.1,-1111.5 1266.86,-1111.5 1275.83,-1111.5\"/>\n<polygon fill=\"black\" stroke=\"black\" points=\"1275.93,-1115 1285.93,-1111.5 1275.93,-1108 1275.93,-1115\"/>\n</g>\n<!-- 137092580826448 -->\n<g id=\"node174\" class=\"node\">\n<title>137092580826448</title>\n<polygon fill=\"none\" stroke=\"black\" points=\"1607,-650.5 1607,-696.5 1712,-696.5 1712,-650.5 1607,-650.5\"/>\n<text text-anchor=\"middle\" x=\"1617\" y=\"-681.3\" font-family=\"Times,serif\" font-size=\"14.00\"> </text>\n<polyline fill=\"none\" stroke=\"black\" points=\"1627,-673.5 1627,-696.5 \"/>\n<text text-anchor=\"middle\" x=\"1669.5\" y=\"-681.3\" font-family=\"Times,serif\" font-size=\"14.00\">data &#45;0.9753</text>\n<polyline fill=\"none\" stroke=\"black\" points=\"1607,-673.5 1712,-673.5 \"/>\n<text text-anchor=\"middle\" x=\"1659.5\" y=\"-658.3\" font-family=\"Times,serif\" font-size=\"14.00\">grad 0.0000</text>\n</g>\n<!-- 137092580826448&#45;&gt;137092580975776* -->\n<g id=\"edge187\" class=\"edge\">\n<title>137092580826448&#45;&gt;137092580975776*</title>\n<path fill=\"none\" stroke=\"black\" d=\"M1700.84,-696.6C1715.43,-704.96 1731.62,-714.23 1745.05,-721.92\"/>\n<polygon fill=\"black\" stroke=\"black\" points=\"1743.43,-725.03 1753.85,-726.96 1746.91,-718.95 1743.43,-725.03\"/>\n</g>\n<!-- 137092580982112 -->\n<g id=\"node175\" class=\"node\">\n<title>137092580982112</title>\n<polygon fill=\"none\" stroke=\"black\" points=\"3044,-460.5 3044,-506.5 3149,-506.5 3149,-460.5 3044,-460.5\"/>\n<text text-anchor=\"middle\" x=\"3054\" y=\"-491.3\" font-family=\"Times,serif\" font-size=\"14.00\"> </text>\n<polyline fill=\"none\" stroke=\"black\" points=\"3064,-483.5 3064,-506.5 \"/>\n<text text-anchor=\"middle\" x=\"3106.5\" y=\"-491.3\" font-family=\"Times,serif\" font-size=\"14.00\">data &#45;0.3093</text>\n<polyline fill=\"none\" stroke=\"black\" points=\"3044,-483.5 3149,-483.5 \"/>\n<text text-anchor=\"middle\" x=\"3096.5\" y=\"-468.3\" font-family=\"Times,serif\" font-size=\"14.00\">grad 0.0000</text>\n</g>\n<!-- 137092580982496+ -->\n<g id=\"node192\" class=\"node\">\n<title>137092580982496+</title>\n<ellipse fill=\"none\" stroke=\"black\" cx=\"3235\" cy=\"-485.5\" rx=\"27\" ry=\"18\"/>\n<text text-anchor=\"middle\" x=\"3235\" y=\"-481.8\" font-family=\"Times,serif\" font-size=\"14.00\">+</text>\n</g>\n<!-- 137092580982112&#45;&gt;137092580982496+ -->\n<g id=\"edge181\" class=\"edge\">\n<title>137092580982112&#45;&gt;137092580982496+</title>\n<path fill=\"none\" stroke=\"black\" d=\"M3149.1,-484.26C3165.26,-484.49 3182.75,-484.75 3197.63,-484.97\"/>\n<polygon fill=\"black\" stroke=\"black\" points=\"3197.9,-488.47 3207.95,-485.12 3198,-481.47 3197.9,-488.47\"/>\n</g>\n<!-- 137092580982112+&#45;&gt;137092580982112 -->\n<g id=\"edge67\" class=\"edge\">\n<title>137092580982112+&#45;&gt;137092580982112</title>\n<path fill=\"none\" stroke=\"black\" d=\"M2982.64,-483.5C2997.11,-483.5 3015.75,-483.5 3033.69,-483.5\"/>\n<polygon fill=\"black\" stroke=\"black\" points=\"3033.84,-487 3043.84,-483.5 3033.84,-480 3033.84,-487\"/>\n</g>\n<!-- 137092580973952 -->\n<g id=\"node177\" class=\"node\">\n<title>137092580973952</title>\n<polygon fill=\"none\" stroke=\"black\" points=\"916.5,-0.5 916.5,-46.5 1016.5,-46.5 1016.5,-0.5 916.5,-0.5\"/>\n<text text-anchor=\"middle\" x=\"926.5\" y=\"-31.3\" font-family=\"Times,serif\" font-size=\"14.00\"> </text>\n<polyline fill=\"none\" stroke=\"black\" points=\"936.5,-23.5 936.5,-46.5 \"/>\n<text text-anchor=\"middle\" x=\"976.5\" y=\"-31.3\" font-family=\"Times,serif\" font-size=\"14.00\">data 3.0000</text>\n<polyline fill=\"none\" stroke=\"black\" points=\"916.5,-23.5 1016.5,-23.5 \"/>\n<text text-anchor=\"middle\" x=\"966.5\" y=\"-8.3\" font-family=\"Times,serif\" font-size=\"14.00\">grad 0.0000</text>\n</g>\n<!-- 137092580974000* -->\n<g id=\"node180\" class=\"node\">\n<title>137092580974000*</title>\n<ellipse fill=\"none\" stroke=\"black\" cx=\"1082\" cy=\"-88.5\" rx=\"27\" ry=\"18\"/>\n<text text-anchor=\"middle\" x=\"1082\" y=\"-84.8\" font-family=\"Times,serif\" font-size=\"14.00\">*</text>\n</g>\n<!-- 137092580973952&#45;&gt;137092580974000* -->\n<g id=\"edge142\" class=\"edge\">\n<title>137092580973952&#45;&gt;137092580974000*</title>\n<path fill=\"none\" stroke=\"black\" d=\"M1007.84,-46.6C1022.43,-54.96 1038.62,-64.23 1052.05,-71.92\"/>\n<polygon fill=\"black\" stroke=\"black\" points=\"1050.43,-75.03 1060.85,-76.96 1053.91,-68.95 1050.43,-75.03\"/>\n</g>\n<!-- 137092580826496 -->\n<g id=\"node178\" class=\"node\">\n<title>137092580826496</title>\n<polygon fill=\"none\" stroke=\"black\" points=\"1378.5,-1040.5 1378.5,-1086.5 1478.5,-1086.5 1478.5,-1040.5 1378.5,-1040.5\"/>\n<text text-anchor=\"middle\" x=\"1388.5\" y=\"-1071.3\" font-family=\"Times,serif\" font-size=\"14.00\"> </text>\n<polyline fill=\"none\" stroke=\"black\" points=\"1398.5,-1063.5 1398.5,-1086.5 \"/>\n<text text-anchor=\"middle\" x=\"1438.5\" y=\"-1071.3\" font-family=\"Times,serif\" font-size=\"14.00\">data 0.1202</text>\n<polyline fill=\"none\" stroke=\"black\" points=\"1378.5,-1063.5 1478.5,-1063.5 \"/>\n<text text-anchor=\"middle\" x=\"1428.5\" y=\"-1048.3\" font-family=\"Times,serif\" font-size=\"14.00\">grad 0.0000</text>\n</g>\n<!-- 137092580826496&#45;&gt;137092580978656+ -->\n<g id=\"edge92\" class=\"edge\">\n<title>137092580826496&#45;&gt;137092580978656+</title>\n<path fill=\"none\" stroke=\"black\" d=\"M1469.84,-1086.6C1484.43,-1094.96 1500.62,-1104.23 1514.05,-1111.92\"/>\n<polygon fill=\"black\" stroke=\"black\" points=\"1512.43,-1115.03 1522.85,-1116.96 1515.91,-1108.95 1512.43,-1115.03\"/>\n</g>\n<!-- 137092580974000 -->\n<g id=\"node179\" class=\"node\">\n<title>137092580974000</title>\n<polygon fill=\"none\" stroke=\"black\" points=\"1145,-65.5 1145,-111.5 1250,-111.5 1250,-65.5 1145,-65.5\"/>\n<text text-anchor=\"middle\" x=\"1155\" y=\"-96.3\" font-family=\"Times,serif\" font-size=\"14.00\"> </text>\n<polyline fill=\"none\" stroke=\"black\" points=\"1165,-88.5 1165,-111.5 \"/>\n<text text-anchor=\"middle\" x=\"1207.5\" y=\"-96.3\" font-family=\"Times,serif\" font-size=\"14.00\">data &#45;2.0038</text>\n<polyline fill=\"none\" stroke=\"black\" points=\"1145,-88.5 1250,-88.5 \"/>\n<text text-anchor=\"middle\" x=\"1197.5\" y=\"-73.3\" font-family=\"Times,serif\" font-size=\"14.00\">grad 0.0000</text>\n</g>\n<!-- 137092580974000&#45;&gt;137092580974192+ -->\n<g id=\"edge168\" class=\"edge\">\n<title>137092580974000&#45;&gt;137092580974192+</title>\n<path fill=\"none\" stroke=\"black\" d=\"M1238.84,-111.6C1253.43,-119.96 1269.62,-129.23 1283.05,-136.92\"/>\n<polygon fill=\"black\" stroke=\"black\" points=\"1281.43,-140.03 1291.85,-141.96 1284.91,-133.95 1281.43,-140.03\"/>\n</g>\n<!-- 137092580974000*&#45;&gt;137092580974000 -->\n<g id=\"edge68\" class=\"edge\">\n<title>137092580974000*&#45;&gt;137092580974000</title>\n<path fill=\"none\" stroke=\"black\" d=\"M1109.04,-88.5C1116.74,-88.5 1125.53,-88.5 1134.49,-88.5\"/>\n<polygon fill=\"black\" stroke=\"black\" points=\"1134.63,-92 1144.63,-88.5 1134.63,-85 1134.63,-92\"/>\n</g>\n<!-- 137092580826544 -->\n<g id=\"node181\" class=\"node\">\n<title>137092580826544</title>\n<polygon fill=\"none\" stroke=\"black\" points=\"1838,-650.5 1838,-696.5 1943,-696.5 1943,-650.5 1838,-650.5\"/>\n<text text-anchor=\"middle\" x=\"1848\" y=\"-681.3\" font-family=\"Times,serif\" font-size=\"14.00\"> </text>\n<polyline fill=\"none\" stroke=\"black\" points=\"1858,-673.5 1858,-696.5 \"/>\n<text text-anchor=\"middle\" x=\"1900.5\" y=\"-681.3\" font-family=\"Times,serif\" font-size=\"14.00\">data &#45;0.7505</text>\n<polyline fill=\"none\" stroke=\"black\" points=\"1838,-673.5 1943,-673.5 \"/>\n<text text-anchor=\"middle\" x=\"1890.5\" y=\"-658.3\" font-family=\"Times,serif\" font-size=\"14.00\">grad 0.0000</text>\n</g>\n<!-- 137092580826544&#45;&gt;137092580979616* -->\n<g id=\"edge175\" class=\"edge\">\n<title>137092580826544&#45;&gt;137092580979616*</title>\n<path fill=\"none\" stroke=\"black\" d=\"M1943.27,-673.5C1951.8,-673.5 1960.49,-673.5 1968.55,-673.5\"/>\n<polygon fill=\"black\" stroke=\"black\" points=\"1968.72,-677 1978.72,-673.5 1968.72,-670 1968.72,-677\"/>\n</g>\n<!-- 137092580826592 -->\n<g id=\"node182\" class=\"node\">\n<title>137092580826592</title>\n<polygon fill=\"none\" stroke=\"black\" points=\"1607,-1040.5 1607,-1086.5 1712,-1086.5 1712,-1040.5 1607,-1040.5\"/>\n<text text-anchor=\"middle\" x=\"1617\" y=\"-1071.3\" font-family=\"Times,serif\" font-size=\"14.00\"> </text>\n<polyline fill=\"none\" stroke=\"black\" points=\"1627,-1063.5 1627,-1086.5 \"/>\n<text text-anchor=\"middle\" x=\"1669.5\" y=\"-1071.3\" font-family=\"Times,serif\" font-size=\"14.00\">data &#45;0.7499</text>\n<polyline fill=\"none\" stroke=\"black\" points=\"1607,-1063.5 1712,-1063.5 \"/>\n<text text-anchor=\"middle\" x=\"1659.5\" y=\"-1048.3\" font-family=\"Times,serif\" font-size=\"14.00\">grad 0.0000</text>\n</g>\n<!-- 137092580826592&#45;&gt;137092580979232* -->\n<g id=\"edge155\" class=\"edge\">\n<title>137092580826592&#45;&gt;137092580979232*</title>\n<path fill=\"none\" stroke=\"black\" d=\"M1701.79,-1040.41C1705.43,-1037.63 1708.9,-1034.65 1712,-1031.5 1733.82,-1009.34 1731.21,-997.68 1748,-971.5 1750.84,-967.07 1753.94,-962.41 1756.97,-957.92\"/>\n<polygon fill=\"black\" stroke=\"black\" points=\"1759.89,-959.86 1762.65,-949.63 1754.11,-955.91 1759.89,-959.86\"/>\n</g>\n<!-- 137092580826640 -->\n<g id=\"node183\" class=\"node\">\n<title>137092580826640</title>\n<polygon fill=\"none\" stroke=\"black\" points=\"1378.5,-845.5 1378.5,-891.5 1478.5,-891.5 1478.5,-845.5 1378.5,-845.5\"/>\n<text text-anchor=\"middle\" x=\"1388.5\" y=\"-876.3\" font-family=\"Times,serif\" font-size=\"14.00\"> </text>\n<polyline fill=\"none\" stroke=\"black\" points=\"1398.5,-868.5 1398.5,-891.5 \"/>\n<text text-anchor=\"middle\" x=\"1438.5\" y=\"-876.3\" font-family=\"Times,serif\" font-size=\"14.00\">data 0.1222</text>\n<polyline fill=\"none\" stroke=\"black\" points=\"1378.5,-868.5 1478.5,-868.5 \"/>\n<text text-anchor=\"middle\" x=\"1428.5\" y=\"-853.3\" font-family=\"Times,serif\" font-size=\"14.00\">grad 0.0000</text>\n</g>\n<!-- 137092580826640&#45;&gt;137092580978848* -->\n<g id=\"edge128\" class=\"edge\">\n<title>137092580826640&#45;&gt;137092580978848*</title>\n<path fill=\"none\" stroke=\"black\" d=\"M1478.62,-868.5C1488.1,-868.5 1497.86,-868.5 1506.83,-868.5\"/>\n<polygon fill=\"black\" stroke=\"black\" points=\"1506.93,-872 1516.93,-868.5 1506.93,-865 1506.93,-872\"/>\n</g>\n<!-- 137092580982304 -->\n<g id=\"node184\" class=\"node\">\n<title>137092580982304</title>\n<polygon fill=\"none\" stroke=\"black\" points=\"3046.5,-525.5 3046.5,-571.5 3146.5,-571.5 3146.5,-525.5 3046.5,-525.5\"/>\n<text text-anchor=\"middle\" x=\"3056.5\" y=\"-556.3\" font-family=\"Times,serif\" font-size=\"14.00\"> </text>\n<polyline fill=\"none\" stroke=\"black\" points=\"3066.5,-548.5 3066.5,-571.5 \"/>\n<text text-anchor=\"middle\" x=\"3106.5\" y=\"-556.3\" font-family=\"Times,serif\" font-size=\"14.00\">data 0.1837</text>\n<polyline fill=\"none\" stroke=\"black\" points=\"3046.5,-548.5 3146.5,-548.5 \"/>\n<text text-anchor=\"middle\" x=\"3096.5\" y=\"-533.3\" font-family=\"Times,serif\" font-size=\"14.00\">grad 0.0000</text>\n</g>\n<!-- 137092580982304&#45;&gt;137092580982496+ -->\n<g id=\"edge171\" class=\"edge\">\n<title>137092580982304&#45;&gt;137092580982496+</title>\n<path fill=\"none\" stroke=\"black\" d=\"M3146.78,-525.76C3165.55,-517.09 3186.39,-507.47 3203,-499.81\"/>\n<polygon fill=\"black\" stroke=\"black\" points=\"3204.63,-502.91 3212.24,-495.54 3201.69,-496.56 3204.63,-502.91\"/>\n</g>\n<!-- 137092580982304*&#45;&gt;137092580982304 -->\n<g id=\"edge69\" class=\"edge\">\n<title>137092580982304*&#45;&gt;137092580982304</title>\n<path fill=\"none\" stroke=\"black\" d=\"M2726.26,-548.5C2788.99,-548.5 2948.84,-548.5 3036.23,-548.5\"/>\n<polygon fill=\"black\" stroke=\"black\" points=\"3036.26,-552 3046.26,-548.5 3036.26,-545 3036.26,-552\"/>\n</g>\n<!-- 137092580826688 -->\n<g id=\"node186\" class=\"node\">\n<title>137092580826688</title>\n<polygon fill=\"none\" stroke=\"black\" points=\"1378.5,-455.5 1378.5,-501.5 1478.5,-501.5 1478.5,-455.5 1378.5,-455.5\"/>\n<text text-anchor=\"middle\" x=\"1388.5\" y=\"-486.3\" font-family=\"Times,serif\" font-size=\"14.00\"> </text>\n<polyline fill=\"none\" stroke=\"black\" points=\"1398.5,-478.5 1398.5,-501.5 \"/>\n<text text-anchor=\"middle\" x=\"1438.5\" y=\"-486.3\" font-family=\"Times,serif\" font-size=\"14.00\">data 0.0572</text>\n<polyline fill=\"none\" stroke=\"black\" points=\"1378.5,-478.5 1478.5,-478.5 \"/>\n<text text-anchor=\"middle\" x=\"1428.5\" y=\"-463.3\" font-family=\"Times,serif\" font-size=\"14.00\">grad 0.0000</text>\n</g>\n<!-- 137092580826688&#45;&gt;137092580975392* -->\n<g id=\"edge158\" class=\"edge\">\n<title>137092580826688&#45;&gt;137092580975392*</title>\n<path fill=\"none\" stroke=\"black\" d=\"M1478.62,-478.5C1488.1,-478.5 1497.86,-478.5 1506.83,-478.5\"/>\n<polygon fill=\"black\" stroke=\"black\" points=\"1506.93,-482 1516.93,-478.5 1506.93,-475 1506.93,-482\"/>\n</g>\n<!-- 137092580974192 -->\n<g id=\"node187\" class=\"node\">\n<title>137092580974192</title>\n<polygon fill=\"none\" stroke=\"black\" points=\"1376,-130.5 1376,-176.5 1481,-176.5 1481,-130.5 1376,-130.5\"/>\n<text text-anchor=\"middle\" x=\"1386\" y=\"-161.3\" font-family=\"Times,serif\" font-size=\"14.00\"> </text>\n<polyline fill=\"none\" stroke=\"black\" points=\"1396,-153.5 1396,-176.5 \"/>\n<text text-anchor=\"middle\" x=\"1438.5\" y=\"-161.3\" font-family=\"Times,serif\" font-size=\"14.00\">data &#45;1.1096</text>\n<polyline fill=\"none\" stroke=\"black\" points=\"1376,-153.5 1481,-153.5 \"/>\n<text text-anchor=\"middle\" x=\"1428.5\" y=\"-138.3\" font-family=\"Times,serif\" font-size=\"14.00\">grad 0.0000</text>\n</g>\n<!-- 137092580974192&#45;&gt;137092580974624+ -->\n<g id=\"edge105\" class=\"edge\">\n<title>137092580974192&#45;&gt;137092580974624+</title>\n<path fill=\"none\" stroke=\"black\" d=\"M1469.84,-176.6C1484.43,-184.96 1500.62,-194.23 1514.05,-201.92\"/>\n<polygon fill=\"black\" stroke=\"black\" points=\"1512.43,-205.03 1522.85,-206.96 1515.91,-198.95 1512.43,-205.03\"/>\n</g>\n<!-- 137092580974192+&#45;&gt;137092580974192 -->\n<g id=\"edge70\" class=\"edge\">\n<title>137092580974192+&#45;&gt;137092580974192</title>\n<path fill=\"none\" stroke=\"black\" d=\"M1340.04,-153.5C1347.74,-153.5 1356.53,-153.5 1365.49,-153.5\"/>\n<polygon fill=\"black\" stroke=\"black\" points=\"1365.63,-157 1375.63,-153.5 1365.63,-150 1365.63,-157\"/>\n</g>\n<!-- 137092580826784 -->\n<g id=\"node189\" class=\"node\">\n<title>137092580826784</title>\n<polygon fill=\"none\" stroke=\"black\" points=\"685.5,-98.5 685.5,-144.5 785.5,-144.5 785.5,-98.5 685.5,-98.5\"/>\n<text text-anchor=\"middle\" x=\"695.5\" y=\"-129.3\" font-family=\"Times,serif\" font-size=\"14.00\"> </text>\n<polyline fill=\"none\" stroke=\"black\" points=\"705.5,-121.5 705.5,-144.5 \"/>\n<text text-anchor=\"middle\" x=\"745.5\" y=\"-129.3\" font-family=\"Times,serif\" font-size=\"14.00\">data 0.1917</text>\n<polyline fill=\"none\" stroke=\"black\" points=\"685.5,-121.5 785.5,-121.5 \"/>\n<text text-anchor=\"middle\" x=\"735.5\" y=\"-106.3\" font-family=\"Times,serif\" font-size=\"14.00\">grad 0.0000</text>\n</g>\n<!-- 137092580826784&#45;&gt;137092580973568* -->\n<g id=\"edge203\" class=\"edge\">\n<title>137092580826784&#45;&gt;137092580973568*</title>\n<path fill=\"none\" stroke=\"black\" d=\"M785.62,-135.35C795.83,-138.23 806.37,-141.2 815.9,-143.89\"/>\n<polygon fill=\"black\" stroke=\"black\" points=\"815.19,-147.32 825.77,-146.67 817.09,-140.59 815.19,-147.32\"/>\n</g>\n<!-- 137092580826832 -->\n<g id=\"node190\" class=\"node\">\n<title>137092580826832</title>\n<polygon fill=\"none\" stroke=\"black\" points=\"916.5,-195.5 916.5,-241.5 1016.5,-241.5 1016.5,-195.5 916.5,-195.5\"/>\n<text text-anchor=\"middle\" x=\"926.5\" y=\"-226.3\" font-family=\"Times,serif\" font-size=\"14.00\"> </text>\n<polyline fill=\"none\" stroke=\"black\" points=\"936.5,-218.5 936.5,-241.5 \"/>\n<text text-anchor=\"middle\" x=\"976.5\" y=\"-226.3\" font-family=\"Times,serif\" font-size=\"14.00\">data 0.5108</text>\n<polyline fill=\"none\" stroke=\"black\" points=\"916.5,-218.5 1016.5,-218.5 \"/>\n<text text-anchor=\"middle\" x=\"966.5\" y=\"-203.3\" font-family=\"Times,serif\" font-size=\"14.00\">grad 0.0000</text>\n</g>\n<!-- 137092580826832&#45;&gt;137092580973760+ -->\n<g id=\"edge194\" class=\"edge\">\n<title>137092580826832&#45;&gt;137092580973760+</title>\n<path fill=\"none\" stroke=\"black\" d=\"M1007.84,-195.4C1022.43,-187.04 1038.62,-177.77 1052.05,-170.08\"/>\n<polygon fill=\"black\" stroke=\"black\" points=\"1053.91,-173.05 1060.85,-165.04 1050.43,-166.97 1053.91,-173.05\"/>\n</g>\n<!-- 137092580982496 -->\n<g id=\"node191\" class=\"node\">\n<title>137092580982496</title>\n<polygon fill=\"none\" stroke=\"black\" points=\"3321,-462.5 3321,-508.5 3426,-508.5 3426,-462.5 3321,-462.5\"/>\n<text text-anchor=\"middle\" x=\"3331\" y=\"-493.3\" font-family=\"Times,serif\" font-size=\"14.00\"> </text>\n<polyline fill=\"none\" stroke=\"black\" points=\"3341,-485.5 3341,-508.5 \"/>\n<text text-anchor=\"middle\" x=\"3383.5\" y=\"-493.3\" font-family=\"Times,serif\" font-size=\"14.00\">data &#45;0.1256</text>\n<polyline fill=\"none\" stroke=\"black\" points=\"3321,-485.5 3426,-485.5 \"/>\n<text text-anchor=\"middle\" x=\"3373.5\" y=\"-470.3\" font-family=\"Times,serif\" font-size=\"14.00\">grad 0.0000</text>\n</g>\n<!-- 137092580982496&#45;&gt;137092581015712+ -->\n<g id=\"edge198\" class=\"edge\">\n<title>137092580982496&#45;&gt;137092581015712+</title>\n<path fill=\"none\" stroke=\"black\" d=\"M3426.27,-485.5C3434.8,-485.5 3443.49,-485.5 3451.55,-485.5\"/>\n<polygon fill=\"black\" stroke=\"black\" points=\"3451.72,-489 3461.72,-485.5 3451.72,-482 3451.72,-489\"/>\n</g>\n<!-- 137092580982496+&#45;&gt;137092580982496 -->\n<g id=\"edge71\" class=\"edge\">\n<title>137092580982496+&#45;&gt;137092580982496</title>\n<path fill=\"none\" stroke=\"black\" d=\"M3262.32,-485.5C3276.05,-485.5 3293.47,-485.5 3310.39,-485.5\"/>\n<polygon fill=\"black\" stroke=\"black\" points=\"3310.82,-489 3320.82,-485.5 3310.82,-482 3310.82,-489\"/>\n</g>\n<!-- 137092580826880 -->\n<g id=\"node193\" class=\"node\">\n<title>137092580826880</title>\n<polygon fill=\"none\" stroke=\"black\" points=\"1145,-260.5 1145,-306.5 1250,-306.5 1250,-260.5 1145,-260.5\"/>\n<text text-anchor=\"middle\" x=\"1155\" y=\"-291.3\" font-family=\"Times,serif\" font-size=\"14.00\"> </text>\n<polyline fill=\"none\" stroke=\"black\" points=\"1165,-283.5 1165,-306.5 \"/>\n<text text-anchor=\"middle\" x=\"1207.5\" y=\"-291.3\" font-family=\"Times,serif\" font-size=\"14.00\">data &#45;0.0796</text>\n<polyline fill=\"none\" stroke=\"black\" points=\"1145,-283.5 1250,-283.5 \"/>\n<text text-anchor=\"middle\" x=\"1197.5\" y=\"-268.3\" font-family=\"Times,serif\" font-size=\"14.00\">grad 0.0000</text>\n</g>\n<!-- 137092580974432* -->\n<g id=\"node197\" class=\"node\">\n<title>137092580974432*</title>\n<ellipse fill=\"none\" stroke=\"black\" cx=\"1313\" cy=\"-218.5\" rx=\"27\" ry=\"18\"/>\n<text text-anchor=\"middle\" x=\"1313\" y=\"-214.8\" font-family=\"Times,serif\" font-size=\"14.00\">*</text>\n</g>\n<!-- 137092580826880&#45;&gt;137092580974432* -->\n<g id=\"edge117\" class=\"edge\">\n<title>137092580826880&#45;&gt;137092580974432*</title>\n<path fill=\"none\" stroke=\"black\" d=\"M1238.84,-260.4C1253.43,-252.04 1269.62,-242.77 1283.05,-235.08\"/>\n<polygon fill=\"black\" stroke=\"black\" points=\"1284.91,-238.05 1291.85,-230.04 1281.43,-231.97 1284.91,-238.05\"/>\n</g>\n<!-- 137092580974384 -->\n<g id=\"node194\" class=\"node\">\n<title>137092580974384</title>\n<polygon fill=\"none\" stroke=\"black\" points=\"1145,-195.5 1145,-241.5 1250,-241.5 1250,-195.5 1145,-195.5\"/>\n<text text-anchor=\"middle\" x=\"1155\" y=\"-226.3\" font-family=\"Times,serif\" font-size=\"14.00\"> </text>\n<polyline fill=\"none\" stroke=\"black\" points=\"1165,-218.5 1165,-241.5 \"/>\n<text text-anchor=\"middle\" x=\"1207.5\" y=\"-226.3\" font-family=\"Times,serif\" font-size=\"14.00\">data &#45;1.0000</text>\n<polyline fill=\"none\" stroke=\"black\" points=\"1145,-218.5 1250,-218.5 \"/>\n<text text-anchor=\"middle\" x=\"1197.5\" y=\"-203.3\" font-family=\"Times,serif\" font-size=\"14.00\">grad 0.0000</text>\n</g>\n<!-- 137092580974384&#45;&gt;137092580974432* -->\n<g id=\"edge90\" class=\"edge\">\n<title>137092580974384&#45;&gt;137092580974432*</title>\n<path fill=\"none\" stroke=\"black\" d=\"M1250.27,-218.5C1258.8,-218.5 1267.49,-218.5 1275.55,-218.5\"/>\n<polygon fill=\"black\" stroke=\"black\" points=\"1275.72,-222 1285.72,-218.5 1275.72,-215 1275.72,-222\"/>\n</g>\n<!-- 137092580826928 -->\n<g id=\"node195\" class=\"node\">\n<title>137092580826928</title>\n<polygon fill=\"none\" stroke=\"black\" points=\"914,-65.5 914,-111.5 1019,-111.5 1019,-65.5 914,-65.5\"/>\n<text text-anchor=\"middle\" x=\"924\" y=\"-96.3\" font-family=\"Times,serif\" font-size=\"14.00\"> </text>\n<polyline fill=\"none\" stroke=\"black\" points=\"934,-88.5 934,-111.5 \"/>\n<text text-anchor=\"middle\" x=\"976.5\" y=\"-96.3\" font-family=\"Times,serif\" font-size=\"14.00\">data &#45;0.6679</text>\n<polyline fill=\"none\" stroke=\"black\" points=\"914,-88.5 1019,-88.5 \"/>\n<text text-anchor=\"middle\" x=\"966.5\" y=\"-73.3\" font-family=\"Times,serif\" font-size=\"14.00\">grad 0.0000</text>\n</g>\n<!-- 137092580826928&#45;&gt;137092580974000* -->\n<g id=\"edge137\" class=\"edge\">\n<title>137092580826928&#45;&gt;137092580974000*</title>\n<path fill=\"none\" stroke=\"black\" d=\"M1019.27,-88.5C1027.8,-88.5 1036.49,-88.5 1044.55,-88.5\"/>\n<polygon fill=\"black\" stroke=\"black\" points=\"1044.72,-92 1054.72,-88.5 1044.72,-85 1044.72,-92\"/>\n</g>\n<!-- 137092580974432 -->\n<g id=\"node196\" class=\"node\">\n<title>137092580974432</title>\n<polygon fill=\"none\" stroke=\"black\" points=\"1378.5,-195.5 1378.5,-241.5 1478.5,-241.5 1478.5,-195.5 1378.5,-195.5\"/>\n<text text-anchor=\"middle\" x=\"1388.5\" y=\"-226.3\" font-family=\"Times,serif\" font-size=\"14.00\"> </text>\n<polyline fill=\"none\" stroke=\"black\" points=\"1398.5,-218.5 1398.5,-241.5 \"/>\n<text text-anchor=\"middle\" x=\"1438.5\" y=\"-226.3\" font-family=\"Times,serif\" font-size=\"14.00\">data 0.0796</text>\n<polyline fill=\"none\" stroke=\"black\" points=\"1378.5,-218.5 1478.5,-218.5 \"/>\n<text text-anchor=\"middle\" x=\"1428.5\" y=\"-203.3\" font-family=\"Times,serif\" font-size=\"14.00\">grad 0.0000</text>\n</g>\n<!-- 137092580974432&#45;&gt;137092580974624+ -->\n<g id=\"edge109\" class=\"edge\">\n<title>137092580974432&#45;&gt;137092580974624+</title>\n<path fill=\"none\" stroke=\"black\" d=\"M1478.62,-218.5C1488.1,-218.5 1497.86,-218.5 1506.83,-218.5\"/>\n<polygon fill=\"black\" stroke=\"black\" points=\"1506.93,-222 1516.93,-218.5 1506.93,-215 1506.93,-222\"/>\n</g>\n<!-- 137092580974432*&#45;&gt;137092580974432 -->\n<g id=\"edge72\" class=\"edge\">\n<title>137092580974432*&#45;&gt;137092580974432</title>\n<path fill=\"none\" stroke=\"black\" d=\"M1340.04,-218.5C1348.49,-218.5 1358.24,-218.5 1368.1,-218.5\"/>\n<polygon fill=\"black\" stroke=\"black\" points=\"1368.37,-222 1378.37,-218.5 1368.37,-215 1368.37,-222\"/>\n</g>\n<!-- 137092580982688 -->\n<g id=\"node198\" class=\"node\">\n<title>137092580982688</title>\n<polygon fill=\"none\" stroke=\"black\" points=\"3185,-550.5 3185,-596.5 3285,-596.5 3285,-550.5 3185,-550.5\"/>\n<text text-anchor=\"middle\" x=\"3195\" y=\"-581.3\" font-family=\"Times,serif\" font-size=\"14.00\"> </text>\n<polyline fill=\"none\" stroke=\"black\" points=\"3205,-573.5 3205,-596.5 \"/>\n<text text-anchor=\"middle\" x=\"3245\" y=\"-581.3\" font-family=\"Times,serif\" font-size=\"14.00\">data 0.2274</text>\n<polyline fill=\"none\" stroke=\"black\" points=\"3185,-573.5 3285,-573.5 \"/>\n<text text-anchor=\"middle\" x=\"3235\" y=\"-558.3\" font-family=\"Times,serif\" font-size=\"14.00\">grad 0.0000</text>\n</g>\n<!-- 137092580982688&#45;&gt;137092581015712+ -->\n<g id=\"edge154\" class=\"edge\">\n<title>137092580982688&#45;&gt;137092581015712+</title>\n<path fill=\"none\" stroke=\"black\" d=\"M3285.36,-562.2C3324.28,-552.59 3379.54,-537.35 3426,-518.5 3437.25,-513.94 3449.12,-507.93 3459.43,-502.3\"/>\n<polygon fill=\"black\" stroke=\"black\" points=\"3461.38,-505.22 3468.4,-497.28 3457.97,-499.11 3461.38,-505.22\"/>\n</g>\n<!-- 137092580982688*&#45;&gt;137092580982688 -->\n<g id=\"edge73\" class=\"edge\">\n<title>137092580982688*&#45;&gt;137092580982688</title>\n<path fill=\"none\" stroke=\"black\" d=\"M2725.04,-673.58C2805.4,-657.77 3058.33,-608.04 3174.54,-585.19\"/>\n<polygon fill=\"black\" stroke=\"black\" points=\"3175.54,-588.56 3184.68,-583.2 3174.19,-581.69 3175.54,-588.56\"/>\n</g>\n</g>\n</svg>\n",
            "text/plain": [
              "<graphviz.graphs.Digraph at 0x7caf5a970610>"
            ]
          },
          "metadata": {},
          "execution_count": 54
        }
      ]
    },
    {
      "cell_type": "code",
      "source": [
        "\n",
        "xs = [\n",
        "    [2.0, 3.0, -1.0],\n",
        "    [3.0, -1.0, 0.5],\n",
        "    [0.5, 1.0, 1.0],\n",
        "    [1.0, 1.0, -1.0]\n",
        "]\n",
        "\n",
        "ys = [1.0, -1.0, -1.0, 1.0]"
      ],
      "metadata": {
        "id": "I3ECEYw-F8zM"
      },
      "execution_count": null,
      "outputs": []
    },
    {
      "cell_type": "code",
      "source": [
        "for k in range(20):\n",
        "  #forward pass\n",
        "  ypred = [n(x) for x in xs]\n",
        "  loss = sum((yout - ygt)**2 for ygt,yout in zip(ys, ypred))\n",
        "\n",
        "  #backward pass\n",
        "  for p in n.parameters():\n",
        "    p.grad = 0.0\n",
        "  loss.backward()\n",
        "\n",
        "\n",
        "  #update\n",
        "  for p in n.parameters():\n",
        "    p.data += -0.05 * p.grad\n",
        "\n",
        "  print(k, loss.data, )\n",
        "\n"
      ],
      "metadata": {
        "colab": {
          "base_uri": "https://localhost:8080/"
        },
        "id": "ZRHRFgXWZSIE",
        "outputId": "32d6a86b-41cc-4582-83c2-c73fd3e86d2d"
      },
      "execution_count": null,
      "outputs": [
        {
          "output_type": "stream",
          "name": "stdout",
          "text": [
            "0 2.6272079522243044e-05\n",
            "1 2.6269619121646446e-05\n",
            "2 2.6267159185813874e-05\n",
            "3 2.6264699714610937e-05\n",
            "4 2.6262240707906475e-05\n",
            "5 2.6259782165569354e-05\n",
            "6 2.6257324087466054e-05\n",
            "7 2.625486647346549e-05\n",
            "8 2.625240932343579e-05\n",
            "9 2.6249952637245915e-05\n",
            "10 2.624749641476162e-05\n",
            "11 2.6245040655855137e-05\n",
            "12 2.6242585360389846e-05\n",
            "13 2.6240130528238018e-05\n",
            "14 2.6237676159267926e-05\n",
            "15 2.623522225334543e-05\n",
            "16 2.6232768810341265e-05\n",
            "17 2.623031583012376e-05\n",
            "18 2.6227863312560466e-05\n",
            "19 2.622541125752056e-05\n"
          ]
        }
      ]
    },
    {
      "cell_type": "code",
      "source": [
        "ypred"
      ],
      "metadata": {
        "colab": {
          "base_uri": "https://localhost:8080/"
        },
        "id": "0MeLtehJWhJE",
        "outputId": "84cf2934-bcdf-4001-df96-9a171093e5c6"
      },
      "execution_count": null,
      "outputs": [
        {
          "output_type": "execute_result",
          "data": {
            "text/plain": [
              "[Value(data = 0.9963808234676531),\n",
              " Value(data = -0.9999975322701918),\n",
              " Value(data = -0.9999988634103453),\n",
              " Value(data = 0.9963768846135261)]"
            ]
          },
          "metadata": {},
          "execution_count": 86
        }
      ]
    },
    {
      "cell_type": "code",
      "source": [],
      "metadata": {
        "id": "D6Z9eV-0WiM6"
      },
      "execution_count": null,
      "outputs": []
    }
  ]
}